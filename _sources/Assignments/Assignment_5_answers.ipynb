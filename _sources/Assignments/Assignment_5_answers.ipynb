{
  "cells": [
    {
      "cell_type": "markdown",
      "metadata": {
        "colab_type": "text",
        "id": "view-in-github"
      },
      "source": [
        "<a href=\"https://colab.research.google.com/github/mwelland/ENGPYHS_3NM4/blob/main/Assignments/Assignment_5_answers.ipynb\" target=\"_parent\"><img src=\"https://colab.research.google.com/assets/colab-badge.svg\" alt=\"Open In Colab\"/></a>"
      ]
    },
    {
      "cell_type": "markdown",
      "metadata": {
        "id": "45R_c9VvNAy7"
      },
      "source": [
        "#Assignment 5\n",
        "\n",
        "Due EOD Monday Oct 21st.\n",
        "\n"
      ]
    },
    {
      "cell_type": "markdown",
      "metadata": {
        "id": "EmStFmfzQoKP"
      },
      "source": [
        "# Question 1:\n",
        "\n",
        "{Method, answer}"
      ]
    },
    {
      "cell_type": "markdown",
      "metadata": {
        "id": "CR1xz7DYvxxp"
      },
      "source": [
        "Discussion:\n",
        "* Consider some parameters are in the exponential and some aren't. Do you think the optimizer is going to treat everything evenly or will some parameters be more sensative? (the solution is more sensative to the terms in the exponential. You can mitigate this a little by taking the ln of the function which is the 'alternate answer')\n",
        "*  The data given is equally spaced in T. What would happen if the data were not evenly spaced? (Nothing - curve fit does not require evenly spaced data)"
      ]
    },
    {
      "cell_type": "markdown",
      "metadata": {
        "id": "9oWpqDrCR4No"
      },
      "source": [
        "Given the data in (T, k) columns,"
      ]
    },
    {
      "cell_type": "code",
      "execution_count": 5,
      "metadata": {
        "id": "bBt_2f5m8TgJ"
      },
      "outputs": [],
      "source": [
        "import numpy as np\n",
        "data = np.array([[2.73000000e+02, 4.45900132e+03],\n",
        "       [2.76030303e+02, 4.41776331e+03],\n",
        "       [2.79060606e+02, 7.02912764e+03],\n",
        "       [2.82090909e+02, 8.07233255e+03],\n",
        "       [2.85121212e+02, 1.35655353e+04],\n",
        "       [2.88151515e+02, 1.53935301e+04],\n",
        "       [2.91181818e+02, 1.66518521e+04],\n",
        "       [2.94212121e+02, 2.57056205e+04],\n",
        "       [2.97242424e+02, 2.80402378e+04],\n",
        "       [3.00272727e+02, 3.52850720e+04],\n",
        "       [3.03303030e+02, 2.53348206e+04],\n",
        "       [3.06333333e+02, 6.20422294e+04],\n",
        "       [3.09363636e+02, 5.65720969e+04],\n",
        "       [3.12393939e+02, 8.94469023e+04],\n",
        "       [3.15424242e+02, 9.65941942e+04],\n",
        "       [3.18454545e+02, 1.14139663e+05],\n",
        "       [3.21484848e+02, 1.00384893e+05],\n",
        "       [3.24515152e+02, 1.60315046e+05],\n",
        "       [3.27545455e+02, 1.75487522e+05],\n",
        "       [3.30575758e+02, 2.79200552e+05],\n",
        "       [3.33606061e+02, 2.83492579e+05],\n",
        "       [3.36636364e+02, 2.19343286e+05],\n",
        "       [3.39666667e+02, 3.46339717e+05],\n",
        "       [3.42696970e+02, 3.29907107e+05],\n",
        "       [3.45727273e+02, 2.99334626e+05],\n",
        "       [3.48757576e+02, 4.85091915e+05],\n",
        "       [3.51787879e+02, 7.28675595e+05],\n",
        "       [3.54818182e+02, 9.91612106e+05],\n",
        "       [3.57848485e+02, 9.39914377e+05],\n",
        "       [3.60878788e+02, 1.46925677e+06],\n",
        "       [3.63909091e+02, 1.46126057e+06],\n",
        "       [3.66939394e+02, 1.35738053e+06],\n",
        "       [3.69969697e+02, 1.14736966e+06],\n",
        "       [3.73000000e+02, 2.10254656e+06],\n",
        "       [3.76030303e+02, 1.12017395e+06],\n",
        "       [3.79060606e+02, 2.34226319e+06],\n",
        "       [3.82090909e+02, 2.22858410e+06],\n",
        "       [3.85121212e+02, 3.26613076e+06],\n",
        "       [3.88151515e+02, 3.68055559e+06],\n",
        "       [3.91181818e+02, 2.37869512e+06],\n",
        "       [3.94212121e+02, 4.10021974e+06],\n",
        "       [3.97242424e+02, 3.84314791e+06],\n",
        "       [4.00272727e+02, 6.46893402e+06],\n",
        "       [4.03303030e+02, 5.35422811e+06],\n",
        "       [4.06333333e+02, 7.73962115e+06],\n",
        "       [4.09363636e+02, 8.41409713e+06],\n",
        "       [4.12393939e+02, 7.81006766e+06],\n",
        "       [4.15424242e+02, 8.35579617e+06],\n",
        "       [4.18454545e+02, 1.03669786e+07],\n",
        "       [4.21484848e+02, 1.02992887e+07],\n",
        "       [4.24515152e+02, 6.39189417e+06],\n",
        "       [4.27545455e+02, 1.36405449e+07],\n",
        "       [4.30575758e+02, 1.49410729e+07],\n",
        "       [4.33606061e+02, 2.09149077e+07],\n",
        "       [4.36636364e+02, 2.14703032e+07],\n",
        "       [4.39666667e+02, 2.11464887e+07],\n",
        "       [4.42696970e+02, 2.60359855e+07],\n",
        "       [4.45727273e+02, 3.19593647e+07],\n",
        "       [4.48757576e+02, 2.84547486e+07],\n",
        "       [4.51787879e+02, 2.98421720e+07],\n",
        "       [4.54818182e+02, 3.54693846e+07],\n",
        "       [4.57848485e+02, 4.17941703e+07],\n",
        "       [4.60878788e+02, 4.65948030e+07],\n",
        "       [4.63909091e+02, 5.74740135e+07],\n",
        "       [4.66939394e+02, 4.12282427e+07],\n",
        "       [4.69969697e+02, 6.43295352e+07],\n",
        "       [4.73000000e+02, 6.78921367e+07],\n",
        "       [4.76030303e+02, 6.87155479e+07],\n",
        "       [4.79060606e+02, 6.70678776e+07],\n",
        "       [4.82090909e+02, 6.23342574e+07],\n",
        "       [4.85121212e+02, 9.48617775e+07],\n",
        "       [4.88151515e+02, 9.34710486e+07],\n",
        "       [4.91181818e+02, 8.25781385e+07],\n",
        "       [4.94212121e+02, 1.02888832e+08],\n",
        "       [4.97242424e+02, 9.99071191e+07],\n",
        "       [5.00272727e+02, 1.01319698e+08],\n",
        "       [5.03303030e+02, 1.32602108e+08],\n",
        "       [5.06333333e+02, 1.31923942e+08],\n",
        "       [5.09363636e+02, 1.00146518e+08],\n",
        "       [5.12393939e+02, 1.48398130e+08],\n",
        "       [5.15424242e+02, 2.01128065e+08],\n",
        "       [5.18454545e+02, 2.25792703e+08],\n",
        "       [5.21484848e+02, 1.99863590e+08],\n",
        "       [5.24515152e+02, 2.47074414e+08],\n",
        "       [5.27545455e+02, 2.08548654e+08],\n",
        "       [5.30575758e+02, 1.83449792e+08],\n",
        "       [5.33606061e+02, 2.58856094e+08],\n",
        "       [5.36636364e+02, 3.10038100e+08],\n",
        "       [5.39666667e+02, 3.58956357e+08],\n",
        "       [5.42696970e+02, 3.21512830e+08],\n",
        "       [5.45727273e+02, 4.30773903e+08],\n",
        "       [5.48757576e+02, 4.39179856e+08],\n",
        "       [5.51787879e+02, 4.57110476e+08],\n",
        "       [5.54818182e+02, 3.75292342e+08],\n",
        "       [5.57848485e+02, 3.97574548e+08],\n",
        "       [5.60878788e+02, 4.57516936e+08],\n",
        "       [5.63909091e+02, 2.63845055e+08],\n",
        "       [5.66939394e+02, 4.59249219e+08],\n",
        "       [5.69969697e+02, 5.23677345e+08],\n",
        "       [5.73000000e+02, 7.51098462e+08]])"
      ]
    },
    {
      "cell_type": "markdown",
      "metadata": {
        "id": "p2rr_lXeS2P3"
      },
      "source": [
        "fit a modified Arrhenius curve of the form:\n",
        "\n",
        "$$k = [A +B T]e^{\\frac{-E}{RT}} $$\n",
        "\n",
        "where $R$ is the Ideal gas constant.\n",
        "\n",
        "\n"
      ]
    },
    {
      "cell_type": "markdown",
      "metadata": {
        "id": "ff9EUBCrqPQK"
      },
      "source": [
        "###Answers"
      ]
    },
    {
      "cell_type": "code",
      "execution_count": 8,
      "metadata": {
        "colab": {
          "base_uri": "https://localhost:8080/",
          "height": 517
        },
        "id": "piTetgWr5pLC",
        "outputId": "df300e53-3108-45f3-adef-ec235fc0aad7"
      },
      "outputs": [
        {
          "name": "stdout",
          "output_type": "stream",
          "text": [
            "Fitted A: -2.75e+12\n",
            "Fitted B: 8.10e+09\n",
            "Fitted E: 38529.77\n"
          ]
        },
        {
          "data": {
            "image/png": "[encoded data removed]",
            "text/plain": [
              "<Figure size 640x480 with 1 Axes>"
            ]
          },
          "metadata": {},
          "output_type": "display_data"
        }
      ],
      "source": [
        "# prompt: generate data with 10% noise for an arrhenius equation and then use curvefit to find the parameters\n",
        "\n",
        "import numpy as np\n",
        "import matplotlib.pyplot as plt\n",
        "from scipy.optimize import curve_fit\n",
        "\n",
        "# Define the Arrhenius equation\n",
        "def arrhenius(T, A, B, E):\n",
        "  R = 8.314  # Ideal gas constant in J/(mol*K)\n",
        "  return (A+B*T) * np.exp(-E / (R * T))\n",
        "\n",
        "# Generate some sample data\n",
        "T = np.linspace(273, 573, 100)  # Temperatures in Kelvin\n",
        "A_true = 1e13  # True pre-exponential factor\n",
        "B_true = 2e10  # True pre-exponential factor\n",
        "E_true = 50000  # True activation energy in J/mol\n",
        "\n",
        "k_true = arrhenius(T, A_true, B_true, E_true)\n",
        "k_noisy = k_true * (1 + 0.2 * np.random.randn(len(T)))  # Add 10% noise\n",
        "\n",
        "\n",
        "#data = np.column_stack([T, k_noisy])\n",
        "T, k_noisy = data[:,0], data[:,1]\n",
        "\n",
        "# Fit the Arrhenius equation to the noisy data\n",
        "popt, pcov = curve_fit(arrhenius, T, k_noisy)\n",
        "\n",
        "A_fit, B_fit, E_fit = popt\n",
        "\n",
        "# Print the fitted parameters\n",
        "print(f\"Fitted A: {A_fit:.2e}\")\n",
        "print(f\"Fitted B: {B_fit:.2e}\")\n",
        "print(f\"Fitted E: {E_fit:.2f}\")\n",
        "\n",
        "# Plot the data and the fitted curve\n",
        "plt.plot(T, k_true, label=\"True Arrhenius\")\n",
        "plt.plot(T, k_noisy, 'o', label=\"Noisy Data\")\n",
        "plt.plot(T, arrhenius(T, A_fit, B_fit, E_fit), label=\"Fitted Arrhenius\")\n",
        "plt.xlabel(\"Temperature (K)\")\n",
        "plt.ylabel(\"Rate constant (k)\")\n",
        "plt.legend()\n",
        "plt.show()\n"
      ]
    },
    {
      "cell_type": "markdown",
      "metadata": {
        "id": "UcJsOyK0tGsq"
      },
      "source": [
        "### Alternate answer (Also correct!)"
      ]
    },
    {
      "cell_type": "code",
      "execution_count": 7,
      "metadata": {
        "colab": {
          "base_uri": "https://localhost:8080/",
          "height": 552
        },
        "id": "60YNk9f3smTK",
        "outputId": "3c675d7e-12dd-417d-a625-8269b6ce3819"
      },
      "outputs": [
        {
          "name": "stdout",
          "output_type": "stream",
          "text": [
            "Fitted A: -3.56e+12\n",
            "Fitted B: 2.03e+10\n",
            "Fitted E: 45439.76\n"
          ]
        },
        {
          "name": "stderr",
          "output_type": "stream",
          "text": [
            "C:\\Users\\wellandm\\AppData\\Local\\Temp\\ipykernel_26112\\2359358989.py:4: RuntimeWarning: invalid value encountered in log\n",
            "  return np.log(A+B*T) + (-E / (R * T))\n"
          ]
        },
        {
          "data": {
            "image/png": "[encoded data removed]",
            "text/plain": [
              "<Figure size 640x480 with 1 Axes>"
            ]
          },
          "metadata": {},
          "output_type": "display_data"
        }
      ],
      "source": [
        "# Define the Arrhenius equation\n",
        "def log_arrhenius(T, A, B, E):\n",
        "  R = 8.314  # Ideal gas constant in J/(mol*K)\n",
        "  return np.log(A+B*T) + (-E / (R * T))\n",
        "\n",
        "T, log_k_noisy = data[:,0], np.log(data[:,1])\n",
        "\n",
        "# Fit the Arrhenius equation to the noisy data\n",
        "popt, pcov = curve_fit(log_arrhenius, T, log_k_noisy)\n",
        "\n",
        "A_fit, B_fit, E_fit = popt\n",
        "\n",
        "# Print the fitted parameters\n",
        "print(f\"Fitted A: {A_fit:.2e}\")\n",
        "print(f\"Fitted B: {B_fit:.2e}\")\n",
        "print(f\"Fitted E: {E_fit:.2f}\")\n",
        "\n",
        "# Plot the data and the fitted curve\n",
        "plt.plot(T, k_true, label=\"True Arrhenius\")\n",
        "plt.plot(T, k_noisy, 'o', label=\"Noisy Data\")\n",
        "plt.plot(T, arrhenius(T, A_fit, B_fit, E_fit), label=\"Fitted Arrhenius\")\n",
        "plt.xlabel(\"Temperature (K)\")\n",
        "plt.ylabel(\"Rate constant (k)\")\n",
        "plt.legend()\n",
        "plt.show()\n"
      ]
    },
    {
      "cell_type": "markdown",
      "metadata": {
        "id": "Oiv8j5EQTgds"
      },
      "source": [
        "# Question 2:"
      ]
    },
    {
      "cell_type": "markdown",
      "metadata": {
        "id": "O6UNH8YWvt-3"
      },
      "source": [
        "Discussion:\n",
        "* Which optimization routine are you using? Why?\n",
        "* How would your method change if $r$ were fixed and you had to determine $a$?\n",
        "* Do you need an initial guess for r? How did you get it?\n",
        "* What would happen if the ambient temperature increases 20 degrees?"
      ]
    },
    {
      "cell_type": "markdown",
      "metadata": {
        "id": "Qa8O8Z6nTilH"
      },
      "source": [
        "![Screenshot 2024-10-10 172050.png](data:image/png;base64,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)"
      ]
    },
    {
      "cell_type": "markdown",
      "metadata": {
        "id": "bx2Mhn4HTsG-"
      },
      "source": [
        "A wire carrying an electric current is surrounded by rubber insulation of outer radius $r$. The resistance of the wire generates heat, which is conducted through the insulation and convected into the surrounding air. The temperature of the wire can be shown to be:\n",
        "\n",
        "$$ T = \\frac{q}{2 \\pi} \\bigg[ \\frac{ln(r/a)}{k} + \\frac{1}{hr} \\bigg] + T_\\infty $$\n",
        "\n",
        "where\n",
        "\n",
        "- q = rate of heat generation in wire = 50 W/m\n",
        "- a = radius of wire = 5mm\n",
        "- k = thermal conductivity of rubber = 0.16 W/m · K\n",
        "- h = convective heat-transfer coefficient = 20 W/m2 · K\n",
        "- T∞ = ambient temperature = 280 K\n",
        "\n",
        "Find $r$ that minimizes $T$\n",
        "\n",
        "{method, imlementation, answer}\n"
      ]
    },
    {
      "cell_type": "markdown",
      "metadata": {
        "id": "b69eCtzPl21D"
      },
      "source": [
        "###Answer:\n",
        "\n"
      ]
    },
    {
      "cell_type": "code",
      "execution_count": null,
      "metadata": {
        "colab": {
          "base_uri": "https://localhost:8080/"
        },
        "id": "rniK_UTfl2bU",
        "outputId": "1ea4d83f-22e7-48b6-98a7-c759ebeb0dc8"
      },
      "outputs": [
        {
          "name": "stdout",
          "output_type": "stream",
          "text": [
            "The radius that minimizes temperature is: 0.0080 m\n",
            "The minimum temperature is: 353.11 K\n"
          ]
        }
      ],
      "source": [
        "import numpy as np\n",
        "from scipy.optimize import minimize\n",
        "\n",
        "# Define the temperature equation\n",
        "def temperature(r, q, a, k, h, T_inf):\n",
        "  return (q / (2 * np.pi)) * (np.log(r / a) / k + 1 / (h * r)) + T_inf\n",
        "\n",
        "# Define the parameters\n",
        "q = 50  # W/m\n",
        "a = 0.005  # m\n",
        "k = 0.16  # W/m*K\n",
        "h = 20  # W/m^2*K\n",
        "T_inf = 280  # K\n",
        "\n",
        "# Define the objective function to minimize (temperature)\n",
        "def objective_function(r):\n",
        "  return temperature(r, q, a, k, h, T_inf)\n",
        "\n",
        "\n",
        "# Initial guess for r (must be greater than a)\n",
        "initial_guess = 0.01\n",
        "\n",
        "# Use the minimize function to find the optimal r\n",
        "result = minimize(objective_function, initial_guess, method='Nelder-Mead')\n",
        "\n",
        "# Print the optimal radius\n",
        "print(f\"The radius that minimizes temperature is: {result.x[0]:.4f} m\")\n",
        "print(f\"The minimum temperature is: {result.fun:.2f} K\")"
      ]
    },
    {
      "cell_type": "markdown",
      "metadata": {
        "id": "jsZWrMcNNOf3"
      },
      "source": [
        "# Question 3:"
      ]
    },
    {
      "cell_type": "markdown",
      "metadata": {
        "id": "xM2wUbgLwiWE"
      },
      "source": [
        "Discussion:\n",
        "* What kind of constraints do you have? (equality constraints)\n",
        "* How are you adding the constraints to the system? (How they inform the optimizer -> You have to create equality constraint functions and pass them as arguments)\n",
        "* Right now the problem has $B\\ne0$ and $H=0$. What would you do if $H\\ne 0$ and $B=0$? (Nothing, it works the same way)\n",
        "* If you double the weights of both W_1 and W_2, would your answer change? (No, the optimimum depends only on the ratio of the two - you can see this by factoring one out of the objective)."
      ]
    },
    {
      "cell_type": "markdown",
      "metadata": {
        "id": "kEAvcll3OsWQ"
      },
      "source": [
        "![Screenshot 2024-10-10 165605.png](data:image/png;base64,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)"
      ]
    },
    {
      "cell_type": "markdown",
      "metadata": {
        "id": "o66Q5X11OCNa"
      },
      "source": [
        "A cable fixed at the ends carrier the weights $W_1$ and $W_2$. The potential energy of the system is:\n",
        "\n",
        "$$\\begin{align} V &= -W_1 y_1 - W_2 y_2 \\\\\n",
        "\\end{align} $$"
      ]
    },
    {
      "cell_type": "markdown",
      "metadata": {
        "id": "4ObVBEg6PBA0"
      },
      "source": [
        "The principle of minimum potential energy states that the equilibrium configuration of the system is the one that satisfies geometric constraints and minimizes the potential energy.\n",
        "\n",
        "You will be asked to determine the angles $\\theta_1$, $\\theta_2$, and $\\theta_3$."
      ]
    },
    {
      "cell_type": "markdown",
      "metadata": {
        "id": "YCUy7SsOO3WV"
      },
      "source": [
        "## a) Write out the objective function to be minimized in terms of theta\n",
        "\n",
        "{answer}"
      ]
    },
    {
      "cell_type": "markdown",
      "metadata": {
        "id": "yCOjHMefoxWi"
      },
      "source": [
        "###Answer\n",
        "$$V = -W_1L_1 \\sin(\\theta_1) - W_2[L_1 \\sin(\\theta_1) +L_2 \\sin(\\theta_2)]$$"
      ]
    },
    {
      "cell_type": "markdown",
      "metadata": {
        "id": "b9fkU8kDPcN1"
      },
      "source": [
        "## b) Write out the constraints given the geometry and $B$ and $H$.\n",
        "{answer}"
      ]
    },
    {
      "cell_type": "markdown",
      "metadata": {
        "id": "SQ155-s_pSos"
      },
      "source": [
        "### Answer:\n",
        "\n",
        "$$\\begin{align}\n",
        "L_1 \\cos(θ_1) + L_2 \\cos(θ_2) + L_3 \\cos(θ_3) = B \\\\\n",
        "L_1 \\sin(θ_1) + L_2 \\sin(θ_2) + L_3 \\sin(θ_3) = H\n",
        "\\end{align} $$"
      ]
    },
    {
      "cell_type": "markdown",
      "metadata": {
        "id": "vPSDeOHlP2cI"
      },
      "source": [
        "## c) Determine the equilibrium values of  $\\theta_1$, $\\theta_2$, and $\\theta_3$ given:\n",
        "\n",
        "$L_1 = 1.2 m$, $L_2 = 1.5 m$, $L_3 = 1.0 m$, $B = 3.5 m$, $H = 0$, $W_1 = 20 kN$, and $W2 = 30 kN$.\n",
        "\n",
        "{method, implementation, answer}"
      ]
    },
    {
      "cell_type": "markdown",
      "metadata": {
        "id": "td9S7jNVpql3"
      },
      "source": [
        "### Answer:"
      ]
    },
    {
      "cell_type": "code",
      "execution_count": null,
      "metadata": {
        "colab": {
          "base_uri": "https://localhost:8080/"
        },
        "id": "VO74FgVspp8s",
        "outputId": "4aa6edee-1064-4a0c-d04a-5c2722de16af"
      },
      "outputs": [
        {
          "name": "stdout",
          "output_type": "stream",
          "text": [
            "The equilibrium values of theta are:\n",
            "theta1: 21.36 degrees\n",
            "theta2: 1.25 degrees\n",
            "theta3: -28.02 degrees\n"
          ]
        }
      ],
      "source": [
        "import numpy as np\n",
        "from scipy.optimize import minimize\n",
        "\n",
        "# Define the objective function (potential energy)\n",
        "def objective_function(theta, L1, L2, W1, W2):\n",
        "    theta1, theta2, theta3 = theta\n",
        "    V = -W1 * L1 * np.sin(theta1) - W2 * (L1 * np.sin(theta1) + L2 * np.sin(theta2))\n",
        "    return V\n",
        "\n",
        "# Define the constraint functions\n",
        "def constraint1(theta, L1, L2, L3, B):\n",
        "    theta1, theta2, theta3 = theta\n",
        "    return L1 * np.cos(theta1) + L2 * np.cos(theta2) + L3 * np.cos(theta3) - B\n",
        "\n",
        "def constraint2(theta, L1, L2, L3, H):\n",
        "    theta1, theta2, theta3 = theta\n",
        "    return L1 * np.sin(theta1) + L2 * np.sin(theta2) + L3 * np.sin(theta3) - H\n",
        "\n",
        "\n",
        "# Given parameters\n",
        "L1 = 1.2\n",
        "L2 = 1.5\n",
        "L3 = 1.0\n",
        "B = 3.5\n",
        "H = 0\n",
        "W1 = 20\n",
        "W2 = 30\n",
        "\n",
        "# Initial guess for theta\n",
        "initial_guess = [0.1, 0.1, 0.1]\n",
        "\n",
        "# Define the constraints\n",
        "cons = ({'type': 'eq', 'fun': constraint1, 'args': (L1, L2, L3, B)},\n",
        "        {'type': 'eq', 'fun': constraint2, 'args': (L1, L2, L3, H)})\n",
        "\n",
        "# Use the minimize function to find the optimal theta\n",
        "result = minimize(objective_function, initial_guess, args=(L1, L2, W1, W2), method='SLSQP', constraints=cons)\n",
        "\n",
        "\n",
        "# Print the optimal angles\n",
        "print(f\"The equilibrium values of theta are:\")\n",
        "print(f\"theta1: {np.degrees(result.x[0]):.2f} degrees\")\n",
        "print(f\"theta2: {np.degrees(result.x[1]):.2f} degrees\")\n",
        "print(f\"theta3: {np.degrees(result.x[2]):.2f} degrees\")\n"
      ]
    }
  ],
  "metadata": {
    "colab": {
      "authorship_tag": "ABX9TyOLv4nxEErOOeiSKHQChsiP",
      "include_colab_link": true,
      "provenance": [],
      "toc_visible": true
    },
    "kernelspec": {
      "display_name": "base",
      "language": "python",
      "name": "python3"
    },
    "language_info": {
      "codemirror_mode": {
        "name": "ipython",
        "version": 3
      },
      "file_extension": ".py",
      "mimetype": "text/x-python",
      "name": "python",
      "nbconvert_exporter": "python",
      "pygments_lexer": "ipython3",
      "version": "3.12.4"
    }
  },
  "nbformat": 4,
  "nbformat_minor": 0
}
