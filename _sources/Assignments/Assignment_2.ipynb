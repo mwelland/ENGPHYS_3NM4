{
  "nbformat": 4,
  "nbformat_minor": 0,
  "metadata": {
    "colab": {
      "provenance": [],
      "authorship_tag": "ABX9TyM/GPzWqjqTc5JLDVNBQUOk",
      "include_colab_link": true
    },
    "kernelspec": {
      "name": "python3",
      "display_name": "Python 3"
    },
    "language_info": {
      "name": "python"
    }
  },
  "cells": [
    {
      "cell_type": "markdown",
      "metadata": {
        "id": "view-in-github",
        "colab_type": "text"
      },
      "source": [
        "<a href=\"https://colab.research.google.com/github/mwelland/ENGPYHS_3NM4/blob/main/Assignment_2.ipynb\" target=\"_parent\"><img src=\"https://colab.research.google.com/assets/colab-badge.svg\" alt=\"Open In Colab\"/></a>"
      ]
    },
    {
      "cell_type": "markdown",
      "source": [
        "#Assignment 2\n",
        "Due EOD Monday Sept 23"
      ],
      "metadata": {
        "id": "ombvke8XHtS7"
      }
    },
    {
      "cell_type": "markdown",
      "source": [
        "#Question 1\n",
        "\n",
        "Consider the spring system with spring constants and forces on blocks 1 and 4 noted."
      ],
      "metadata": {
        "id": "8T49I5njBxFO"
      }
    },
    {
      "cell_type": "markdown",
      "source": [
        "![Untitled.png](data:image/png;base64,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)"
      ],
      "metadata": {
        "id": "MV03gk4ACK88"
      }
    },
    {
      "cell_type": "markdown",
      "source": [
        "## a) Write out the equilibrium equations for the positions of the blocks, and form a linear system.\n",
        "{answer}"
      ],
      "metadata": {
        "id": "ZtJ1QtwPCXRc"
      }
    },
    {
      "cell_type": "markdown",
      "source": [
        "##b) Use Gauss-Seidel iterations to solve this system. Use an absolute tolerance on the residual's Frobenius norm of 1e-4 to determine convergence. Report the solution and the number of iterations required.\n",
        "{method, implementation, answer}"
      ],
      "metadata": {
        "id": "UCkHI-I7Do_U"
      }
    },
    {
      "cell_type": "markdown",
      "source": [
        "# Question 2\n",
        "\n",
        "You have a new nuclear fuel type which is an infinite square bar, 1m in edge length. Its thermal conducitivity is $k = 2 W/m^2$. During irradiation, it generate fission heat $Q  = 1 kW/m^3$ and is cooled with heat pipes which keep the surface temperature exactly $100\\ ^0C$.\n",
        "\n",
        "Reminder: The steady-state heat transport equation is:\n",
        "$-\\nabla \\cdot [-k \\nabla T] = -Q$"
      ],
      "metadata": {
        "id": "SjMhJsaW15vk"
      }
    },
    {
      "cell_type": "markdown",
      "source": [
        "## a) Discretize the problem with a 100x100 mesh and find the maximum temperature in steady state.\n",
        "{method, implementation, answer}"
      ],
      "metadata": {
        "id": "QMvQzBjd4u-O"
      }
    },
    {
      "cell_type": "markdown",
      "source": [
        "## b) Ideally, your solution will be independant of your mesh size. Conduct a *mesh sensativity analysis* (which means to halve the mesh size and rerun) to check if your solution depend on your discretization. Use an iterative method and comment on the effectiveness of an ILU preconditioner.\n",
        "\n",
        "{method, implementation, answer}"
      ],
      "metadata": {
        "id": "4qfHwbbS8mGQ"
      }
    }
  ]
}