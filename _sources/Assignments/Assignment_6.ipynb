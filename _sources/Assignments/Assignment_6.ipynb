{
  "nbformat": 4,
  "nbformat_minor": 0,
  "metadata": {
    "colab": {
      "provenance": [],
      "toc_visible": true,
      "authorship_tag": "ABX9TyNPXUevVODY24m2ORmb9bCM",
      "include_colab_link": true
    },
    "kernelspec": {
      "name": "python3",
      "display_name": "Python 3"
    },
    "language_info": {
      "name": "python"
    }
  },
  "cells": [
    {
      "cell_type": "markdown",
      "metadata": {
        "id": "view-in-github",
        "colab_type": "text"
      },
      "source": [
        "<a href=\"https://colab.research.google.com/github/mwelland/ENGPYHS_3NM4/blob/main/Assignments/Assignment_6.ipynb\" target=\"_parent\"><img src=\"https://colab.research.google.com/assets/colab-badge.svg\" alt=\"Open In Colab\"/></a>"
      ]
    },
    {
      "cell_type": "markdown",
      "source": [
        "#Assignment 6\n",
        "Due: Thursday Nov 7th EOD\n",
        "\n",
        "Note: The lab on Monday the 11th will have an oral discussion based on the topic and your answers"
      ],
      "metadata": {
        "id": "XtDASns_9rsz"
      }
    },
    {
      "cell_type": "markdown",
      "source": [
        "# Q1"
      ],
      "metadata": {
        "id": "T41St6WGqfrX"
      }
    },
    {
      "cell_type": "markdown",
      "source": [
        "You are calculating the temperature profile in an nuclear plate fuel that is 1mm thick; much thinner than the other dimensions. In a 1D model through the thickness, the temperature obeys the Fourier heat balance law with a heat source:\n",
        "\n",
        "$$ \\nabla \\cdot \\lambda \\nabla T = -Q $$\n",
        "\n",
        "The boundary conditions are $T=300$ on all outer surfaces."
      ],
      "metadata": {
        "id": "HqYLalU2qiz3"
      }
    },
    {
      "cell_type": "markdown",
      "source": [
        "## 1a\n"
      ],
      "metadata": {
        "id": "RD0dqdqZt8Y0"
      }
    },
    {
      "cell_type": "markdown",
      "source": [
        " Write the finite difference scheme for Fourier heat balance equation.\n",
        "\n",
        " {answer}"
      ],
      "metadata": {
        "id": "ZsPJbNDT-6vS"
      }
    },
    {
      "cell_type": "markdown",
      "source": [
        "## 1b"
      ],
      "metadata": {
        "id": "vC-JiUTkr9_m"
      }
    },
    {
      "cell_type": "markdown",
      "source": [
        "Assuming $Q = 1 kW/m^3$, and $\\lambda = 2 \\frac{mW}{m \\cdot K}$, use the finite difference method to find a solution with step size $10  \\mu m$\n",
        "\n",
        "{implementation, answer}`"
      ],
      "metadata": {
        "id": "tRLaTaF4-4Xq"
      }
    },
    {
      "cell_type": "markdown",
      "source": [
        "## 1c"
      ],
      "metadata": {
        "id": "Ouzc8OVhsa_5"
      }
    },
    {
      "cell_type": "markdown",
      "source": [
        "Write the Finite Difference formula if $\\lambda = 2 + \\frac{T}{300} \\quad \\frac{mW}{m \\cdot K}$\n",
        "\n",
        "{answer}"
      ],
      "metadata": {
        "id": "cTpWz82C--MC"
      }
    },
    {
      "cell_type": "markdown",
      "source": [
        "## 1d"
      ],
      "metadata": {
        "id": "Y6oLjTBA5XLL"
      }
    },
    {
      "cell_type": "markdown",
      "source": [
        "Solve for T with the temperature dependent thermal conductivity\n",
        "\n",
        "{Implementation, answer}"
      ],
      "metadata": {
        "id": "HzRuOOabBGFF"
      }
    },
    {
      "cell_type": "markdown",
      "source": [
        "## Bonus"
      ],
      "metadata": {
        "id": "iiLeGGhO7nBs"
      }
    },
    {
      "cell_type": "markdown",
      "source": [
        "Could you have used the method of solution of 1d to solve 1b (without any prior knowledge?)\n",
        "\n",
        "{answer}"
      ],
      "metadata": {
        "id": "qlwvTNNeBLEf"
      }
    },
    {
      "cell_type": "markdown",
      "source": [
        "#Q2"
      ],
      "metadata": {
        "id": "l493Q-MxFeWo"
      }
    },
    {
      "cell_type": "markdown",
      "source": [
        "The Fourier series shows that periodic functions can be written as an infinite sum of sine and cosine waves:\n",
        "\n",
        " $$f(x)= \\frac{A_0}{2}+\\sum_{n=1}^{\\infty}A_n\\ \\cos{(nx)} + B_n\\ \\sin{(nx)}$$\n",
        "\n",
        "Due to function orthogonality, the values of $A_n$ and $B_n$ can be computed using the following formulae:\n",
        "\n",
        " $$A_n= \\frac{1}{\\pi} \\int_{-\\pi}^{\\pi} f(x) \\cos{(nx)}\\ dx$$\n",
        " $$B_n= \\frac{1}{\\pi} \\int_{-\\pi}^{\\pi} f(x) \\sin{(nx)}\\ dx$$\n",
        "\n",
        "Periodic functions can be approximated by truncating the Fourier series at some $n = N$."
      ],
      "metadata": {
        "id": "u9fSBSZ4FjNT"
      }
    },
    {
      "cell_type": "markdown",
      "source": [
        "## 2a"
      ],
      "metadata": {
        "id": "kR-LRjomekRx"
      }
    },
    {
      "cell_type": "markdown",
      "source": [
        "Write a function that takes a $2-\\pi$ periodic function and a degree $n$, then outputs the $n-th$ Fourier coefficients $[A_n, B_n]$. Use the equations above with a suitable integration method. (Don't use packaged Fourier analysis tools)\n",
        "\n",
        "Test it for a suitable set of functions for which you have an analytic answer.\n",
        "\n",
        "{implementation, answer}"
      ],
      "metadata": {
        "id": "o7amKudCe1Qd"
      }
    },
    {
      "cell_type": "markdown",
      "source": [
        "## 2b\n",
        "Find the coefficients of the following functions and expansion orders:\n",
        "{All answers}"
      ],
      "metadata": {
        "id": "GpoohbWPe4ku"
      }
    },
    {
      "cell_type": "code",
      "source": [
        "f = lambda x: np.mod(x, np.pi/2)\n",
        "N = 5"
      ],
      "metadata": {
        "id": "2JxFvWwafFqf"
      },
      "execution_count": null,
      "outputs": []
    },
    {
      "cell_type": "code",
      "source": [
        "f = lambda x: np.mod(x, np.pi/2)\n",
        "N = 20"
      ],
      "metadata": {
        "id": "RfvyzuPtfSr4"
      },
      "execution_count": null,
      "outputs": []
    },
    {
      "cell_type": "code",
      "source": [
        "f = lambda x: (x > -np.pi/2) & (x < np.pi/2)\n",
        "N = 2"
      ],
      "metadata": {
        "id": "lz37fO1LfX-u"
      },
      "execution_count": null,
      "outputs": []
    },
    {
      "cell_type": "code",
      "source": [
        "f = lambda x: (x > -np.pi/2) & (x < np.pi/2)\n",
        "N = 20"
      ],
      "metadata": {
        "id": "VmtjFPqbfcdz"
      },
      "execution_count": null,
      "outputs": []
    },
    {
      "cell_type": "markdown",
      "source": [
        "# Q3:"
      ],
      "metadata": {
        "id": "qI_vg8UYbOQ9"
      }
    },
    {
      "cell_type": "markdown",
      "source": [
        "Given a cubic $f(x)$ with $$\\int_{-1}^1 f(x) dx = 3$$ and $$f(-3^{-\\frac{1}{2}}) = 1$$\n",
        "\n",
        "What is $f(3^{-\\frac{1}{2}})$? Why?\n",
        "\n",
        "{answer}"
      ],
      "metadata": {
        "id": "g-3U-3KIbReY"
      }
    }
  ]
}