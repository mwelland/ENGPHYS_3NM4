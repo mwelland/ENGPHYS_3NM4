{
  "nbformat": 4,
  "nbformat_minor": 0,
  "metadata": {
    "colab": {
      "provenance": [],
      "toc_visible": true,
      "include_colab_link": true
    },
    "kernelspec": {
      "name": "python3",
      "display_name": "Python 3"
    },
    "language_info": {
      "name": "python"
    }
  },
  "cells": [
    {
      "cell_type": "markdown",
      "metadata": {
        "id": "view-in-github",
        "colab_type": "text"
      },
      "source": [
        "<a href=\"https://colab.research.google.com/github/mwelland/ENGPYHS_3NM4/blob/main/Assignments/Assignment_1_Answers.ipynb\" target=\"_parent\"><img src=\"https://colab.research.google.com/assets/colab-badge.svg\" alt=\"Open In Colab\"/></a>"
      ]
    },
    {
      "cell_type": "markdown",
      "source": [
        "#Assignment 1\n",
        "\n",
        "Due end of day Monday Sept 16th."
      ],
      "metadata": {
        "id": "XY9jOMu9oH0x"
      }
    },
    {
      "cell_type": "markdown",
      "source": [
        "##Question 1:\n",
        "{method, implementation, answer}\n",
        "\n",
        "Examine the value of sparse matricies by comparing the approximate computational efficiencies of sparse and dense solvers (on the same system). Use the %timeit function to approximate the complexity.\n",
        "\n",
        "HINT: Refer to the last example from Thursday's lecture on how to generate, store, and apply sparse solvers.  "
      ],
      "metadata": {
        "id": "_8O2j2E3oM0Z"
      }
    },
    {
      "cell_type": "markdown",
      "source": [
        "> Understand question: How does %timeit measure complexity? (It doesn't. It measures the time of execution which is a proxy for the algorithmic complexity)\n",
        "\n",
        "> Plan for solution: How are you going to compare efficiencies of methods? (Use %timeit, but change the number of degrees of freedom to see how the computational complexity depends on the size of the problem).\n",
        "\n",
        "> Modification: What if I gave you a new function 'operation count?' (The operation count is the actual quantity of interest for complexity, so you should use it instead of %timeit)"
      ],
      "metadata": {
        "id": "HOx4jNZE1Pwj"
      }
    },
    {
      "cell_type": "code",
      "source": [
        "import numpy as np\n",
        "from scipy.sparse import diags\n",
        "from scipy.sparse.linalg import spsolve\n",
        "from scipy.linalg import solve\n",
        "\n",
        "def run_test(n):\n",
        "  # Generate a random sparse matrix]\n",
        "  main_diag = np.full(n, 2)\n",
        "  upper_diag = np.full(n - 1, -1)\n",
        "  lower_diag = np.full(n - 1, -1)\n",
        "  A_sparse = diags([lower_diag, main_diag, upper_diag], offsets=[-1, 0, 1], format='csr')\n",
        "\n",
        "  # Generate a random right-hand side vector\n",
        "  b = np.random.rand(n)\n",
        "\n",
        "  # Solve the sparse system\n",
        "  result = %timeit -oq x_sparse = spsolve(A_sparse, b)\n",
        "  t_sparse = result.average\n",
        "\n",
        "  # Convert the sparse matrix to a dense matrix\n",
        "  A_dense = A_sparse.toarray()\n",
        "\n",
        "  # Solve the dense system\n",
        "\n",
        "  result = %timeit -oq x_dense = solve(A_dense, b)\n",
        "  t_dense = result.average\n",
        "\n",
        "  print(f\"For n: {n} sparse: {t_sparse:.2e} dense: {t_dense:.2e}\")\n",
        "\n",
        "\n",
        "run_test(100)\n",
        "run_test(200)\n",
        "run_test(400)\n",
        "run_test(800)\n",
        "run_test(1600)\n",
        "run_test(3200)\n",
        "run_test(6400)\n",
        "\n",
        "print(\"The dense solver takes ~x8 more time for doubling n and is therefore ~O(n^3) as we expect.\")\n",
        "print(\"The sparse solver takes ~x2 more time for doubling n and is therefore ~O(n) (great success but seldom the actual case...!)\")"
      ],
      "metadata": {
        "colab": {
          "base_uri": "https://localhost:8080/"
        },
        "id": "0DgdvrpYqV1h",
        "outputId": "e2281b8a-5541-405b-fe77-5dd741a32d7e"
      },
      "execution_count": 1,
      "outputs": [
        {
          "output_type": "stream",
          "name": "stdout",
          "text": [
            "For n: 100 sparse: 3.40e-04 dense: 2.53e-04\n",
            "For n: 200 sparse: 1.12e-04 dense: 1.16e-03\n",
            "For n: 400 sparse: 1.80e-04 dense: 7.63e-03\n",
            "For n: 800 sparse: 4.26e-04 dense: 1.01e-01\n",
            "For n: 1600 sparse: 1.30e-03 dense: 2.68e-01\n",
            "For n: 3200 sparse: 1.37e-03 dense: 1.04e+00\n",
            "For n: 6400 sparse: 3.69e-03 dense: 7.21e+00\n",
            "The dense solver takes ~x8 more time for doubling n and is therefore ~O(n^3) as we expect.\n",
            "The sparse solver takes ~x2 more time for doubling n and is therefore ~O(n) (great success but seldom the actual case...!)\n"
          ]
        }
      ]
    },
    {
      "cell_type": "markdown",
      "source": [
        "## Question 2\n",
        "\n",
        "Consider the truss:\n",
        "\n",
        "![image.png](data:image/png;base64,iVBORw0KGgoAAAANSUhEUgAAAMEAAAB8CAIAAABfdENgAAAWOklEQVR4Ae2djVcTx97H73+yeVhBoL4AarVKiWhrldve6wtSrPWlWkWwaOmD2BKwBV8w4SVU5LVQLIH2kmiXVuk9Ja05V2IOtuJJaOHgtsVeyQkKLFVSozSYfZ5kwrJJNslmsxs2uDkezzA7s/vd3++zM7MzszN/w4WfYIHgLPC34LILuQUL4PxmyGYe7rvV6/zp0bEngsd4aAF+M2QdQzXnd0VEig+WtX3Zej77tZW7z/eMWnlox2dZEr8ZwnHbUFs6tLXaYLY76ZG2eFHkKw3908+yx/h37zxnyGpCjkStkt14ZLOb7qGmIEZgiHcQ8Zyh+125qxdLNA9xHLfe65G/EZ0i7RbqMp5RxJyhwcHb17q117q1JpPp8uXO8XHsWrcWhkRs3qC94IkVbz9akH/kwP4jhdVfG0aFZjWbBmblXAwZGhy8La+samlpq29orG9obGlpk1dWnSmRscqQ7VGPbHXEkQ6T0IhmxddcnYQhQ9e6tZ4Asc2Que/8Vjit7Y6jLWQ3gNXU0yj9sPXWJFfWEM7LxALMGXIrgc6UyFhmaEpf/dLSzc2DT8F9mfsuvCNRDT1mcpdCHi4twJAhg6GPXIUBgNhjyGYduXXlfPZKKDZF0qId+hPHnwy17Y/ekitvvCw0ibjkgcm5GTJ0+XIn0QYiAGKPIc87Ge7Yn1KoufdQeybxIGIiajfPhEJMyC3AkCHQpibTc6ZEplRdYrVNTTbG/a7cNGnPQ3wEOfByw4DQyUi2zVyHGTJ0rVvrCZC8soozhp6a+xV5xe3/+bz87FWjs4U017YTrg8swA5DStWloqJTKRs3wZAoKzPTaDQGZF8URS0Wi/8s1skHf7oXQRiGffnllz/1/eQ/u0cKi8XSqlDAkChZLG5VKDyOCxG0LMCQIYOhjyiHlKpLstKKNateUKvVOI6r1epksZjWxR2JUBRd8twiGBJtT02tr6tDUZROXqPRWF9X9/L69bFRC2FIVFtTSyeXW5oOBMnKzMQcv6zMTJ1O55ZA+JOOBRgydPlyJ2BIqbokr6wqK604lHGIuF56WhoMifj/b9vWrQSyOp1Okp9P3IIQoG8BhgwNDt4GjWjQWy2VlSUlJoL6yGKxJCUmYhhGUwSKosvjExbFxMCQ6L2cHI1GQ6deQ1G0VaHYnpoKQ6LIiAhm5ZAkPx+UnTiOtyoUVeeqaGoWkpEtwJAhpeoSKIGI3uqdO3YeyjjUgSCvb097NeXv9OsFDMMKJBKdTkcHHbJ0ELZYLHq9PtAWGMiLoigMiVoVivKy8jUvvPDGjh0TExOelxBifFuAIUOU42VZWdk7Xk/X6XRGozFZLKaPkW+JnB7FMOz06dOrV67CMCzn3XefX7ZcwChQgzNkyO94mdFoTEpMbGlpCVRQ6NOr1ep1a9eC6+7a+aaAUaAuYM6Q3/Gyn3/+OTIi4pOGhkA1hTg9mSEcxwWMArU/Q4ZojpfdvHmT/xi5MSRgFCKGPMfLWlraKMfL+I+RJ0MCRgFhxLAcchsvA+Ov3sbLeI4RJUMCRvQxYsgQebyMAMjHeBmfMfLGEMAobvGSX3/9lb5Bn8GUDBnCcVypugSmVA8O3gaB8XHMx5grbzHywRDAKDZqoYCRj2eDOUM+TurtED8x8s2QgJE3bxLxIWUIx3EeYuSXIQKj/p9/Vra3M+tPJyw+/wKhZoiHGNFhCGAU+T8RMCSqr6ubfxwEc0dzwBCBUU119Xs5OTdu3AjmBoLPS5OhsyUlgCEYEtEfUQ5eHv/PMDcM4Th+/fp1MDlknXjt3NYONBk6npcHJhfAkGjvnj38d23IFM4ZQ+/l5ACGYiKj5nYOIU2GcBxHUTQrMwvIVnd1hcxJPL/QnDGk1+s3btiwEF4AQ6LnomPmsHagzxDwJYqi/3ztH4uiY5hNOOE5EAzkzRlDQKtGo3lx9RoYEu3ZvZuuelYXttq4YQMx35KuAEc6nU6XLBbTwohVwQGJDE3iOWYI3KRKpYqNWkh3vhGrC1sRVerWzZsDtThdjFgVHKjIEKTnBUM4jgc0bY3Fha10Ol10ZBTjN3aaGLEoOARMBHoJvjAUCEZsLmxlsVgcM7JhYnJ+oBakgRGbggOVF4L0PGKINkYsL2y1f98+H8N8dHzgDyOWBdORFMo0/GKIFkZsL2ylbG9PSkwM0ui+MGJbcJBSWc/OO4b8YcT+wlYoirLyZZkXjNgXzDoEQZ6Qjwz5xMhlYSubuf+rSpm8rWfEynwpELYYwnGcCiMXwTg+ZdIqKivKSpHBqSBdx5vsPGXIK0YuC1uZ+5DL/ROo6mCavNex+DAjs7owFHRfjjtGLoJxfFJbelL5Y++8Wq+dvwx5YOS5sJUdGZv5Vs2h+r4plsohNvpyCIw8VuKyjnad+seLy16VIKh5/ixewmuGPDDyLGce3elule5+7VjXfc9jNGNcyiGWVlUnMKLQYHvQ/0nGVmKNQIoUYRbFd4ZoYGR70lOWHoRLXBlirS/HB0bTA41759Fq/2HAkHeMsBsNZ6vbvqguKOsyMW+hujLEZl+OB0bmvuYPzzY3y4vb+szuCymFWeFDkhseDHnFyPbowQPm9AA7uDDEdl+OO0ZsCCa5jxfBsGHIK0ZBm5HEECd9Oe4YBS2YbycIJ4Y4wojEkFtfjn2rIlRZ+pnhzyDdNr8xCjOGuMBoliG3vhz8qbn3XAq0KZjOJwK+eYxR+DHEOkaAIY++HBw332yQf/VN+dusMOSlF5tgLIwDYckQuxjNlkNkP9rGtfIqzdgfvRWsMTRfMQpXhljEiJqh6aGucxXyirPHtialvt95h703cVCp6fV6MrFhHQ5jhtjCqLysPD0tzYsXzeyWQ+AqOp0OhkR05/56Ucaf6PBmiBWMNm54JWFpXIhdMp8wCnuGAEaJq1cze6wxzL5WSVQEHPqPkwBGSqUyxPiyfjkeMvTnHa2mbwzsnWizjv0ys8H9LyPDann2wfSdhaqBB8QwvcViycrMLJBImK1ECxwJQ6LOK1fYMC4h3r9yHMeP5+XNg0qNbwxNmw11aREzXTK2+5qCl8D3X9EZF9r/N/MC+vgp2rzlxfMGB2NGozE9LQ0scG5ktKBxcVExOP/21NSgGSKJ96ccoJ+VmanRaMIdI34xZJv8oTJtdbyzW8/2123F4Wr9zHjYcMf+rfaumomuY8sreq04hmHJYjF5hXwGGIFvFGMX2jf9CJIhsnjfygFAtTW1YKEBUBYyq4uD1MxKdj4xZJvo/fjkZ983HwAM2R/lTeKdkuqLNx1TXa1j3bI9eYrvlWUnkN8mHVUYGSBgDqPRuCgmJuNgBs32jdFohCHR4awsxt8GOd1AFn/zNx/KrTheW1OblZlJ9h/A6P3jx+d2+QqyJPph/jA0PaGtyGlD/xpBnAxZBjoqS4vfSxdHwCt21/VO2LtobObRe45ZEzKpVCaVUt6nSqUC1VNxUTEdkmBIFPScfFfx13p8KAebFXmyolarwdIDrQqF51HKO+VJJF8Yso1ePV349V2rzb5TossQ1bR5qLM4ZenKom5iO2m1Wp2elubD0Lt27iS+ove75FTwDHkRT6EcFHvevtLfu2cPkB23eMncroUSEJ38YMhm6srbfqDi8w4E6WiWpECrDlRcdGwFDO5lGuvKXxxnbwPhuLMZ5LvqMRqNsQujaTaWg2XIl3gX5TiOZ2VmEjsVefoJdDQA2QlL43w8JJ555zCGHwxNo6qcgwf2v23/t3PTMihWvDVTrh0l7GIbVu7do7zreKGvran1bAYRKYnA2ZIS4Iya6moikjIQLEM+xZOV63Q6t2aQpx6wryMMiUplMs+j/IzhB0Nk28zUZTbz8E8o6CZ6fFd54kPNfdtMIUTnAbVYLP+/0eL169f9bvYQLEMe4is0A57KcRxPT0vzXXziOO54Zcv69zf/9iubfNm5DTNnaHzcvsvd+DhmdvzGx7GpqSkQGdQtORl6OKk9tRJa9uo7hUW5x2RfDZoDKYTIAvyuRMs2Q+s+KHrXUzmdQigg2eTEcxtmyNCdO7/LK6vU6u/qGxrBVopnSmQtLW3B97KQzDFtHu7v7RsG9IBnlNl6mr4xYpMhp3p35aAlFGgPkG/ZJEPNcZAhQ2azWam6RGwLDAL1DY2sMuRummC2XPXhDw4YclcOukPdY2n87UM2jdwhSsKQIbD3VH1DI4ER2M6MU4ZkUqmPlxq/BvPmjxAwpFar6bwHUN6CN9mUieckkiFDU1NTYLMpogSqb2hkuy5zN0iyWEynz9A9G+lvSn+EgCFJfn6gFRlJNR83FyDLY8iQ295TACAf+waRL8ksDMbCmOUl5/LEKAQMMWvG+ZZNPjq3YYYM3bnzO1GLgda0vLLK2/5lrNyhXq8PekTCKcQNI64ZYtwYcrObm2y3o3P4J0OGTCaTvLIKYETsX0a5jyJb92bvwkYQts5G9gfXDFHP12Z0J2TZjE7ASSaGDBkMfW4A2ZE6fRaGRBzNNmeXIWLPkNraWhgS7XrzTTr9lsw8wCJDhOwzp093IIjfHktmggPNxZCh8XEMdAuBKkxeWXUk+2jqtm2tCgUxKSxQKRiG7dv7VqtCQWkabwxZLBaNRgOWmabM6EPG1atXV614vramViaVBtpgP56Xt3Xz5vq6Or8X7UAQygFUvV5/tqQkYWlcgUTiQ6TnoYyDB/+ektKqUCSLxZRn9szCaQxDhn744UeiCpNXVn388fmkNYngUbZYLC+uWdOqUHQgiLK9XZKfT/Pf4SznVhjRCyKfi47etmVLWWkpQKcDQfbt3XuyqIj4swNBykpL1yaJwaAY+P9wVhbNa0ny85Xt7UePHCU6C2pratNff51+9uUJCeCisVH2+WsbN2wAt0xWCMLgnET8p01Nu3a++Vx0NMgIQ6LEF1bTv26hpGD7tlRgajBGyykfdE7OkCFQDilVl0BplJt7/P3jx4nrvb1vf21NTQeCfNrURN86BEMwJIpduHB5fEL+Bx/MmP6LcyWnZFKpvLxCXl5Z26LqQJD8Dz5IWpMIQ6LoBZEMGPq0qelw5uzUM71ev23zFvpqn1+23MmQQ+qhjAxle/uMWqQD+aLp4wqH2gqZtPRcYxtx6NOmJufkSQd8DBgiv1tw2iFHONR3gCFDJpPp8uVOYpSj+OTp1ateAF0g4Bs831elPIqiKAyJXl6/vr6uzn2Gjfcl7jAM0+l0xUXF68Rr3XNRXoYUCWoxi8WCYZjvWRmkTM7gvr1vUUsFx70LJk6FomirQrE9NbW8rIyI9BsAZQ+oQME8Kr9ZuE7AkCEwXkbuZjxx4qOUjZtgSJSelhaoL4mb9JGRi+0KLBaLTCoFxQnrDQsuBANDgacUhkTixBd9WIywKtcBhgy5jZeBAonL8TLWlrjzNChgyDM+uBgOBQNh3MhmctMMGSLe7c+UyAiAuGSIzSXu3OzEjTM4FDxPGAJtaqKrGgy4cjhexvYSd2SMOGGIS8HzhCHyeBkBEGfjZZwscUdgxAFD3AqeJwwR42VkgDgbLyMvcfdk1IBUXuwHn1ITHAQT4IChWcGO3SCksmatKYjdICjvjgPZlNfxH8mwPQTGy9wA4mq8jLzEnXXU8MnBFc5PPPzfHp0U7DtjVvDYfz5R/DjU/5UkZXMQK2hT3gX7sikvQyOSIUMGQ19LS1t9QyPoZgR9RRy0qSn2V7D2Voj5yxCFYBy3jiDHMhDwWQoNn9BLEvYMmc3mqakpk8kE5uGTp+XTswDzVPxmiOq+rL9clH7Rz/YGHWHPEJWpQhQXZgzZ/jC0NKtNj60PHvxJLHjDhqkEhpha0Xq/t3pvfO6Xv7O3VwGHzrA96L+QnbzxjQP796YXfTfB9KYp83Eom/J63iMZtoe8nzD8jvDHGQHZjj+yBYZw/jhDYCggC/AoscBQkM4QyqF5Vg49Ge0z/P54pvVuM9+9of666+Zdj+ajzTykVV64aPgDAGTfg7S3t9dlk1DH17r2yF7y18aewAkMzRuGbI+HvpUffCkKyu4YcXTj//WLKiMxak1SUoQITshuu03a8tZ2r1dZsmtB/AFkeIahu7euKgpSFkXv/rTfCdy0edjw/fm34t9p1pG+WBcY8rSAN4ZcH2j8ydjAtW++6rp+27li7YzpWXuaKZT5jKKsgqcN55OcDD19qDn3UdewFWx5u31pdG6Xy4uhtVceN8uQ41LWESQbhiKTC74lRmbo9KQI5ZAnQx4PtG2sR7r/UMP3/QO935zNONQ28NhJEJtPs09gKA5SMuRYRQ6UQ9MPfh0ac9ZploGGNHg/MkI+DcGQdQx11Fe30JG7SP7hj469GpGYMXOPAkNkm3kNUzqD9EDj+GjnkZj3uxwLQj5FmzfPrMhmPyPhidnTM3yaZ09AL0Qpm8QQ+SwT2qKUHW2/uGxlTSj/a+DC6+mF7Vp07NEIUiy/aey/kLUiYsup7ns2+/35H1l6psshDMPAJG4YEqGO36zh7csgzTQsJrqOLUjMuNBntk1jXZLEI1dMM23WWYaCfppnL00vRJ8h28TVEzuqeidd960BDLVrNbKTNT0mRwPKameo14xbh7sKNsEJR1VDFoEhP94okEiWxzs/8Vm3di0gyZmHzBBuGVIeXQElHig5U1B4cYD8jsPe0+xH68xhDMNWrlgBAAL/H8/LmzmIU5RDthHNqWKXBjVIbVcOx8fFr877dtT5SMwwZG9CGT7ZvSwqpbz7W6nfEe5nuhzqvHKF7AwYEs1+7erCEI5bf1O9s25ZRGxy9uczry0OV7D3NM9y4C/kpvlsSclsDjfZtgf9LeVNhj+IcnM2pV350jc+Kj6UID6KDLmUQ/ZENqupM295ZHzcUr8zbZ5phjAMWxQTQ7jkvZycWROTnWG7130y44TGNNmvyEiIXOFel7HzNM9e2l8IfNQLZC+KiSV/nG4bVu4hqmA7QGdkV412PmyTQ511n/USyzMTLbmh0W7pqwt21tg5+2tYWUjaNBJsHSFa5m+mzTPNEI7jL69fD5wRG7XQZYkgEkPTAw2vLDqpfWTD8enJnrKXoLfahp44Hc3e0+yPnNnj5OKTvGuWbcxwpeLtxZD4yPnOvrE/0LbsFZCIeELgVbIb9ltw/GyjfYh014LYFEl733918nWRcEL64cOHdm9JTC361/WhyZl0j+8iuckCQ7O2pwpVnasirDxbkeE4+YF+OtS2Iyb3m1FHef+kR5rgfEeznw/UZQgLTzOVOuo4cvHpUpFRJw8u1ma+d49YEZP6VM96OaTX6+MWL4EhEbkic32grbh9Cse7ablNXdrvlNJCZ+1gryDYfJqp/eMlFhSfcYuXkCsyL2k5j37WGcJxPG7xEveKjMrsjhGl/mHySxlVMuo4Gk8zdUYvsaD4jFu8xMvxkEYLDOGgiUquyELqAUYX0+v1MCQqLChglJvlTAJDuEajceliYdnCXJ1ueXyCy0sAV9fxf16BIf824mcKPqzWACwjMMRPQsJJlcBQOHmLn1oFhvjpl3BSJTAUTt7ip1aBIX76JZxUCQyFk7f4qVVgiJ9+CSdVAkPh5C1+ahUY4qdfwkmVwFA4eYufWgWG+OmXcFIlMBRO3uKnVoEhfvolnFQJDIWTt/ip9f8AeEzCcjc/hzwAAAAASUVORK5CYII=)\n"
      ],
      "metadata": {
        "id": "Eyyj6js9TS7g"
      }
    },
    {
      "cell_type": "markdown",
      "source": [
        "> Understand question: What does LU decomposition mean?\n",
        "\n",
        "> Understand method: What does backsubstitution mean?\n",
        "\n",
        "> Modification - What if I kept 18kN but only doubled the 12 kN?"
      ],
      "metadata": {
        "id": "LSIm_GXr1Ucd"
      }
    },
    {
      "cell_type": "markdown",
      "source": [
        "###2a) Write the linear system for the tensions $P_i$ as equations and in matrix form\n",
        "{answer}"
      ],
      "metadata": {
        "id": "QcdY0wACTwcN"
      }
    },
    {
      "cell_type": "markdown",
      "source": [
        "$$\n",
        "\\begin{eqnarray*}\n",
        "-P_1 + P_2 -\\cos(45) P_3 &= 0 \\\\\n",
        "\\sin(45) P_3 +P_4 - 18 &= 0 \\\\\n",
        "-P_2-\\cos(45) P_5 &= 0 \\\\\n",
        "\\sin(45) P_5 - 12 &= 0 \\\\\n",
        "\\cos(45)P_5 - P_6 &= 0\\\\\n",
        "-P_4 - \\sin(45) P_5 &= 0\\\\\n",
        "\\end{eqnarray*}\n",
        "$$\n",
        "\n",
        "$$\n",
        "A = \\begin{bmatrix}\n",
        "-1 & 1 & -\\frac{1}{\\sqrt{2}} & 0 & 0 & 0 \\\\\n",
        "0 & 0 & \\frac{1}{\\sqrt{2}} & 1 & 0 & 0 \\\\\n",
        "0 & -1 & 0 & 0 & -\\frac{1}{\\sqrt{2}} & 0 \\\\\n",
        "0 & 0 & 0 & 0 & \\frac{1}{\\sqrt{2}} & 0 \\\\\n",
        "0 & 0 & 0 & 0 & \\frac{1}{\\sqrt{2}} & -1 \\\\\n",
        "0 & 0 & 0 & -1 & -\\frac{1}{\\sqrt{2}} & 0 \\\\\n",
        "\\end{bmatrix} \\begin{bmatrix} P_1 \\\\ P_2 \\\\ P_3 \\\\ P_4 \\\\ P_5 \\\\ P_6 \\\\ \\end{bmatrix} = \\begin{bmatrix} 0 \\\\ 18 \\\\ 0 \\\\ 12 \\\\ 0 \\\\ 0 \\\\ \\end{bmatrix}\n",
        "$$\n",
        "\n",
        "\n"
      ],
      "metadata": {
        "id": "HXwjhSEtg45X"
      }
    },
    {
      "cell_type": "markdown",
      "source": [
        "### 2b) Solve for $P_i$ using decomposition and substitution.\n",
        "{method, answer}"
      ],
      "metadata": {
        "id": "O7_OZCNFT04n"
      }
    },
    {
      "cell_type": "code",
      "source": [
        "import numpy as np\n",
        "from scipy.linalg import lu, solve\n",
        "A = np.array([\n",
        "    [-1, 1, -1/np.sqrt(2), 0, 0, 0],\n",
        "    [0, 0, 1/np.sqrt(2), 1, 0, 0],\n",
        "    [0, -1, 0, 0, -1/np.sqrt(2), 0],\n",
        "    [0, 0, 0, 0, 1/np.sqrt(2), 0],\n",
        "    [0, 0, 0, 0, 1/np.sqrt(2), -1],\n",
        "    [0, 0, 0, -1, -1/np.sqrt(2), 0]\n",
        "])\n",
        "\n",
        "b = np.array([0, 18, 0, 12, 0, 0])\n",
        "\n",
        "P,L,U = lu(A)\n",
        "\n",
        "p = solve(U, solve(L, solve(P, b)))\n",
        "print(p)\n",
        "\n",
        "print(\"\\n Check:\\n\", solve(A,b))"
      ],
      "metadata": {
        "colab": {
          "base_uri": "https://localhost:8080/"
        },
        "id": "n-kye5dsk0ld",
        "outputId": "5904933f-028c-4e12-f39f-8e27820f1b82"
      },
      "execution_count": 2,
      "outputs": [
        {
          "output_type": "stream",
          "name": "stdout",
          "text": [
            "[-42.         -12.          42.42640687 -12.          16.97056275\n",
            "  12.        ]\n",
            "\n",
            " Check:\n",
            " [-42.         -12.          42.42640687 -12.          16.97056275\n",
            "  12.        ]\n"
          ]
        }
      ]
    },
    {
      "cell_type": "markdown",
      "source": [
        "###2c)  Double the loads (18 kN and 12 kN) and solve for $P_i$ again *without refactoring*.\n",
        "{answer}"
      ],
      "metadata": {
        "id": "F1QiWtJPUq6e"
      }
    },
    {
      "cell_type": "code",
      "source": [
        "b2 = 2*b\n",
        "p = solve(U, solve(L, solve(P, b2)))\n",
        "print(p)\n",
        "\n",
        "print(\"\\n Check:\\n\", solve(A,b2))"
      ],
      "metadata": {
        "colab": {
          "base_uri": "https://localhost:8080/"
        },
        "id": "YGOQElGkmM1R",
        "outputId": "f16f14a1-4161-4d53-b825-12166c66538d"
      },
      "execution_count": 3,
      "outputs": [
        {
          "output_type": "stream",
          "name": "stdout",
          "text": [
            "[-84.         -24.          84.85281374 -24.          33.9411255\n",
            "  24.        ]\n",
            "\n",
            " Check:\n",
            " [-84.         -24.          84.85281374 -24.          33.9411255\n",
            "  24.        ]\n"
          ]
        }
      ]
    },
    {
      "cell_type": "markdown",
      "source": [
        "## Question 3\n",
        "\n",
        "Consider the matrix:\n",
        "\n",
        "$$ A = \\begin{bmatrix} 1 & 2 \\\\ 3 & 4 \\end{bmatrix}$$"
      ],
      "metadata": {
        "id": "bn1Z6f05VNNI"
      }
    },
    {
      "cell_type": "markdown",
      "source": [
        "> Understand question: What is the condition number telling you? (Tells you how much numerical noisy is going to mess with your answer)\n",
        "\n",
        "> Understand the method: What are you trying for P? (Diagonal scaling is a good choice)\n",
        "\n",
        "> Modification: If I told you A was diagonal, what would your preconditioner be? (Inverse of the diagonal elements)"
      ],
      "metadata": {
        "id": "S-tAJF3f1ok6"
      }
    },
    {
      "cell_type": "markdown",
      "source": [
        "## 3a) Calculate the condition number of A\n",
        "{answer}"
      ],
      "metadata": {
        "id": "B0mIIg2XXh-X"
      }
    },
    {
      "cell_type": "code",
      "source": [
        "A = np.array([[1, 2], [3, 4]])\n",
        "\n",
        "# The condition number of A (with the Frobenius norm)\n",
        "np.linalg.cond(A, 'fro')"
      ],
      "metadata": {
        "colab": {
          "base_uri": "https://localhost:8080/"
        },
        "id": "YS0ZUZ11mYwm",
        "outputId": "a9f8bdbc-a244-4fdc-999b-994425ed9bda"
      },
      "execution_count": null,
      "outputs": [
        {
          "output_type": "execute_result",
          "data": {
            "text/plain": [
              "14.999999999999998"
            ]
          },
          "metadata": {},
          "execution_count": 24
        }
      ]
    },
    {
      "cell_type": "markdown",
      "source": [
        "## 3b) Let's use a preconditioner matrix $P$ to improve the condition number of the product $P^{-1} A$. Give 2 examples of $P$ that improve the condition number.\n",
        "\n",
        "Can you identify the 'perfect' preconditioner? (Consider the easiest matrix to solve!)\n",
        "{answer, answer}"
      ],
      "metadata": {
        "id": "uounfmQUb5fH"
      }
    },
    {
      "cell_type": "code",
      "source": [
        "P1 = np.diag(np.diag(A))\n",
        "\n",
        "print(\"The condition number preconditioned by P :\\n\",P1, \"\\n is \\n\", np.linalg.cond(np.linalg.inv(P1) @ A, 'fro'))\n",
        "\n",
        "P2 = A\n",
        "\n",
        "print(\"\\n\")\n",
        "\n",
        "print(\"The condition number preconditioned by P :\\n\",P2, \"\\n is \\n\", np.linalg.cond(np.linalg.inv(P2) @ A, 'fro'))\n",
        "\n",
        "print(\"The matrix A is the perfect preconditioner since A^-1 A = I\")"
      ],
      "metadata": {
        "colab": {
          "base_uri": "https://localhost:8080/"
        },
        "id": "jaVP7_sHmuSJ",
        "outputId": "32e3e23f-2bb1-434e-c618-51d91b7ee8e0"
      },
      "execution_count": null,
      "outputs": [
        {
          "output_type": "stream",
          "name": "stdout",
          "text": [
            "The condition number preconditioned by P :\n",
            " [[1 0]\n",
            " [0 4]] \n",
            " is \n",
            " 13.124999999999998\n",
            "\n",
            "\n",
            "The condition number preconditioned by P :\n",
            " [[1 2]\n",
            " [3 4]] \n",
            " is \n",
            " 2.0\n",
            "The matrix A is the perfect preconditioner since A^-1 A = I\n"
          ]
        }
      ]
    }
  ]
}