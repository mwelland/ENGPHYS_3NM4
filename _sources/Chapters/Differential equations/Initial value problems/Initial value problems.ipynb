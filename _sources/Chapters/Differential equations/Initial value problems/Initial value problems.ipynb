{
 "cells": [
  {
   "cell_type": "markdown",
   "metadata": {
    "id": "fo-xwPvRi6JQ"
   },
   "source": [
    "# Initial value problems"
   ]
  },
  {
   "cell_type": "markdown",
   "metadata": {
    "id": "h-WWkwJLi9gs"
   },
   "source": [
    "Initial Value Problems are characterised by knowledge of boundary conditions only on one side of the domain. This is typically (but not necessarily) for time-dependent equations, thus the name and following nomenclature.\n",
    "\n",
    "e.g.:\n",
    " $$\\frac{dy}{dt} = y, \\quad y(t=0) = 1$$\n",
    " or\n",
    " $$\\frac{d^2 y}{dt^2} = -g, \\quad y(t=0) = 1000, y'(t=0) = 0$$\n",
    "\n",
    "In these cases we are forced to start at $t=0$ and *time-step* forward until we reach our goal time. This has several implications:\n",
    "\n",
    "\n",
    "*   Error in the soultion will accumulate with successive steps.\n",
    "*   Numerical noise may destabilize the solution scheme.\n",
    "*   Time stepping must resolve the time-scale of the physics we are looking at.\n",
    "*   The time-scale may change mid-problem.\n",
    "*   We will build up a *history* of steps as we go.\n",
    "\n",
    "As with analytical methods, on a high level we obtain a solution by *integrating* the differential equation up until the point of interest. For this reason, solving IVPs are often called *time integrators* and much of the analysis carries over."
   ]
  },
  {
   "cell_type": "markdown",
   "metadata": {
    "id": "OVy67dIwscjT"
   },
   "source": [
    "## Error analysis"
   ]
  },
  {
   "cell_type": "markdown",
   "metadata": {
    "id": "DKr2YGwBselq"
   },
   "source": [
    "As usual, we will discuss error in the context of truncation error. As with other integration schemes,\n",
    "* *Local truncation error* occurs over the time-step due to the approximation of $y_{i+1}$.\n",
    "* *Global / propogated truncation error* is the accumulation of propogated local truncation error and results in overall error of the approximation to the true solution.\n",
    "\n",
    "Later we will discuss a new phenomenon, stability and *stiffness*."
   ]
  },
  {
   "cell_type": "markdown",
   "metadata": {
    "id": "He0Zysf_n8Gh"
   },
   "source": [
    "We will be using the Taylor expansion to analyse error and help deevelop our numerical schemes. Higher accuracy is achieved through estimation of the higher order derivatives. There are two classes of methods that are applied:\n",
    "* Single step methods - Uses information about the current time step\n",
    "* Multistep methods - Uses the history of time steps"
   ]
  }
 ],
 "metadata": {
  "colab": {
   "authorship_tag": "ABX9TyPuD4s8HSpr77Y6Fs00g50N",
   "include_colab_link": true,
   "provenance": [],
   "toc_visible": true
  },
  "kernelspec": {
   "display_name": "Python 3",
   "name": "python3"
  },
  "language_info": {
   "name": "python"
  }
 },
 "nbformat": 4,
 "nbformat_minor": 0
}
