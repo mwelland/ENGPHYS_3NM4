{
 "cells": [
  {
   "cell_type": "markdown",
   "metadata": {},
   "source": [
    "# Romberg rule"
   ]
  },
  {
   "cell_type": "markdown",
   "metadata": {},
   "source": [
    "## Richardson extrapolation"
   ]
  },
  {
   "cell_type": "markdown",
   "metadata": {},
   "source": [
    "Richardson extrapolation is an algorithm that conceptually uses successive applications of the trapezoid rule with differing step size to achieve superior results with less effort."
   ]
  },
  {
   "cell_type": "markdown",
   "metadata": {},
   "source": [
    "The exact integral can always be expressed:\n",
    "$$ I = I'(h) + E(h)$$\n",
    "where $I'(h)$ is the approximation with step $h$ and the associated error $E(h)$. We know that $E(h) \\propto h^2$ for the trapezoid rule. In fact, it is $E(h) \\propto f'' h^2$.\n",
    "\n",
    "Let's sample the interval twice with step sizes $h_1$ and $h_2$. If we assume $f''$ doesn't change much we can say,\n",
    "\n",
    "$$ \\begin{align}\n",
    "\\frac{E(h_1)}{E(h_2)} = \\frac{h_1^2}{h_2^2}.\n",
    "\\end{align}$$\n",
    "\n",
    "Now, since the exact integral is the same in both cases,\n",
    "$$\\begin{align}\n",
    "I'(h_1) + E(h_1) &= I'(h_2) + E(h_2) \\\\\n",
    "I'(h_1) + E(h_2) \\bigg(\\frac{h_1}{h_2}\\bigg)^2 &= I'(h_2) + E(h_2) \\\\\n",
    "E(h_2) &=\\frac{I'(h_1) -I'(h_2)}{1-(\\frac{h_1}{h_2})^2}  \\\\\n",
    "\\end{align}\n",
    "$$\n",
    "\n",
    "and inserted into the formula for $h_2$,\n",
    "\n",
    "$$\n",
    "\\begin{align}\n",
    "I&\\approx I(h_2)+ \\frac{I'(h_1) -I'(h_2)}{1-(\\frac{h_1}{h_2})^2} \\\\\n",
    "\\end{align}\n",
    "$$\n",
    "\n",
    "which can be shown to be accurate to $O(h^4)$!\n",
    "\n",
    "For the special case where $h_1 = 2 h_2$ (which has advantages for overlapping point evaluations)\n",
    "\n",
    "$$\n",
    "I \\approx \\frac{4}{3} I(h_2) -\\frac{1}{3} I(h_1)\n",
    "$$"
   ]
  },
  {
   "cell_type": "markdown",
   "metadata": {},
   "source": [
    "This is an interesting result! Effectively what we have done is use a second estimate to estimate the next power in our expansion, leading to a higher order estimate!"
   ]
  },
  {
   "cell_type": "markdown",
   "metadata": {},
   "source": [
    "## Romberg Integration Algorithm"
   ]
  },
  {
   "cell_type": "markdown",
   "metadata": {},
   "source": [
    "In fact we can repeat this proceedure arbitrarily! Above we combined two order $O(h^2)$ to make $O(h^4)$. We can take this results, combine it with another sampling at $h_3 < h_2$ and combine to get an $O(h^6)$ estimate and so on! If we successively halve the step size, we can get:\n",
    "\n",
    "$$\\begin{align}\n",
    "I^4 &\\approx \\frac{4}{3} I(h_2) -\\frac{1}{3} I(h_1) \\\\\n",
    "I^6 &\\approx \\frac{16}{15} I(h_3) - \\frac{1}{15} I^4 \\\\\n",
    "I^8 &\\approx \\frac{64}{63} I(h_4) - \\frac{1}{63} I^6 \\\\\n",
    "\\vdots \\\\\n",
    "I_{j,k} &\\approx \\frac{4^{k-1} I_{j+1,k-1} - I_{j,k-1}}{4^{k-1}-1}\n",
    "\\end{align}$$\n",
    "\n",
    "where the last line is the Romberg Integration Algorithm. The structure lends itself to redundant programming and parallelizes nicely!\n",
    "\n",
    "This algorithm is able to integrate to an arbitrary accuracy and does so remarkably efficiently compared to the alternatives.\n"
   ]
  },
  {
   "cell_type": "markdown",
   "metadata": {},
   "source": [
    "#### Example"
   ]
  },
  {
   "cell_type": "markdown",
   "metadata": {},
   "source": [
    "Approximate $\\int_0^\\pi \\sin(x) dx$ using the Rhomberg rule and compare with Simpson's 1/3 rule"
   ]
  },
  {
   "cell_type": "code",
   "execution_count": null,
   "metadata": {},
   "outputs": [
    {
     "name": "stdout",
     "output_type": "stream",
     "text": [
      "Richardson Extrapolation Table for Romberg Integration\n",
      "======================================================\n",
      " 0.00000 \n",
      " 1.57080  2.09440 \n",
      " 1.89612  2.00456  1.99857 \n",
      "======================================================\n",
      "Romberg with 4 intervals: 0.001429268176164289\n",
      "Simpson with 4 intervals: 0.0045597549844207386\n",
      "Richardson Extrapolation Table for Romberg Integration\n",
      "======================================================\n",
      " 0.00000 \n",
      " 1.57080  2.09440 \n",
      " 1.89612  2.00456  1.99857 \n",
      " 1.97423  2.00027  1.99998  2.00001 \n",
      "======================================================\n",
      "Romberg with 8 intervals: 5.549979670949057e-06\n",
      "Simpson with 8 intervals: 0.00026916994838765973\n",
      "Richardson Extrapolation Table for Romberg Integration\n",
      "======================================================\n",
      " 0.00000 \n",
      " 1.57080  2.09440 \n",
      " 1.89612  2.00456  1.99857 \n",
      " 1.97423  2.00027  1.99998  2.00001 \n",
      " 1.99357  2.00002  2.00000  2.00000  2.00000 \n",
      "======================================================\n",
      "Romberg with 16 intervals: 5.412709835894702e-09\n",
      "Simpson with 16 intervals: 1.6591047935499148e-05\n",
      "Richardson Extrapolation Table for Romberg Integration\n",
      "======================================================\n",
      " 0.00000 \n",
      " 1.57080  2.09440 \n",
      " 1.89612  2.00456  1.99857 \n",
      " 1.97423  2.00027  1.99998  2.00001 \n",
      " 1.99357  2.00002  2.00000  2.00000  2.00000 \n",
      " 1.99839  2.00000  2.00000  2.00000  2.00000  2.00000 \n",
      "======================================================\n",
      "Romberg with 32 intervals: 1.3216094885137863e-12\n",
      "Simpson with 32 intervals: 1.0333694131503535e-06\n",
      "Richardson Extrapolation Table for Romberg Integration\n",
      "======================================================\n",
      " 0.00000 \n",
      " 1.57080  2.09440 \n",
      " 1.89612  2.00456  1.99857 \n",
      " 1.97423  2.00027  1.99998  2.00001 \n",
      " 1.99357  2.00002  2.00000  2.00000  2.00000 \n",
      " 1.99839  2.00000  2.00000  2.00000  2.00000  2.00000 \n",
      " 1.99960  2.00000  2.00000  2.00000  2.00000  2.00000  2.00000 \n",
      "======================================================\n",
      "Romberg with 64 intervals: 4.440892098500626e-16\n",
      "Simpson with 64 intervals: 6.453000178652246e-08\n",
      "Richardson Extrapolation Table for Romberg Integration\n",
      "======================================================\n",
      " 0.00000 \n",
      " 1.57080  2.09440 \n",
      " 1.89612  2.00456  1.99857 \n",
      " 1.97423  2.00027  1.99998  2.00001 \n",
      " 1.99357  2.00002  2.00000  2.00000  2.00000 \n",
      " 1.99839  2.00000  2.00000  2.00000  2.00000  2.00000 \n",
      " 1.99960  2.00000  2.00000  2.00000  2.00000  2.00000  2.00000 \n",
      " 1.99990  2.00000  2.00000  2.00000  2.00000  2.00000  2.00000  2.00000 \n",
      "======================================================\n",
      "Romberg with 128 intervals: 0.0\n",
      "Simpson with 128 intervals: 4.032257194808153e-09\n"
     ]
    }
   ],
   "source": [
    "import numpy as np\n",
    "import scipy as sp\n",
    "def f(x):\n",
    "  return np.sin(x)\n",
    "\n",
    "tolerance = 1e-6\n",
    "\n",
    "for n in [4,8,16,32,64, 128]:\n",
    "  x = np.linspace(0, np.pi, n+1)\n",
    "  f_x = f(x)\n",
    "  rhomberg = sp.integrate.romb(f_x, dx = np.pi/n, show=True)\n",
    "  print(f\"Romberg with {n} intervals: {abs(rhomberg-2)}\")\n",
    "  simpson = sp.integrate.simpson(f_x, x=x)\n",
    "  print(f\"Simpson with {n} intervals: {abs(simpson-2)}\")"
   ]
  },
  {
   "cell_type": "markdown",
   "metadata": {},
   "source": [
    "Note the error became zero! What does that mean?"
   ]
  }
 ],
 "metadata": {
  "language_info": {
   "name": "python"
  }
 },
 "nbformat": 4,
 "nbformat_minor": 2
}
