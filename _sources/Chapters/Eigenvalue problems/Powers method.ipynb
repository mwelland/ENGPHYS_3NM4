{
 "cells": [
  {
   "cell_type": "markdown",
   "metadata": {},
   "source": [
    "# Power's iterative method"
   ]
  },
  {
   "cell_type": "markdown",
   "metadata": {},
   "source": [
    "We've seen that linear systems transform a vector into another vector by scaling and skewing it, and that the magnitude of the scale in a particular direction is given by the eigenvalues in that direction."
   ]
  },
  {
   "cell_type": "markdown",
   "metadata": {},
   "source": [
    "### Largest (dominant) eigenvalue"
   ]
  },
  {
   "cell_type": "markdown",
   "metadata": {},
   "source": [
    "The Power Method observes that a random vector is scaled along all eigenvectors, but it is scaled *the most* along the vector with the largest eigenvalue. Therefore, repeated application of $A$ followed by normalization of the vector will gradually rotate *all* vectors towards the eigenvector with the dominant eigenvalue!\n",
    "\n",
    "The algorithm is:\n",
    "1. Choose a random vector\n",
    "2. Apply $A$\n",
    "3. Normalize the transformed vector\n",
    "4. Repeat until a subsequent vectors are the same (within a tolerance)\n",
    "\n",
    "Note this involves copious matrix-matrix multiplications, which can be a) computationally intensive, and b) prone to accumulation of roundoff error.\n",
    "\n",
    "Nonetheless, this algorithm is used extensively for situations where only the largest EV is needed. E.g.: The Google PageRank algorithm determines the dominant Eigenvector of a matrix associted withe the web's link structure!"
   ]
  },
  {
   "cell_type": "markdown",
   "metadata": {},
   "source": [
    "#### Example of the Power Method for finding the dominant eigenvalue - vector"
   ]
  },
  {
   "cell_type": "code",
   "execution_count": null,
   "metadata": {},
   "outputs": [
    {
     "name": "stdout",
     "output_type": "stream",
     "text": [
      "[[0.07024765]\n",
      " [0.31961613]]\n",
      "Dominant eigenvalue: 2.9999999915880085\n",
      "Eigenvector: [[-0.70708806]\n",
      " [ 0.7071255 ]]\n"
     ]
    },
    {
     "data": {
      "application/vnd.jupyter.widget-view+json": {
       "model_id": "338e1805f80a43619d6b49ec7393bdce",
       "version_major": 2,
       "version_minor": 0
      },
      "text/plain": [
       "interactive(children=(IntSlider(value=0, description='iteration', max=10), Output()), _dom_classes=('widget-in…"
      ]
     },
     "metadata": {},
     "output_type": "display_data"
    }
   ],
   "source": [
    "# prompt: give me a function that implements Power's method for finding the largest eigenvalue. keep the vector from each iteration. Plot the vector indexed by a slider.\n",
    "\n",
    "import numpy as np\n",
    "import matplotlib.pyplot as plt\n",
    "from ipywidgets import interact, interactive, fixed, interact_manual\n",
    "import ipywidgets as widgets\n",
    "\n",
    "def power_method(A, initial_vector, iterations=100, tolerance=1e-6):\n",
    "    \"\"\"\n",
    "    Implements the Power Method to find the dominant eigenvalue and eigenvector.\n",
    "\n",
    "    Args:\n",
    "        A: The square matrix.\n",
    "        initial_vector: The initial guess for the eigenvector.\n",
    "        iterations: The maximum number of iterations.\n",
    "        tolerance: The convergence tolerance.\n",
    "\n",
    "    Returns:\n",
    "        A tuple containing:\n",
    "            - The dominant eigenvalue.\n",
    "            - The corresponding eigenvector.\n",
    "            - A list of vectors from each iteration.\n",
    "    \"\"\"\n",
    "\n",
    "    v = np.array(initial_vector, dtype=float)  # Ensure initial vector is a NumPy array and float type\n",
    "    vectors = [v.copy()]  # Store the vectors from each iteration\n",
    "\n",
    "    for _ in range(iterations):\n",
    "        v_new = A @ v\n",
    "        eigenvalue = np.linalg.norm(v_new) #np.max(np.abs(v_new))  # Approximate eigenvalue\n",
    "        v = v_new / eigenvalue  # Normalize\n",
    "        vectors.append(v.copy())\n",
    "\n",
    "        if np.linalg.norm(v - vectors[-2]) < tolerance:\n",
    "          break\n",
    "    return eigenvalue, v, vectors\n",
    "\n",
    "def plot_eigenvector(vectors, iteration):\n",
    "  \"\"\"Plots the eigenvector at a specific iteration.\"\"\"\n",
    "  plt.figure(figsize=(6, 6))\n",
    "  plt.title(f\"Eigenvector at Iteration {iteration}\")\n",
    "  plt.quiver(0, 0, vectors[iteration][0], vectors[iteration][1], angles='xy', scale_units='xy', scale=1, color='r')\n",
    "  plt.xlim(-1.5, 1.5)\n",
    "  plt.ylim(-1.5, 1.5)\n",
    "  plt.gca().set_aspect('equal')\n",
    "  plt.xlabel(\"X\")\n",
    "  plt.ylabel(\"Y\")\n",
    "  plt.grid(True)\n",
    "  plt.show()\n",
    "\n",
    "# Example usage:\n",
    "A = np.array([[2, -1], [-1, 2]])\n",
    "initial_vector = np.random.rand(2,1) # Example initial vector\n",
    "print(initial_vector)\n",
    "iterations = 10\n",
    "\n",
    "eigenvalue, eigenvector, vectors = power_method(A, initial_vector, iterations)\n",
    "\n",
    "print(f\"Dominant eigenvalue: {eigenvalue}\")\n",
    "print(f\"Eigenvector: {eigenvector}\")\n",
    "\n",
    "interact(plot_eigenvector, vectors=fixed(vectors), iteration=widgets.IntSlider(min=0, max=len(vectors)-1, step=1, value=0));"
   ]
  },
  {
   "cell_type": "markdown",
   "metadata": {},
   "source": [
    "### Smallest eigenvalue"
   ]
  },
  {
   "cell_type": "markdown",
   "metadata": {},
   "source": [
    "The smallest eigenvalue of $A$ is simply the largest eigenvalue of $A^{-1}$, so all we have to do is calculate $A^{-1}$ and apply the algorithm above!\n",
    "\n",
    "The smallest eigenvalue is of practical importance in a few places:\n",
    "* Stability analysis: The sign of the smallest EV determines the stability of systems (consider Von Neumann analysis!)\n",
    "* Condition number: The ratio of the largest and smallest EVs is a measure of the condition numeber of the matrix.\n",
    "* Optimization: The smallest EV is related to the convexivity of the function."
   ]
  },
  {
   "cell_type": "markdown",
   "metadata": {},
   "source": [
    "### Intermediate eigenvalues"
   ]
  },
  {
   "cell_type": "markdown",
   "metadata": {},
   "source": [
    "We can remove an eigenvector from the operator through *deflation*. The eigenvectors of symmetric matricies are necessarily orthogonal, so we can deflate the operator by:\n",
    "\n",
    "$A^\\prime = A - \\lambda_1 x_1 x_1^T $\n",
    "\n",
    "Therefore intermediate vectors can be found through iteratively removing the dominant one. This method is uncommon since roundoff errors are propagated between successive eigenvectors.\n",
    "\n"
   ]
  },
  {
   "cell_type": "markdown",
   "metadata": {},
   "source": [
    "#### Example of deflation and finding the second largest eigenvalue/vector."
   ]
  },
  {
   "cell_type": "code",
   "execution_count": null,
   "metadata": {},
   "outputs": [
    {
     "name": "stdout",
     "output_type": "stream",
     "text": [
      "The deflated matrix is,\n",
      " [[0.50007943 0.49999999]\n",
      " [0.49999999 0.49992058]] \n",
      "\n",
      "Dominant eigenvalue: 1.000000004205996\n",
      "Eigenvector: [[0.70716294]\n",
      " [0.70705061]]\n"
     ]
    },
    {
     "data": {
      "application/vnd.jupyter.widget-view+json": {
       "model_id": "44cad1b09aa843f0b0a61e549d00a6ba",
       "version_major": 2,
       "version_minor": 0
      },
      "text/plain": [
       "interactive(children=(IntSlider(value=0, description='iteration', max=2), Output()), _dom_classes=('widget-int…"
      ]
     },
     "metadata": {},
     "output_type": "display_data"
    }
   ],
   "source": [
    "A_prime = A-eigenvalue*np.outer(eigenvector,eigenvector)\n",
    "print('The deflated matrix is,\\n', A_prime, '\\n')\n",
    "\n",
    "eigenvalue, eigenvector, vectors = power_method(A_prime, initial_vector, iterations)\n",
    "\n",
    "print(f\"Dominant eigenvalue: {eigenvalue}\")\n",
    "print(f\"Eigenvector: {eigenvector}\")\n",
    "\n",
    "interact(plot_eigenvector, vectors=fixed(vectors), iteration=widgets.IntSlider(min=0, max=len(vectors)-1, step=1, value=0));"
   ]
  }
 ],
 "metadata": {
  "language_info": {
   "name": "python"
  }
 },
 "nbformat": 4,
 "nbformat_minor": 2
}
