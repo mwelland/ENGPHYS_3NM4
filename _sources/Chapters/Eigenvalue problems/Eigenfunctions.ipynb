{
 "cells": [
  {
   "cell_type": "markdown",
   "metadata": {},
   "source": [
    "## Eigenfunctions"
   ]
  },
  {
   "cell_type": "markdown",
   "metadata": {},
   "source": [
    "Let's reinterpret eigenvectors in terms of our usage.\n",
    "\n",
    "In previous chapters we saw how to:\n",
    "* represent a solution as a vector of unknows.\n",
    "* represent a differential operator (e.g. a PDE) as:\n",
    "  * a matrix (for linear operators)\n",
    "  * a vector function (nonlinear operators) which could be solved by root finding, which involves linear operators.\n",
    "\n",
    "Another way to think about this is that we represented continuous functions in a *finite basis* (weights / coordinates collected into our vector of unkowns). If we used *infinite basis* we could represent the full function, but then our vector would be infinite too.\n",
    "\n",
    "Turn this around, and consider that *eigenfunctions* (the function approximated by the eigenvectors) are special functions which are not changed by the operator / differential equation.\n",
    "\n",
    "You already know all about eigenfunctions!\n",
    "* Consider swinging on a swing - your frequency is independant of the amplitude\n",
    "* Consider resonance: If you pump your legs at the same frequency, you will go higher!"
   ]
  },
  {
   "cell_type": "markdown",
   "metadata": {},
   "source": [
    "In our applications with PDEs, time stepping was an operator that transformed $y^t$ to $y^{t+1}$. The eigenfunctions of that operator only change in amplitude, not shape!\n"
   ]
  },
  {
   "cell_type": "markdown",
   "metadata": {},
   "source": [
    "### Example: Coupled oscillators"
   ]
  },
  {
   "cell_type": "markdown",
   "metadata": {},
   "source": [
    "$$\\begin{align}\n",
    "m \\ddot{x}_1 &=-k x_1 +k [x_2-x_1]\\\\\n",
    "m \\ddot{x}_2 &= -k[x_2-x_1] - k x_2\n",
    "\\end{align} $$\n",
    "or in vector form with $\\vec{x} = \\begin{bmatrix} x_1 \\\\ x_2 \\end{bmatrix}$\n",
    "$$\n",
    "\\ddot{\\vec{x}} = -\\frac{k}{m} \\begin{bmatrix} 2 & -1 \\\\ -1 & 2 \\end{bmatrix} \\vec{x} $$\n",
    "\n",
    "which is just an IVP which we know how to solve!"
   ]
  },
  {
   "cell_type": "code",
   "execution_count": null,
   "metadata": {},
   "outputs": [
    {
     "data": {
      "application/vnd.jupyter.widget-view+json": {
       "model_id": "209744469c7b44af931f5125b0129c99",
       "version_major": 2,
       "version_minor": 0
      },
      "text/plain": [
       "interactive(children=(FloatSlider(value=1.0, description='x1_0', max=2.0, min=-2.0), FloatSlider(value=0.0, de…"
      ]
     },
     "metadata": {},
     "output_type": "display_data"
    }
   ],
   "source": [
    "import numpy as np\n",
    "from scipy.integrate import solve_ivp\n",
    "import matplotlib.pyplot as plt\n",
    "from ipywidgets import interact, interactive, fixed, interact_manual\n",
    "import ipywidgets as widgets\n",
    "\n",
    "# Define the system of differential equations\n",
    "\n",
    "def coupled_oscillators(t, y, k, m):\n",
    "    x1, x2, v1, v2 = y\n",
    "    dx1dt = v1\n",
    "    dx2dt = v2\n",
    "    dv1dt = -(k/m) * (2*x1 - x2)\n",
    "    dv2dt = -(k/m) * (-x1 + 2*x2)\n",
    "    return [dx1dt, dx2dt, dv1dt, dv2dt]\n",
    "\n",
    "# Define parameters\n",
    "k = 1  # Spring constant\n",
    "m = 1  # Mass\n",
    "\n",
    "# Time span for integration\n",
    "t_span = (0, 100)\n",
    "\n",
    "# Function to solve and plot\n",
    "def solve_and_plot(x1_0, x2_0, v1_0=0, v2_0=0):\n",
    "    # Initial conditions\n",
    "    y0 = [x1_0, x2_0, v1_0, v2_0]\n",
    "\n",
    "    # Solve the IVP\n",
    "    sol = solve_ivp(coupled_oscillators, t_span, y0, args=(k, m), max_step = .1,  dense_output=True)\n",
    "\n",
    "    # Time points for plotting\n",
    "    t = np.linspace(t_span[0], t_span[1], 500)\n",
    "\n",
    "    # Get the solution at the specified time points\n",
    "    x1, x2, v1, v2 = sol.sol(t)\n",
    "\n",
    "\n",
    "    # Calculate FFT\n",
    "    N = len(t)\n",
    "    dt = t[1] - t[0]\n",
    "    xf = np.fft.fftfreq(N, d=dt)\n",
    "    x1_fft = np.fft.fft(x1)\n",
    "    x2_fft = np.fft.fft(x2)\n",
    "\n",
    "\n",
    "    plt.figure(figsize=(10,6))\n",
    "\n",
    "    # Plot the results\n",
    "    plt.subplot(2,1,1)\n",
    "    plt.plot(t, x1, label='x1(t)')\n",
    "    plt.plot(t, x2, label='x2(t)')\n",
    "    plt.xlabel('Time')\n",
    "    plt.ylabel('Displacement')\n",
    "    plt.title('Coupled Oscillators')\n",
    "    plt.legend()\n",
    "    plt.grid(True)\n",
    "    plt.show()\n",
    "\n",
    "    #Plot FFT\n",
    "    plt.subplot(2,1,2)\n",
    "    plt.plot(xf, np.abs(x1_fft), label='FFT of x1(t)')\n",
    "    plt.plot(xf, np.abs(x2_fft), label='FFT of x2(t)')\n",
    "    plt.xlabel('Frequency')\n",
    "    plt.ylabel('Magnitude')\n",
    "    plt.title('FFT of Coupled Oscillators')\n",
    "    plt.legend()\n",
    "    plt.xlim(-5,5)\n",
    "    plt.grid(True)\n",
    "    plt.show()\n",
    "\n",
    "# Create interactive plot with sliders for initial conditions\n",
    "interact(solve_and_plot, x1_0=widgets.FloatSlider(min=-2, max=2, step=0.1, value=1),\n",
    "         x2_0=widgets.FloatSlider(min=-2, max=2, step=0.1, value=0));"
   ]
  },
  {
   "cell_type": "markdown",
   "metadata": {},
   "source": [
    "Note the ineresting behaviour of $x_1 = x_2$ and $x_1 = -x_2$!\n",
    "\n",
    "So what is happenning?"
   ]
  },
  {
   "cell_type": "markdown",
   "metadata": {},
   "source": [
    "### Eigenvector form"
   ]
  },
  {
   "cell_type": "markdown",
   "metadata": {},
   "source": [
    "Say the solution is of the form $x = e^{-i\\omega t}$:\n",
    "\n",
    "$$\\begin{align}\n",
    "\\vec{x} &= e^{-i \\omega t} \\\\\n",
    "\\ddot{\\vec{x}} &= -\\omega^2 e^{-i \\omega t} = -\\omega^2 \\vec{x}\n",
    "\\end{align} $$\n",
    "\n",
    "and our equation becomes:\n",
    "$$\n",
    "-\\omega^2 \\rm{I} \\ \\vec{x} = -\\frac{k}{m} \\begin{bmatrix} 2 & -1 \\\\ -1 & 2 \\end{bmatrix} \\vec{x} \\\\\n",
    "\\bigg[\\begin{bmatrix} 2 & -1 \\\\ -1 & 2 \\end{bmatrix} -\\frac{m \\omega^2}{k} \\rm{I}\\bigg] \\vec{x} = 0\n",
    "$$\n"
   ]
  },
  {
   "cell_type": "markdown",
   "metadata": {},
   "source": [
    "The solution to this equation must be:\n",
    "* Trivial, $\\vec{x} = \\vec{0}$\n",
    "* Non-zero, but then the matrix must be singular!\n",
    "\n",
    "For a matrix $A - \\lambda \\rm{I}$ to be singular, $det(A-\\lambda \\rm{I}) = 0$. The scalar values $\\lambda$ are the *eigenvalues* of $A$, and the corresponding $\\vec{x}$ is the *eigenvector*.\n",
    "\n",
    "In our example, the eigenvalues of $\\begin{bmatrix} 2 & -1 \\\\ -1 & 2 \\end{bmatrix}$ are $\\frac{m \\omega^2}{k}$. Note that we have grouped the unknowns so we really find a general solution!\n",
    "\n",
    "\n",
    "The determinant is convenient because it is simply a polynomial, and we know how to find roots of a polynomial!"
   ]
  },
  {
   "cell_type": "code",
   "execution_count": null,
   "metadata": {},
   "outputs": [
    {
     "name": "stdout",
     "output_type": "stream",
     "text": [
      "Determinant: lambda**2 - 4*lambda + 3\n",
      "Coefficients of the polynomial: [1, -4, 3]\n",
      "Roots (eigenvalues) of the characteristic polynomial: [3. 1.]\n"
     ]
    }
   ],
   "source": [
    "# prompt: Write the above equation in sympy and find en expression for hte determinant.\n",
    "\n",
    "import sympy as sp\n",
    "import numpy as np\n",
    "\n",
    "# Define symbolic variables\n",
    "lam = sp.symbols('lambda')\n",
    "\n",
    "# Define the matrix\n",
    "matrix = sp.Matrix([[2, -1], [-1, 2]])\n",
    "\n",
    "# Define the identity matrix\n",
    "identity_matrix = sp.eye(2)\n",
    "\n",
    "# Form the matrix A - λI\n",
    "matrix_minus_lambda_I = matrix - lam * identity_matrix\n",
    "\n",
    "# Calculate the determinant\n",
    "determinant = matrix_minus_lambda_I.det()\n",
    "\n",
    "# Display the determinant\n",
    "print(\"Determinant:\", determinant)\n",
    "\n",
    "# Convert the symbolic determinant to polynomial coefficients\n",
    "poly = sp.Poly(determinant, lam)\n",
    "coeffs = poly.all_coeffs()\n",
    "print(\"Coefficients of the polynomial:\", coeffs)\n",
    "\n",
    "# Solve for lambda using numpy.roots\n",
    "roots = np.roots(coeffs)\n",
    "print(\"Roots (eigenvalues) of the characteristic polynomial:\", roots)"
   ]
  },
  {
   "cell_type": "markdown",
   "metadata": {},
   "source": [
    "Let's check the Eigenvalues, then use them to find the corresponding vectors!"
   ]
  },
  {
   "cell_type": "code",
   "execution_count": null,
   "metadata": {},
   "outputs": [
    {
     "name": "stdout",
     "output_type": "stream",
     "text": [
      "0.0\n",
      "[1. 1.]\n",
      "0.0\n",
      "[ 1. -1.]\n"
     ]
    }
   ],
   "source": [
    "from scipy.optimize import root\n",
    "A = np.array([[2, -1], [-1, 2]])\n",
    "for l in [1,3]:\n",
    "  print(np.linalg.det((A-l*np.eye(2))))\n",
    "  #print(np.linalg.solve(A-1*np.eye(2), np.zeros(2)))\n",
    "  print(root(lambda x: x@(A-l*np.eye(2)), np.array([[1,1]])).x)"
   ]
  },
  {
   "cell_type": "markdown",
   "metadata": {},
   "source": [
    "The eigenvalues plugged back into $x = e^{-i\\omega t}$ implies the two harmonics are:\n",
    "\n",
    "$$\\begin{align}\n",
    "x &= e^{-i\\sqrt{\\frac{k}{m}} t} \\\\\n",
    "x &= e^{-i\\sqrt{3 \\frac{k}{m}} t}\n",
    "\\end{align} $$"
   ]
  },
  {
   "cell_type": "markdown",
   "metadata": {},
   "source": [
    "For the first harmonic: $\\frac{m \\omega^2}{k} = 1$:\n",
    "\n",
    "$$\\begin{align}\n",
    "\\bigg[\\begin{bmatrix} 2 & -1 \\\\ -1 & 2 \\end{bmatrix} - \\rm{I}\\bigg] \\vec{x} &= 0 \\\\\n",
    "\\begin{bmatrix} 1 & -1 \\\\ -1 & 1 \\end{bmatrix}  \\vec{x} &= 0 \\\\\n",
    "x_1 &= x_2\n",
    "\\end{align}$$\n",
    "\n",
    "Similarly the second harmonic, $\\frac{m \\omega^2}{k} = 3$ :\n",
    "\n",
    "$$\\begin{align}\n",
    "\\begin{bmatrix} -1 & -1 \\\\ -1 & -1 \\end{bmatrix}  \\vec{x} &= 0 \\\\\n",
    "x_1 &= -x_2\n",
    "\\end{align}$$\n",
    "which is what we observed above."
   ]
  },
  {
   "cell_type": "markdown",
   "metadata": {},
   "source": [
    "This is all fine and good, but there must be a better way! For small matricies ($n \\le 4$) there are analytical solutions for the roots which we can use.\n",
    "\n",
    "You may recal that the numerical *roots* function finds the roots as the eigenvalues of a companion matrix so it obviously isn't the correct approach but does reveal the euqivilance between polynomial roots and eigenvalues!"
   ]
  }
 ],
 "metadata": {
  "language_info": {
   "name": "python"
  }
 },
 "nbformat": 4,
 "nbformat_minor": 2
}
