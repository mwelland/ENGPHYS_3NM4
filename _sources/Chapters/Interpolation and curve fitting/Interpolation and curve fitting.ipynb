{
 "cells": [
  {
   "cell_type": "markdown",
   "metadata": {},
   "source": [
    "# Interpolation and Curve-fitting"
   ]
  },
  {
   "cell_type": "markdown",
   "metadata": {},
   "source": [
    "Interpolation and curve-fitting both deal with fitting lists curves to a list of distrete points but there are some key differences in terminology:\n",
    "\n",
    "**Interpolation** seeks a curve that\n",
    "* Goes through all the points in the inputs.\n",
    "* Assumes there is no measurement error in data points\n",
    "* No ambiguity in mapping x and y (no duplicate y's for a given x)\n",
    "* Often used to capture the *local* behaviour\n",
    "\n",
    "**Curve fitting** seeks a curve that\n",
    "* is the *best fit* for all datapoints (in some sense)\n",
    "* doesn't necessarily traverse all the datapoints\n",
    "* permits ambiguity in x-y pairs\n",
    "* Is more of a *global* encapsulation of the data.\n",
    "* generally recovers interpolation as a 'perfect fit' under the interpolation criteria.  \n"
   ]
  }
 ],
 "metadata": {
  "language_info": {
   "name": "python"
  }
 },
 "nbformat": 4,
 "nbformat_minor": 2
}
