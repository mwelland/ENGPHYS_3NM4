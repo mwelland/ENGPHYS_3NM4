{
 "cells": [
  {
   "cell_type": "markdown",
   "metadata": {
    "id": "vrwTllzfM2k9"
   },
   "source": [
    "# Curve fitting"
   ]
  },
  {
   "cell_type": "markdown",
   "metadata": {
    "id": "LOopE2SkM5O9"
   },
   "source": [
    "Generally, we will have some datapoint pairs $x_i, y_i$. We will have some function $y$ with parameters $a$ that will be evaluated at a point $x$: $y(a, x)$.\n",
    "\n",
    "Our goal is to find the set of parameters $a$ that gives us the *best fit* of the data. Commonly, this implies minimizing the squared error between the prediction and the data,\n",
    "\n",
    "$$y(a,x_i)-y_i = r_i $$\n",
    "\n",
    "where $r$ is the residual vector. The *least squares fit* is formulated as finding $a$ so as to minimize $\\| r\\|$.\n",
    "\n",
    "In general, this is an optimization problem (much more complicated than you would expect!) since $y(a,x)$ can be complex."
   ]
  }
 ],
 "metadata": {
  "colab": {
   "authorship_tag": "ABX9TyN5N3Q7xdnFoeuEWc+a9usJ",
   "include_colab_link": true,
   "provenance": [],
   "toc_visible": true
  },
  "kernelspec": {
   "display_name": "Python 3",
   "name": "python3"
  },
  "language_info": {
   "name": "python"
  }
 },
 "nbformat": 4,
 "nbformat_minor": 0
}
