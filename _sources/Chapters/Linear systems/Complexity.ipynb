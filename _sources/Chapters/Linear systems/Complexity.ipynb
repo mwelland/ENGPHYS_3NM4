{
 "cells": [
  {
   "cell_type": "markdown",
   "metadata": {},
   "source": [
    "# Computational complexity\n",
    "\n"
   ]
  },
  {
   "cell_type": "markdown",
   "metadata": {},
   "source": [
    "The *computational complexity* of an algorithm characterizes the number of operations it requires (thus comparing the algorithm instead of the hardware). Linear algebra algorithms are characterized in terms of the dimension of their arguments (vector length, matrix size, etc). Complexity is represented in big O notation (similar to the accuracy of function approximations). I.e.: Only the leading order is kept, and constants disregarded."
   ]
  },
  {
   "cell_type": "markdown",
   "metadata": {},
   "source": [
    "### Example\n",
    "Traditional matrix multiplication of two $n \\times n$ matricies - involves $n^3$ operations and is thus $O(n^3)$\n",
    "\n",
    "NB: This is algorithm-dependant - The Strassen algorithm has $O(n^{2.81})$"
   ]
  },
  {
   "cell_type": "code",
   "execution_count": null,
   "metadata": {},
   "outputs": [
    {
     "name": "stdout",
     "output_type": "stream",
     "text": [
      "123 µs ± 51.3 µs per loop (mean ± std. dev. of 7 runs, 10000 loops each)\n",
      "98.4 ms ± 37.9 ms per loop (mean ± std. dev. of 7 runs, 10 loops each)\n",
      "514 ms ± 11 ms per loop (mean ± std. dev. of 7 runs, 1 loop each)\n",
      "4.64 s ± 736 ms per loop (mean ± std. dev. of 7 runs, 1 loop each)\n"
     ]
    }
   ],
   "source": [
    "def time_matmult(n):\n",
    "  import numpy as np\n",
    "  A = np.random.rand(n, n)\n",
    "  B = np.random.rand(n, n)\n",
    "  %timeit C = A @ B\n",
    "\n",
    "time_matmult(100)\n",
    "time_matmult(1000)\n",
    "time_matmult(2000)\n",
    "time_matmult(4000)"
   ]
  },
  {
   "cell_type": "markdown",
   "metadata": {},
   "source": [
    "Some complexities of common linear algebra operations:\n",
    "\n",
    "| Operation | Description | Complexity |\n",
    "|---|---|---|\n",
    "| Matrix addition | Adding two matrices of the same size | O(n²) |\n",
    "| Matrix multiplication | Multiplying two matrices | O(n³) (standard algorithm) |\n",
    "| Matrix-vector multiplication | Multiplying a matrix by a vector | O(n²) |\n",
    "| Matrix inversion | Finding the inverse of a matrix | O(n³) |\n",
    "| Determinant calculation | Computing the determinant of a matrix | O(n³) |\n",
    "| Transpose | Swapping rows and columns of a matrix | O(n²) |\n",
    "| Matrix norm| Sqrt of sum of squares | O(n²) |"
   ]
  },
  {
   "cell_type": "markdown",
   "metadata": {},
   "source": [
    "High-performance computing introduces a new element to complexity which deals with how algorithms parallelize. This is called *scaling* and measured in $O(number \\ of \\ nodes)$. The goal is usually $O(n)$ but is hard to achieve!"
   ]
  }
 ],
 "metadata": {
  "language_info": {
   "name": "python"
  }
 },
 "nbformat": 4,
 "nbformat_minor": 2
}
