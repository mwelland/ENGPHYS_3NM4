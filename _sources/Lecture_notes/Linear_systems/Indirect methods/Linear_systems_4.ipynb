{
  "nbformat": 4,
  "nbformat_minor": 0,
  "metadata": {
    "colab": {
      "provenance": [],
      "toc_visible": true,
      "authorship_tag": "ABX9TyOsAjtKSkzSJFLEhzWEYTIb",
      "include_colab_link": true
    },
    "kernelspec": {
      "name": "python3",
      "display_name": "Python 3"
    },
    "language_info": {
      "name": "python"
    }
  },
  "cells": [
    {
      "cell_type": "markdown",
      "metadata": {
        "id": "view-in-github",
        "colab_type": "text"
      },
      "source": [
        "<a href=\"https://colab.research.google.com/github/mwelland/ENGPYHS_3NM4/blob/main/Linear_systems_4.ipynb\" target=\"_parent\"><img src=\"https://colab.research.google.com/assets/colab-badge.svg\" alt=\"Open In Colab\"/></a>"
      ]
    },
    {
      "cell_type": "markdown",
      "source": [
        "GOALS:\n",
        "- Grasp the basic concept of Jacobi, Gauss-Seidel, and Successive Over Relaxation iterative methods\n",
        "- Understand the pros and cons of each method\n",
        "- Experience the benefit of iterative solvers"
      ],
      "metadata": {
        "id": "S89E1CSUrqEy"
      }
    },
    {
      "cell_type": "markdown",
      "source": [
        "#Iterative systems"
      ],
      "metadata": {
        "id": "lheCoHwS0Xl2"
      }
    },
    {
      "cell_type": "markdown",
      "source": [
        "Guass Elimination / LU decomposition are *direct* solvers in that they solve systems in a fixed number of operations. If we could calculate in infinite precision these answers would be exact. Direct solvers generally scale ~$O(n^3)$ and are therefore impractical for large systems."
      ],
      "metadata": {
        "id": "axvv6WwZ0i0y"
      }
    },
    {
      "cell_type": "markdown",
      "source": [
        "We will now talk about *iterative / indirect methods* which start with an initial guess and iterate (hopefully) towards a solution. Each iteration is typically faster and more memory efficient than direct solvers, but convergence is only guaranteed under certain limited circumstances. Even then, the *rate of convergence* can still make these techniques impractical.\n",
        "\n",
        "\n",
        "\n"
      ],
      "metadata": {
        "id": "xpDR1BNl1D6B"
      }
    },
    {
      "cell_type": "markdown",
      "source": [
        "Iterative techniques have some useful properties:\n",
        "1. They are self-correcting in that roundoff (or arithmatic) errors are corrected through further cycles.\n",
        "2. They are more conducive to sparse matrix storage."
      ],
      "metadata": {
        "id": "loshgR2D742s"
      }
    },
    {
      "cell_type": "markdown",
      "source": [
        "Only the solution vector $x$ is altered during these computations. Neither the matrix (nor anything we will do to it) is not altered during any of these steps!\n",
        "\n",
        "> In fact, there are a class of solvers called *matrix free* solvers that avoid the explicit writing of $A$ entirely... This is useful if the matrix product $Ax$ can be calculated in a more effective manner such that we don't bother writing out and storing A$!"
      ],
      "metadata": {
        "id": "DV-Ec-_X2DhU"
      }
    },
    {
      "cell_type": "markdown",
      "source": [
        "Each iteration will (hopefully) improve the answer asymptotically, so we estimate the error and say when it is stopped getting better. As discussed with error analysis, this involves defining tolerances for computation."
      ],
      "metadata": {
        "id": "MzmRUmBBFSll"
      }
    },
    {
      "cell_type": "markdown",
      "source": [
        "##Iterative approach"
      ],
      "metadata": {
        "id": "s0tnO_RpXovf"
      }
    },
    {
      "cell_type": "markdown",
      "source": [
        "Consider: What does it mean for a vector $x$ to satisfy $Ax=b$?\n",
        "\n",
        "-> All the elements in $x$ must be *consistent*.\n",
        "\n",
        "What if one element was not consistent?\n",
        "\n",
        "-> We could solve for it based on the others!"
      ],
      "metadata": {
        "id": "y8TOAGWfbKgI"
      }
    },
    {
      "cell_type": "markdown",
      "source": [
        "##Big picture algorithm\n",
        "1. Start with a guess\n",
        "2. For each iterative step, identify a single element in $x$, make it consistent with all the others.\n",
        "3. Check how well the guess solves the linear system\n",
        "4. Repeat (possibly updating a parameter first)"
      ],
      "metadata": {
        "id": "hWSVNyh6ZhyZ"
      }
    },
    {
      "cell_type": "markdown",
      "source": [
        "### Quantifying convergence"
      ],
      "metadata": {
        "id": "GmhfnsMMcgZv"
      }
    },
    {
      "cell_type": "markdown",
      "source": [
        "The system has converged when $Ax=b$. Define the *residual vector*, $R = Ax-b$ such that when $R\\rightarrow 0$ (the system is converged).\n",
        "\n",
        "Let's use the norm (some measure of magnitude) of $R$  and say the system has converged when $||R|| \\lt tolerance$.\n",
        "\n",
        "> Should we use absolute tolerance or relative?\n",
        "\n",
        "> What other tolerance could we imagine using? (Hint: We are actually interested $x$...)"
      ],
      "metadata": {
        "id": "Vs7efXY0ciLE"
      }
    },
    {
      "cell_type": "markdown",
      "source": [
        "#Jacobi iteration method"
      ],
      "metadata": {
        "id": "vfyRvIambBRs"
      }
    },
    {
      "cell_type": "markdown",
      "source": [
        "Begin by writing out the linear system in index form:"
      ],
      "metadata": {
        "id": "0hSyDDPmaY2V"
      }
    },
    {
      "cell_type": "markdown",
      "source": [
        "$$\n",
        "\\begin{align*}\n",
        "A x &= b \\\\\n",
        "\\sum_{j} A_{ij} x_j&=b_i \\\\\n",
        "\\begin{bmatrix}\n",
        "a_{1,1} & a_{1,2} & ... & a_{1,n}\\\\\n",
        "a_{2,1} & a_{2,2} & ... & a_{2,n}\\\\\n",
        "... & ... & ... & ... \\\\\n",
        "a_{m,1} & a_{m,2} & ... & a_{m,n}\n",
        "\\end{bmatrix}\\left[\\begin{array}{c} x_1 \\\\x_2 \\\\ ... \\\\x_n \\end{array}\\right] &=\n",
        "\\left[\\begin{array}{c} b_1 \\\\b_2 \\\\ ... \\\\b_m \\end{array}\\right]\n",
        "\\end{align*}$$\n",
        "\n",
        "Extract the $i$th row, and solve for the diagonal term:\n",
        "\n",
        "$$\\begin{aligned}\n",
        "A_{ii}x_i^{k+1} &+ \\sum_{j \\ne i} A_{ij} x_j^k  = b_i \\\\\n",
        "x_i^{k+1} &= \\frac{1}{A_{ii}}\\left[b_i-\\sum_{j \\ne i} A_{ij} x_j^k\\right]\n",
        "\\end{aligned}$$\n",
        "\n",
        "This makes $x_i^{k+1}$ consistent with all the other elements."
      ],
      "metadata": {
        "id": "duqHxM-MaLKK"
      }
    },
    {
      "cell_type": "markdown",
      "source": [
        "We can write this in matrix form by pulling appart $A$ along its diagonal, $D$, into the upper $U$ and lower $L$ matricies:\n",
        "\n",
        "$A = L + D + U$\n",
        "\n",
        "NB: This is not a matrix decomposition; we are literally just pulling it apart (blank elements are zeros):\n",
        "\n",
        "$$\\begin{bmatrix} a_{11} & a_{12} & a_{13} \\\\ a_{21} & a_{22} & a_{23} \\\\ a_{31} & a_{32} & a_{33} \\end{bmatrix} = \\begin{bmatrix}  &  &  \\\\ a_{21} &  &  \\\\ a_{22} & a_{23} & 0 \\end{bmatrix} + \\begin{bmatrix} a_{11} &  &  \\\\  & a_{22} &  \\\\  &  & a_{33} \\end{bmatrix} + \\begin{bmatrix}  & a_{12} & a_{13} \\\\  &  & a_{23} \\\\  &  &  \\end{bmatrix}\n",
        "$$\n",
        "\n",
        "\n",
        "\n",
        "\n",
        "\n",
        "The algorithm becomes:\n",
        "$$\\begin{align}\n",
        "D x^{k+1} &= b-[L+U]x^k \\\\\n",
        "x^{k+1} &= D^{-1} \\big[b-[L+U]x^k\\big]\n",
        "\\end{align} $$"
      ],
      "metadata": {
        "id": "k8ojCYrjbfUE"
      }
    },
    {
      "cell_type": "markdown",
      "source": [
        "Note:\n",
        "- Each new vector uses the *entire* previous one. We need to store both $x^k$ and $x^{k+1}$.\n",
        "- More memory but parallelizes better!"
      ],
      "metadata": {
        "id": "YTtkJ_Ftz6cX"
      }
    },
    {
      "cell_type": "code",
      "source": [
        "# prompt: Write a code that take a single Jacobi iteration step\n",
        "import numpy as np\n",
        "\n",
        "def jacobi_step(A, b, x):\n",
        "  \"\"\"Performs a single Jacobi iteration step.\n",
        "\n",
        "  Args:\n",
        "    A: The coefficient matrix.\n",
        "    b: The right-hand side vector.\n",
        "    x: The current solution vector.\n",
        "\n",
        "  Returns:\n",
        "    The updated solution vector.\n",
        "  \"\"\"\n",
        "\n",
        "  n = len(x)\n",
        "  x_new = np.zeros_like(x)\n",
        "  for i in range(n):\n",
        "    x_new[i] = (b[i] - np.dot(A[i, :i], x[:i]) - np.dot(A[i, i + 1:], x[i + 1:])) / A[i, i]\n",
        "  return x_new\n"
      ],
      "metadata": {
        "id": "xGezreohYQsl"
      },
      "execution_count": 1,
      "outputs": []
    },
    {
      "cell_type": "code",
      "source": [
        "# Test it!\n",
        "A = np.array([[4, 1], [1, 3]])\n",
        "b = np.array([5, 6])\n",
        "x0 = np.array([0., 0.])\n",
        "\n",
        "print('Residual for ', x0, ' is ', np.linalg.norm(A@x0-b))\n",
        "\n",
        "x_new = jacobi_step(A, b, x0)\n",
        "print('Residual for ', x_new, ' is ', np.linalg.norm(A@x_new-b))\n",
        "\n",
        "print('The true answer is ', np.linalg.solve(A, b))"
      ],
      "metadata": {
        "colab": {
          "base_uri": "https://localhost:8080/"
        },
        "id": "sq0pcSykYkfK",
        "outputId": "fd478d90-0400-48d0-dcf0-348e31fa7568"
      },
      "execution_count": 2,
      "outputs": [
        {
          "output_type": "stream",
          "name": "stdout",
          "text": [
            "Residual for  [0. 0.]  is  7.810249675906654\n",
            "Residual for  [1.25 2.  ]  is  2.358495283014151\n",
            "The true answer is  [0.81818182 1.72727273]\n"
          ]
        }
      ]
    },
    {
      "cell_type": "markdown",
      "source": [
        "#Gauss-Seidel\n",
        "\n",
        "Gauss-Seidel uses the same concept except that the next guess for $x_i$ is based on the *current* version of $x$. I.e.: If we are moving downwards through the rows, the $i$th element is updated based on the updated rows above.\n",
        "\n",
        "$$\\begin{aligned}\n",
        "x_i^{k+1} &= \\frac{1}{A_{ii}}\\left[b_i-\\sum_{j=1}^{i-1} A_{ij} x_j^{k+1} -\\sum_{j=i+1}^n A_{ij} x_j^k\\right]\n",
        "\\end{aligned}$$\n",
        "\n",
        "This can again be written in matrix form:\n",
        "$$\\begin{align}\n",
        "A_{ii}x_i^{k+1} + \\sum_{j=1}^{i-1} A_{ij} x_j^{k+1} &= b_i-\\sum_{j=i+1}^n A_{ij} x_j^k\\\\\n",
        "[D + L] x^{k+1} &= b - Ux^{k}\n",
        "\\end{align}\n",
        "$$\n",
        "\n"
      ],
      "metadata": {
        "id": "tXDsQv-X9RrY"
      }
    },
    {
      "cell_type": "markdown",
      "source": [
        "Gauss-Seidel is conceptually easier to implement since if we modify $x$ in place, each $x_i^{k+1}$ is built from all the other *current elements*! We can drop the iteration superscript and write (note the arrow for assignment):\n",
        "\n",
        "$$\\begin{aligned}\n",
        "x_i \\leftarrow \\frac{1}{A_{ii}}\\left[b_i-\\sum_{j \\ne i} A_{ij} x_j \\right]\n",
        "\\end{aligned}$$"
      ],
      "metadata": {
        "id": "AhXB8B71v_mL"
      }
    },
    {
      "cell_type": "markdown",
      "source": [
        "Notes:\n",
        "- Each iteration includes the previously updated elements.\n",
        "- We can just store 1 vector and update *in-place*.\n",
        "- Less memory but doesn't parallelize as well."
      ],
      "metadata": {
        "id": "inHMreFc0yw9"
      }
    },
    {
      "cell_type": "code",
      "source": [
        "# prompt: Write a code like above that takes a single Gauss-sidel step\n",
        "\n",
        "import numpy as np\n",
        "def gauss_seidel_step(A, b, x, omega = 1):\n",
        "  \"\"\"Performs a single Gauss-Seidel iteration step.\n",
        "\n",
        "  Args:\n",
        "    A: The coefficient matrix.\n",
        "    b: The right-hand side vector.\n",
        "    x: The current solution vector.\n",
        "\n",
        "  Returns:\n",
        "    The updated solution vector.\n",
        "  \"\"\"\n",
        "\n",
        "  n = len(x)\n",
        "  for i in range(n):\n",
        "    x[i] = (b[i] - np.dot(A[i, :i], x[:i]) - np.dot(A[i, i + 1:], x[i + 1:])) / A[i, i]\n",
        "  return x\n"
      ],
      "metadata": {
        "id": "InogYRu8cFPW"
      },
      "execution_count": 3,
      "outputs": []
    },
    {
      "cell_type": "code",
      "source": [
        "# Test it!\n",
        "A = np.array([[4, 1], [1, 3]])\n",
        "b = np.array([5, 6])\n",
        "x0 = np.array([0., 0.])\n",
        "\n",
        "print('Residual for ', x0, ' is ', np.linalg.norm(A@x0-b))\n",
        "\n",
        "x_new = gauss_seidel_step(A, b, x0.copy())\n",
        "print('Residual for ', x_new, ' is ', np.linalg.norm(A@x_new-b))\n",
        "\n",
        "print('The true answer is ', np.linalg.solve(A, b))"
      ],
      "metadata": {
        "colab": {
          "base_uri": "https://localhost:8080/"
        },
        "id": "4ifTX3gDPSsw",
        "outputId": "a4e3f945-3982-43cc-ad2a-0fc767ca2102"
      },
      "execution_count": 4,
      "outputs": [
        {
          "output_type": "stream",
          "name": "stdout",
          "text": [
            "Residual for  [0. 0.]  is  7.810249675906654\n",
            "Residual for  [1.25       1.58333333]  is  1.583333333333333\n",
            "The true answer is  [0.81818182 1.72727273]\n"
          ]
        }
      ]
    },
    {
      "cell_type": "markdown",
      "source": [
        "#Successive Over Relaxation (SOR)"
      ],
      "metadata": {
        "id": "PRvfzDZq5K_V"
      }
    },
    {
      "cell_type": "markdown",
      "source": [
        "The convergence of Gauss-Sidel can be improved through *relaxation*: Let's take a weighted average of the new and old $x_i^{k+1}$:\n",
        "\n",
        "$$\\begin{aligned}\n",
        "x_i^{k+1} &= \\frac{\\omega}{A_{ii}}\\left[b_i-\\sum_{j=1}^{i-1} A_{ij} x_j^{k+1} -\\sum_{j=i+1}^n A_{ij} x_j^k\\right] + [1-\\omega] x^k_i \\\\\n",
        "x_i &← \\frac{\\omega}{A_{ii}}\\left[b_i-\\sum_{j \\ne i} A_{ij} x_j \\right] + [1-\\omega] x_i\n",
        "\\end{aligned}$$\n",
        "\n",
        "Let's look at three cases:\n",
        "- $\\omega = 1$ the method is exactly Gauss-Seidel (therefore you will usually only find SOR out in the wild)\n",
        "- $\\omega\\lt 1$ the method is *underrelaxed* and will converge / diverge more slowly. Hopefully this will lead to better (albeit slower) convergence...\n",
        "- $\\omega \\gt 1$ the method is *over relaxed* and convergence / divergence will be accelarated!\n",
        "\n",
        "\n",
        "\n"
      ],
      "metadata": {
        "id": "eszOcru85Vzs"
      }
    },
    {
      "cell_type": "markdown",
      "source": [
        "In general, SOR with a well-chosen $\\omega$ will outperform Gauss-Seidel, but choosing $\\omega$ is not-trivial.\n",
        "\n",
        "One option:\n",
        "Calculate the difference between successive iterations:\n",
        "\n",
        "$\\Delta x^k = ||x^{k}-x^{k-1})||$\n",
        "\n",
        "After an integer $p$ more iterations, recalculate:\n",
        "\n",
        "$\\Delta x^{k+p} =||x^{k+p}-x^{k+p-1}||$\n",
        "\n",
        "then the optimal $\\omega$ can be found:\n",
        "\n",
        "$\\omega_{opt} \\approx \\frac{2}{1+\\sqrt{1+\\left[ \\frac{\\Delta x^{k+p}}{\\Delta x^{k}} \\right]^p }}$"
      ],
      "metadata": {
        "id": "jmnAYl8tgqcX"
      }
    },
    {
      "cell_type": "code",
      "source": [
        "# prompt: Write a code that uses the Gauss Seidel function inside a successive over relaxation function to determine step size\n",
        "\n",
        "import numpy as np\n",
        "def sor_step(A, b, x):\n",
        "  \"\"\"Performs a single SOR iteration step.\n",
        "\n",
        "  Args:\n",
        "    A: The coefficient matrix.\n",
        "    b: The right-hand side vector.\n",
        "    x: The current solution vector.\n",
        "    omega: The relaxation factor.\n",
        "\n",
        "  Returns:\n",
        "    The updated solution vector.\n",
        "  \"\"\"\n",
        "  omega = 1.05\n",
        "  n = len(x)\n",
        "  for i in range(n):\n",
        "    x[i] = (1 - omega) * x[i] + (omega / A[i, i]) * (b[i] - np.dot(A[i, :i], x[:i]) - np.dot(A[i, i + 1:], x[i + 1:]))\n",
        "  return x\n",
        "\n",
        "#Test it!\n",
        "A = np.array([[4, 1], [1, 3]])\n",
        "b = np.array([5, 6])\n",
        "x0 = np.array([0., 0.])\n",
        "\n",
        "print('Residual for ', x0, ' is ', np.linalg.norm(A@x0-b))\n",
        "\n",
        "x_new = gauss_seidel_step(A, b, x0.copy())\n",
        "print('Residual for ', x_new, ' is ', np.linalg.norm(A@x_new-b))\n",
        "\n",
        "print('The true answer is ', np.linalg.solve(A, b))\n"
      ],
      "metadata": {
        "id": "rVkbGHCQV4Bi",
        "colab": {
          "base_uri": "https://localhost:8080/"
        },
        "outputId": "9635a4a9-a51a-4486-f12d-27f2e1f59ec7"
      },
      "execution_count": 6,
      "outputs": [
        {
          "output_type": "stream",
          "name": "stdout",
          "text": [
            "Residual for  [0. 0.]  is  7.810249675906654\n",
            "Residual for  [1.25       1.58333333]  is  1.583333333333333\n",
            "The true answer is  [0.81818182 1.72727273]\n"
          ]
        }
      ]
    },
    {
      "cell_type": "markdown",
      "source": [
        "#Summary\n",
        "- Jacobi, Gauss-Seidel, and SOR are all suitable for large, sparse matricies.\n",
        "- Since the matrix, and therefore the L D U partitions don't change, terms can be precomputed outside of the iteration loop for computational efficiency.\n",
        "- They generally are more memory efficient and faster but convergence is not guaranteed.\n",
        "- Even with guaranteed convergence, convergence can be slow.\n",
        "\n",
        "**Jacobi**\n",
        "- Easily parallelized but slower convergence.\n",
        "- Guaranteed to converge if $A$ is diagonally dominant\n",
        "\n",
        "**Gauss-Seidel**\n",
        "- Faster convergence but doesn't parallelize well.\n",
        "- Guaranteed to converge if $A$ is diagonally dominant or symmetric ositive definite.\n",
        "\n",
        "**Successive Over Relaxation**\n",
        "- Generalization of Gauss-Seidel ($\\omega = 1$).  \n",
        "- *May* converge faster.\n",
        "- Success hinges on choice of $\\omega$.\n",
        "- Shares guaranteed convergence of Gauss-Seidel if $0 \\lt \\omega \\lt 2$."
      ],
      "metadata": {
        "id": "pevq0vu9ikpR"
      }
    },
    {
      "cell_type": "markdown",
      "source": [
        "#Let's code!\n",
        "\n",
        "Let's code in these methods and compare the results. (The python standard libraries don't have implementaitons).\n",
        "\n",
        "All the schemes:\n",
        "1. Start with a guess, $A$ matrix and $b$ vector\n",
        "2. Do *something* to find a new guess (using A and b)\n",
        "3. Check how well the guess solves the linear system\n",
        "4. Repeats (possibly updating a parameter first)\n",
        "\n",
        "Define a wrapper that implements the above framework, passing a function to do each step. Let's plot what the system looks like and trace the estimation."
      ],
      "metadata": {
        "id": "-GuiLGEXWXUX"
      }
    },
    {
      "cell_type": "code",
      "source": [
        "max_iter = 100  # ALWAYS HAVE A FAILSAFE WHEN YOU PLAY WITH INFINITE LOOPS!\n",
        "tolerance = 1e-6\n",
        "A = np.array([[4, 1], [1, 3]])\n",
        "b = np.array([5, 6])\n",
        "x0 = np.array([0., 0.])\n",
        "\n",
        "x_true = np.linalg.solve(A, b)\n",
        "print('The true answer is ', x_true)\n",
        "\n",
        "\n",
        "# Utility function to autoscale the plot limits to include x0 and x_true\n",
        "def calculate_box_limits(point1, point2, padding=1.0):\n",
        "    # Extract coordinates\n",
        "    x1, y1 = point1\n",
        "    x2, y2 = point2\n",
        "    # Calculate min and max coordinates with padding\n",
        "    min_x = min(x1, x2) - padding\n",
        "    max_x = max(x1, x2) + padding\n",
        "    min_y = min(y1, y2) - padding\n",
        "    max_y = max(y1, y2) + padding\n",
        "    return (min_x, max_x, min_y, max_y)\n",
        "\n",
        "\n",
        "xb, xe, yb, ye = calculate_box_limits(x0, x_true)\n",
        "# Plot the linear system\n",
        "import matplotlib.pyplot as plt\n",
        "from mpl_toolkits.mplot3d import Axes3D\n",
        "x = np.linspace(xb, xe, 100)\n",
        "y = np.linspace(yb, ye, 100)\n",
        "X, Y = np.meshgrid(x, y)\n",
        "V = np.stack((X,Y),-1)\n",
        "Z = np.linalg.norm(np.matmul(V,A.T)-b, axis = -1)\n",
        "fig, ax = plt.subplots()\n",
        "CS = ax.contour(X, Y, Z)\n",
        "ax.clabel(CS, inline=True, fontsize=10)\n",
        "\n",
        "\n",
        "method = jacobi_step\n",
        "#method = gauss_seidel_step\n",
        "#method = sor_step\n",
        "\n",
        "\n",
        "for i in range(max_iter):\n",
        "  x_new = method(A, b, x0.copy())\n",
        "  R = np.linalg.norm(A@x_new-b)\n",
        "\n",
        "  print('Iteration ', i, ' determined ', x_new, 'with residual', R)\n",
        "  plt.plot([x0[0], x_new[0]], [x0[1], x_new[1]], '-o')\n",
        "  if np.linalg.norm(R) < tolerance:\n",
        "    print('Converged after, ', i, ' iterations to: ', x_new)\n",
        "    break\n",
        "  x0 = x_new.copy()\n"
      ],
      "metadata": {
        "colab": {
          "base_uri": "https://localhost:8080/",
          "height": 690
        },
        "id": "7aVmLUO9Q5iH",
        "outputId": "741e0506-b073-40f2-e757-cf97ecc396d7"
      },
      "execution_count": 25,
      "outputs": [
        {
          "output_type": "stream",
          "name": "stdout",
          "text": [
            "The true answer is  [0.81818182 1.72727273]\n",
            "Iteration  0  determined  [1.25 2.  ] with residual 2.358495283014151\n",
            "Iteration  1  determined  [0.75       1.58333333] with residual 0.650854139658888\n",
            "Iteration  2  determined  [0.85416667 1.75      ] with residual 0.19654127358451298\n",
            "Iteration  3  determined  [0.8125     1.71527778] with residual 0.05423784497157428\n",
            "Iteration  4  determined  [0.82118056 1.72916667] with residual 0.016378439465376277\n",
            "Iteration  5  determined  [0.81770833 1.72627315] with residual 0.004519820414298246\n",
            "Iteration  6  determined  [0.81843171 1.72743056] with residual 0.0013648699554481016\n",
            "Iteration  7  determined  [0.81814236 1.72718943] with residual 0.00037665170119081915\n",
            "Iteration  8  determined  [0.81820264 1.72728588] with residual 0.00011373916295438507\n",
            "Iteration  9  determined  [0.81817853 1.72726579] with residual 3.1387641766271184e-05\n",
            "Iteration  10  determined  [0.81818355 1.72727382] with residual 9.47826357947717e-06\n",
            "Iteration  11  determined  [0.81818154 1.72727215] with residual 2.6156368136569228e-06\n",
            "Iteration  12  determined  [0.81818196 1.72727282] with residual 7.898552987055788e-07\n",
            "Converged after,  12  iterations to:  [0.81818196 1.72727282]\n"
          ]
        },
        {
          "output_type": "display_data",
          "data": {
            "text/plain": [
              "<Figure size 640x480 with 1 Axes>"
            ],
            "image/png": "[encoded data removed]"
          },
          "metadata": {}
        }
      ]
    },
    {
      "cell_type": "markdown",
      "source": [
        "## Example: Iteratively solve a large matrix"
      ],
      "metadata": {
        "id": "YUbedhC8nIpR"
      }
    },
    {
      "cell_type": "code",
      "source": [
        "# prompt: Form a large, sparse linear system with a diagonally dominant random matrix\n",
        "\n",
        "import numpy as np\n",
        "\n",
        "def create_diagonally_dominant_matrix(n):\n",
        "  \"\"\"Creates a diagonally dominant random matrix.\n",
        "\n",
        "  Args:\n",
        "    n: The size of the matrix.\n",
        "\n",
        "  Returns:\n",
        "    A diagonally dominant random matrix.\n",
        "  \"\"\"\n",
        "\n",
        "  A = np.random.rand(n, n)\n",
        "  for i in range(n):\n",
        "    A[i, i] = np.sum(np.abs(A[i, :])) + np.random.rand()  # Ensure diagonal dominance\n",
        "\n",
        "  return A\n"
      ],
      "metadata": {
        "id": "4NiDpNf5nCxf"
      },
      "execution_count": 26,
      "outputs": []
    },
    {
      "cell_type": "code",
      "source": [
        "# put this into a function for convenience\n",
        "def iter_solve(A, b, method):\n",
        "  x0 = np.zeros(b.shape[0])\n",
        "\n",
        "  max_iter = 1000\n",
        "  tolerance = 1e-6\n",
        "\n",
        "  for i in range(max_iter):\n",
        "    x_new = method(A, b, x0.copy())\n",
        "    R = np.linalg.norm(A@x_new-b)\n",
        "\n",
        "    #print('Iteration ', i, ' determined ', x_new, 'with residual', R)\n",
        "    if np.linalg.norm(R) < tolerance:\n",
        "      print('Converged after, ', i, ' iterations.')\n",
        "      break\n",
        "    x0 = x_new.copy()"
      ],
      "metadata": {
        "id": "-ok0AdcPoJNx"
      },
      "execution_count": 27,
      "outputs": []
    },
    {
      "cell_type": "markdown",
      "source": [
        "### n=4"
      ],
      "metadata": {
        "id": "D3yGa4_oR6In"
      }
    },
    {
      "cell_type": "code",
      "source": [
        "n = 4  # Size of the matrix\n",
        "A = create_diagonally_dominant_matrix(n)\n",
        "b = np.random.rand(n)  # Create a random right-hand side vector\n",
        "\n",
        "print('LU')\n",
        "%timeit -n1 -r1 np.linalg.solve(A, b)\n",
        "\n",
        "print('\\nJacobi')\n",
        "%timeit -n1 -r1 iter_solve(A, b, jacobi_step)\n",
        "print('\\nGauss-Seidel')\n",
        "%timeit -n1 -r1 iter_solve(A, b, gauss_seidel_step)\n",
        "print('\\nSOR')\n",
        "%timeit -n1 -r1 iter_solve(A, b, sor_step)"
      ],
      "metadata": {
        "colab": {
          "base_uri": "https://localhost:8080/"
        },
        "id": "j2YKwwX1nbiV",
        "outputId": "6c132300-8560-4d50-afab-b29e12f029b5"
      },
      "execution_count": 28,
      "outputs": [
        {
          "output_type": "stream",
          "name": "stdout",
          "text": [
            "LU\n",
            "90.6 µs ± 0 ns per loop (mean ± std. dev. of 1 run, 1 loop each)\n",
            "\n",
            "Jacobi\n",
            "Converged after,  18  iterations.\n",
            "6.07 ms ± 0 ns per loop (mean ± std. dev. of 1 run, 1 loop each)\n",
            "\n",
            "Gauss-Seidel\n",
            "Converged after,  6  iterations.\n",
            "1.61 ms ± 0 ns per loop (mean ± std. dev. of 1 run, 1 loop each)\n",
            "\n",
            "SOR\n",
            "Converged after,  6  iterations.\n",
            "3.14 ms ± 0 ns per loop (mean ± std. dev. of 1 run, 1 loop each)\n"
          ]
        }
      ]
    },
    {
      "cell_type": "markdown",
      "source": [
        "### n = 100"
      ],
      "metadata": {
        "id": "kcEmQek1SDTe"
      }
    },
    {
      "cell_type": "code",
      "source": [
        "n = 100  # Size of the matrix\n",
        "A = create_diagonally_dominant_matrix(n)\n",
        "b = np.random.rand(n)  # Create a random right-hand side vector\n",
        "\n",
        "print('LU')\n",
        "%timeit -n1 -r1 np.linalg.solve(A, b)\n",
        "\n",
        "print('\\nJacobi')\n",
        "%timeit -n1 -r1 iter_solve(A, b, jacobi_step)\n",
        "print('\\nGauss-Seidel')\n",
        "%timeit -n1 -r1 iter_solve(A, b, gauss_seidel_step)\n",
        "print('\\nSOR')\n",
        "%timeit -n1 -r1 iter_solve(A, b, sor_step)"
      ],
      "metadata": {
        "colab": {
          "base_uri": "https://localhost:8080/"
        },
        "id": "MReXzZosqoJE",
        "outputId": "1f77a0f7-20d7-44e3-988c-a10d8f85e5c4"
      },
      "execution_count": 17,
      "outputs": [
        {
          "output_type": "stream",
          "name": "stdout",
          "text": [
            "LU\n",
            "5.24 ms ± 0 ns per loop (mean ± std. dev. of 1 run, 1 loop each)\n",
            "\n",
            "Jacobi\n",
            "Converged after,  787  iterations.\n",
            "1.39 s ± 0 ns per loop (mean ± std. dev. of 1 run, 1 loop each)\n",
            "\n",
            "Gauss-Seidel\n",
            "Converged after,  10  iterations.\n",
            "19.4 ms ± 0 ns per loop (mean ± std. dev. of 1 run, 1 loop each)\n",
            "\n",
            "SOR\n",
            "Converged after,  11  iterations.\n",
            "12.9 ms ± 0 ns per loop (mean ± std. dev. of 1 run, 1 loop each)\n"
          ]
        }
      ]
    },
    {
      "cell_type": "markdown",
      "source": [
        "### n = 1000"
      ],
      "metadata": {
        "id": "tnjuxw6hSF_D"
      }
    },
    {
      "cell_type": "code",
      "source": [
        "n = 1000  # Size of the matrix\n",
        "A = create_diagonally_dominant_matrix(n)\n",
        "b = np.random.rand(n)  # Create a random right-hand side vector\n",
        "\n",
        "print('LU')\n",
        "%timeit -n1 -r1 np.linalg.solve(A, b)\n",
        "\n",
        "#print('\\nJacobi')\n",
        "#%timeit -n1 -r1 iter_solve(A, b, jacobi_step)\n",
        "print('\\nGauss-Seidel')\n",
        "%timeit -n1 -r1 iter_solve(A, b, gauss_seidel_step)\n",
        "#print('\\nSOR')\n",
        "#%timeit -n1 -r1 iter_solve(A, b, sor_step)"
      ],
      "metadata": {
        "colab": {
          "base_uri": "https://localhost:8080/"
        },
        "id": "CDecGMQnqpDM",
        "outputId": "18357eca-4558-4531-fab4-9bae22af63fb"
      },
      "execution_count": 29,
      "outputs": [
        {
          "output_type": "stream",
          "name": "stdout",
          "text": [
            "LU\n",
            "50.3 ms ± 0 ns per loop (mean ± std. dev. of 1 run, 1 loop each)\n",
            "\n",
            "Gauss-Seidel\n",
            "Converged after,  10  iterations.\n",
            "115 ms ± 0 ns per loop (mean ± std. dev. of 1 run, 1 loop each)\n"
          ]
        }
      ]
    },
    {
      "cell_type": "markdown",
      "source": [
        "### n = 3000"
      ],
      "metadata": {
        "id": "p9wjWO2DSJ3V"
      }
    },
    {
      "cell_type": "code",
      "source": [
        "n = 3000  # Size of the matrix\n",
        "A = create_diagonally_dominant_matrix(n)\n",
        "b = np.random.rand(n)  # Create a random right-hand side vector\n",
        "\n",
        "print('LU')\n",
        "%timeit -n1 -r1 np.linalg.solve(A, b)\n",
        "\n",
        "#print('\\nJacobi')\n",
        "#%timeit -n1 -r1 iter_solve(A, b, jacobi_step)\n",
        "print('\\nGauss-Seidel')\n",
        "%timeit -n1 -r1 iter_solve(A, b, gauss_seidel_step)\n",
        "#print('\\nSOR')\n",
        "#%timeit -n1 -r1 iter_solve(A, b, sor_step)"
      ],
      "metadata": {
        "colab": {
          "base_uri": "https://localhost:8080/"
        },
        "id": "Xr1oaYC2q14B",
        "outputId": "4f6d9bd5-1834-4601-da7b-8bb8dcae8263"
      },
      "execution_count": 30,
      "outputs": [
        {
          "output_type": "stream",
          "name": "stdout",
          "text": [
            "LU\n",
            "692 ms ± 0 ns per loop (mean ± std. dev. of 1 run, 1 loop each)\n",
            "\n",
            "Gauss-Seidel\n",
            "Converged after,  10  iterations.\n",
            "411 ms ± 0 ns per loop (mean ± std. dev. of 1 run, 1 loop each)\n"
          ]
        }
      ]
    },
    {
      "cell_type": "markdown",
      "source": [
        "### n = 5000"
      ],
      "metadata": {
        "id": "NIpHqLYZSOv6"
      }
    },
    {
      "cell_type": "markdown",
      "source": [
        "HERE WE GO!\n",
        "Remember, this is a terrible implementation of GS! Numpy with loops is going to be slow!"
      ],
      "metadata": {
        "id": "YrIWK23hrXQw"
      }
    },
    {
      "cell_type": "code",
      "source": [
        "n = 5000  # Size of the matrix\n",
        "A = create_diagonally_dominant_matrix(n)\n",
        "b = np.random.rand(n)  # Create a random right-hand side vector\n",
        "\n",
        "print('LU')\n",
        "%timeit -n1 -r1 np.linalg.solve(A, b)\n",
        "\n",
        "#print('\\nJacobi')\n",
        "#%timeit -n1 -r1 iter_solve(A, b, jacobi_step)\n",
        "print('\\nGauss-Seidel')\n",
        "%timeit -n1 -r1 iter_solve(A, b, gauss_seidel_step)\n",
        "#print('\\nSOR')\n",
        "#%timeit -n1 -r1 iter_solve(A, b, sor_step)"
      ],
      "metadata": {
        "colab": {
          "base_uri": "https://localhost:8080/"
        },
        "id": "YsoL71_lrFL3",
        "outputId": "4b8421ae-4b53-4456-f17d-937b23a192af"
      },
      "execution_count": 31,
      "outputs": [
        {
          "output_type": "stream",
          "name": "stdout",
          "text": [
            "LU\n",
            "2.8 s ± 0 ns per loop (mean ± std. dev. of 1 run, 1 loop each)\n",
            "\n",
            "Gauss-Seidel\n",
            "Converged after,  11  iterations.\n",
            "874 ms ± 0 ns per loop (mean ± std. dev. of 1 run, 1 loop each)\n"
          ]
        }
      ]
    },
    {
      "cell_type": "code",
      "source": [],
      "metadata": {
        "id": "9C1Lk10arHhT"
      },
      "execution_count": null,
      "outputs": []
    }
  ]
}