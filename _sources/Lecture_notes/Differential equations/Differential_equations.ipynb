{
  "nbformat": 4,
  "nbformat_minor": 0,
  "metadata": {
    "colab": {
      "provenance": [],
      "toc_visible": true,
      "authorship_tag": "ABX9TyOTOR/4aSUny3QQM81cMLFe",
      "include_colab_link": true
    },
    "kernelspec": {
      "name": "python3",
      "display_name": "Python 3"
    },
    "language_info": {
      "name": "python"
    }
  },
  "cells": [
    {
      "cell_type": "markdown",
      "metadata": {
        "id": "view-in-github",
        "colab_type": "text"
      },
      "source": [
        "<a href=\"https://colab.research.google.com/github/mwelland/ENGPYHS_3NM4/blob/main/Differential_equations.ipynb\" target=\"_parent\"><img src=\"https://colab.research.google.com/assets/colab-badge.svg\" alt=\"Open In Colab\"/></a>"
      ]
    },
    {
      "cell_type": "markdown",
      "source": [
        "# Differential equations\n",
        "\n",
        ">Since Newton, mankind has come to realize that the laws of physics are always expressed in the language of differential equations. - Steven Strogatz\n",
        "\n",
        "Differential equations relate functions and their derivatives, and are pervasive in modern engineering and science. The study of differential equations is vast with many innovative ideas being explored."
      ],
      "metadata": {
        "id": "ytqzxGGA2yr1"
      }
    },
    {
      "cell_type": "markdown",
      "source": [
        "## An incomplete classification of equations"
      ],
      "metadata": {
        "id": "giF-wKUmitZw"
      }
    },
    {
      "cell_type": "markdown",
      "source": [
        "| **Classification** | **Type** | **Description** | **Example** |\n",
        "|--------------------|----------|-----------------|-------------|\n",
        "| **Order of Differential Equations** | First-Order | Involves the first derivative of the function. | $$\\frac{dy}{dx} = y$$ |\n",
        "| | Second-Order and Higher | Involves second or higher derivatives. | $$\\frac{d^2y}{dx^2} + 3\\frac{dy}{dx} + 2y = 0$$ |\n",
        "| **Linear vs. Nonlinear Differential Equations** | Linear | The dependent variable and its derivatives appear linearly. | $$\\frac{d^2y}{dx^2} + p(x)\\frac{dy}{dx} + q(x)y = g(x)$$ |\n",
        "| | Nonlinear | The equation involves nonlinear terms of the dependent variable or its derivatives. | $$\\left(\\frac{dy}{dx}\\right)^2 + y = 0$$ |\n",
        "| **Homogeneous vs. Non-Homogeneous Differential Equations** | Homogeneous | All terms are a function of the dependent variable and its derivatives. | $$\\frac{d^2y}{dx^2} - y = 0$$ |\n",
        "| | Non-Homogeneous | Includes terms that are not a function of the dependent variable or its derivatives. | $$\\frac{d^2y}{dx^2} - y = e^x$$ |\n",
        "| **Initial / Boundary Value Problems** | Initial Value Problems | The solution is determined by the value of the function and its derivatives at a single point. | $$\\frac{dy}{dx} = y, \\quad y(0) = 1$$ |\n",
        "| | Boundary Value Problems | The solution is determined by the values of the function at multiple points. | $$\\frac{d^2y}{dx^2} = -y, \\quad y(0) = 0, \\quad y(\\pi) = 0$$ |\n",
        "| **Ordinary vs. Partial Differential Equations** | Ordinary Differential Equations (ODEs) | Involve functions of a single variable and their derivatives. | $$\\frac{dy}{dx} + y = 0$$ |\n",
        "| | Partial Differential Equations (PDEs) | Involve functions of multiple variables and their partial derivatives. | $$\\frac{\\partial u}{\\partial t} = c^2 \\frac{\\partial^2 u}{\\partial x^2}$$ |\n",
        "| **Time dependent PDEs** | Elliptic PDEs | Stationary problems in time. | Laplace's equation, $$\\nabla^2 u = 0$$ |\n",
        "| | Parabolic PDEs | First derivative in time. | The heat equation, $$\\frac{\\partial u}{\\partial t} = \\alpha \\nabla^2 u$$ |\n",
        "| | Hyperbolic PDEs | Second derivative in time. | The wave equation, $$\\frac{\\partial^2 u}{\\partial t^2} = c^2 \\nabla^2 u$$ |\n"
      ],
      "metadata": {
        "id": "OhOLcNcTiFYc"
      }
    }
  ]
}