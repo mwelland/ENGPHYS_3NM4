{
 "cells": [
  {
   "cell_type": "markdown",
   "metadata": {
    "id": "00quPhP2u0Mj"
   },
   "source": [
    "# Linear systems"
   ]
  },
  {
   "cell_type": "markdown",
   "metadata": {
    "id": "5yrFcAFIvQ16"
   },
   "source": [
    "Linear system solvers are the workhorse of scientific computing, and includes the canonical *solve*.\n",
    "\n",
    "E.g. the trivial equation for $x$ with scalars $a$ and $b$:\n",
    "\n",
    "$ax = b$\n",
    "\n",
    "$x=b/a$\n",
    "\n",
    "> In contrast: $x^2 = 1$ is nonlinear.\n",
    "\n",
    "In general, we will have $n$ unknowns that must be solved *simultaneously* and a set of $m$ linear equations. The group of such equations is termed a *linear system* and is written compactly in matrix form:\n",
    "\n",
    "$A x = b$\n",
    "\n",
    "where\n",
    "\n",
    "$A$ is the *coefficient matrix* of dimension $m \\times n$\n",
    "\n",
    "$x$ is the *variable / unknown vector* of dimension (length) $n$\n",
    "\n",
    "$b$ is the *constant / right-hand side* vector of dimension $m$.  \n",
    "\n",
    "In most cases in this course we will be dealing with $n$ equations and $n$ unkowns. In that case, $m=n$ and $A$ is called $square$."
   ]
  }
 ],
 "metadata": {
  "colab": {
   "authorship_tag": "ABX9TyMAKGier6wB2BKralaUrQCl",
   "collapsed_sections": [
    "nb60_VTHpyYd",
    "etE_LvnloBkb",
    "ikVv8nAIbuJH"
   ],
   "include_colab_link": true,
   "provenance": [],
   "toc_visible": true
  },
  "kernelspec": {
   "display_name": "Python 3",
   "language": "python",
   "name": "python3"
  },
  "language_info": {
   "codemirror_mode": {
    "name": "ipython",
    "version": 3
   },
   "file_extension": ".py",
   "mimetype": "text/x-python",
   "name": "python",
   "nbconvert_exporter": "python",
   "pygments_lexer": "ipython3",
   "version": "3.12.3"
  }
 },
 "nbformat": 4,
 "nbformat_minor": 0
}
