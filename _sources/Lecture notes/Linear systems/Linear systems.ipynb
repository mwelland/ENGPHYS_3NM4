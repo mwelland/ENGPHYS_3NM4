{
 "cells": [
  {
   "cell_type": "markdown",
   "metadata": {
    "colab_type": "text",
    "id": "view-in-github"
   },
   "source": [
    "<a href=\"https://colab.research.google.com/github/mwelland/ENGPYHS_3NM4/blob/main/Linear_systems_1.ipynb\" target=\"_parent\"><img src=\"https://colab.research.google.com/assets/colab-badge.svg\" alt=\"Open In Colab\"/></a>"
   ]
  },
  {
   "cell_type": "markdown",
   "metadata": {
    "id": "00quPhP2u0Mj"
   },
   "source": [
    "# Linear systems"
   ]
  },
  {
   "cell_type": "markdown",
   "metadata": {
    "id": "5yrFcAFIvQ16"
   },
   "source": [
    "Linear system solvers are the workhorse of scientific computing, and includes the canonical *solve*.\n",
    "\n",
    "E.g. the trivial equation for $x$ with scalars $a$ and $b$:\n",
    "\n",
    "$ax = b$\n",
    "\n",
    "$x=b/a$\n",
    "\n",
    "> In contrast: $x^2 = 1$ is nonlinear.\n",
    "\n",
    "In general, we will have $n$ unknowns that must be solved *simultaneously* and a set of $m$ linear equations. The group of such equations is termed a *linear system* and is written compactly in matrix form:\n",
    "\n",
    "$A x = b$\n",
    "\n",
    "where\n",
    "\n",
    "$A$ is the *coefficient matrix* of dimension $m \\times n$\n",
    "\n",
    "$x$ is the *variable / unknown vector* of dimension (length) $n$\n",
    "\n",
    "$b$ is the *constant / right-hand side* vector of dimension $m$.  \n",
    "\n",
    "In most cases in this course we will be dealing with $n$ equations and $n$ unkowns. In that case, $m=n$ and $A$ is called $square$."
   ]
  },
  {
   "cell_type": "markdown",
   "metadata": {
    "id": "xUSTkv0au33S"
   },
   "source": [
    "## Demonstrative example:"
   ]
  },
  {
   "cell_type": "markdown",
   "metadata": {
    "id": "BJXQSy5W0f2_"
   },
   "source": [
    "You are organizing a fundraising event and need to buy chairs and tables. Chairs cost \\$20 each and tables cost \\$50 each. You have a budget of \\$700 and need a total of 20 pieces of furniture (chairs and tables combined). How many chairs and tables should you buy?"
   ]
  },
  {
   "cell_type": "markdown",
   "metadata": {
    "id": "mCgMB5kD1EGK"
   },
   "source": [
    "### Write out the problem"
   ]
  },
  {
   "cell_type": "markdown",
   "metadata": {
    "id": "EQHmyIOQn9jk"
   },
   "source": [
    "Let $c$ and $t$ be the number of chairs and tables respectively.\n",
    "The budget and pieces equations are,\n",
    "\n",
    "(1) $20 c + 50 t = 700$\n",
    "\n",
    "(2) $  c+t = 20$"
   ]
  },
  {
   "cell_type": "markdown",
   "metadata": {
    "id": "nb60_VTHpyYd"
   },
   "source": [
    "### Solve graphically"
   ]
  },
  {
   "cell_type": "markdown",
   "metadata": {
    "id": "HQoqHV4sZue0"
   },
   "source": [
    "Since these are lines, let's plot them!"
   ]
  },
  {
   "cell_type": "code",
   "execution_count": null,
   "metadata": {
    "id": "UYPDOe8Eqpla"
   },
   "outputs": [],
   "source": [
    "# prompt: Plot the two lines with a grid\n",
    "\n",
    "import matplotlib.pyplot as plt\n",
    "import numpy as np\n",
    "# Define the x values\n",
    "x = np.linspace(0, 20, 100)\n",
    "\n",
    "# Calculate the y values for the first equation (20c + 50t = 700)\n",
    "y1 = (700 - 20 * x) / 50\n",
    "\n",
    "# Calculate the y values for the second equation (c + t = 20)\n",
    "y2 = 20 - x\n",
    "\n",
    "# Plot the lines\n",
    "plt.plot(x, y1, label='20c + 50t = 700')\n",
    "plt.plot(x, y2, label='c + t = 20')\n",
    "\n",
    "# Add labels and title\n",
    "plt.xlabel('Number of Chairs (c)')\n",
    "plt.ylabel('Number of Tables (t)')\n",
    "plt.title('Fundraising Event')\n",
    "\n",
    "# Add a grid\n",
    "plt.grid(True)\n",
    "\n",
    "# Add a legend\n",
    "plt.legend()\n",
    "\n",
    "# Display the plot\n",
    "plt.show()\n"
   ]
  },
  {
   "cell_type": "markdown",
   "metadata": {
    "id": "-2q-6wPuZ2Vu"
   },
   "source": [
    "The point where the lines intersect satisfy both equations and is therefore a solution. Since lines only cross once, it is the unique solution.  "
   ]
  },
  {
   "cell_type": "markdown",
   "metadata": {
    "id": "etE_LvnloBkb"
   },
   "source": [
    "### Solve through elimination\n"
   ]
  },
  {
   "cell_type": "markdown",
   "metadata": {
    "id": "32VbKm1tpjEW"
   },
   "source": [
    "Multiply the second equation, (2), by $20$:\n",
    "\n",
    "(3)   $20c+20t = 400$.\n",
    "\n",
    "Subtract (3) from (1) and simplify:\n",
    "\n",
    "$30t = 300$\n",
    "\n",
    "$t=10$\n",
    "\n",
    "Substitute answer into (2):\n",
    "\n",
    "$c = 10$"
   ]
  },
  {
   "cell_type": "markdown",
   "metadata": {
    "id": "Q2PFrenU1GXh"
   },
   "source": [
    "### Matrix formulation and solution"
   ]
  },
  {
   "cell_type": "markdown",
   "metadata": {
    "id": "MDbZAgC3vtvq"
   },
   "source": [
    "Writting these as a matrix equation becomes:\n",
    "\n",
    "$\\begin{pmatrix}\n",
    "20 & 50 \\\\\n",
    "1 &1\n",
    "\\end{pmatrix}  \\begin{pmatrix}\n",
    "c \\\\\n",
    "t\n",
    "\\end{pmatrix} =\n",
    "\\begin{pmatrix}\n",
    "700 \\\\\n",
    "20\n",
    "\\end{pmatrix}$\n",
    "\n",
    "or in standard form,\n",
    "\n",
    "$A x = b$\n",
    "\n",
    "with\n",
    "$A = \\begin{pmatrix}\n",
    "20 & 50 \\\\\n",
    "1 &1\n",
    "\\end{pmatrix}$\n",
    "\n",
    "$x = \\begin{pmatrix}\n",
    "c \\\\\n",
    "t\n",
    "\\end{pmatrix}$\n",
    "\n",
    "$b = \\begin{pmatrix}\n",
    "700 \\\\\n",
    "20\n",
    "\\end{pmatrix}$"
   ]
  },
  {
   "cell_type": "markdown",
   "metadata": {
    "id": "HtM4XzjvstFC"
   },
   "source": [
    "#### Matrix inverse"
   ]
  },
  {
   "cell_type": "markdown",
   "metadata": {
    "id": "ZV0nF--_sxg7"
   },
   "source": [
    "Let's find $A^{-1}$ such that $x = A^{-1}b$. For a square matrix of dimensions 2x2:\n",
    "\n",
    "$\\begin{pmatrix} a & b \\\\ c & d \\end{pmatrix}^{-1} = \\frac{1}{|A|} \\begin{pmatrix} d & -b \\\\ -c & a \\end{pmatrix}$\n",
    "\n",
    "where $|A| =  ad-bc$ is the *determinant*.\n",
    "\n",
    "\n",
    "\n",
    "> The prefactor of \\frac{1}{|A|} is systemic to inversion. In general, $A^{-1} = \\frac{1}{|A|} adj(A)$ for square matricies of any dimension.\n",
    "\n",
    "For our case,\n",
    "\n",
    "$|A| = -30$, and\n",
    "\n",
    "$A^{-1} = \\frac{1}{-30} \\begin{pmatrix} 1 & -50 \\\\ -1 & 20 \\end{pmatrix}$\n",
    "\n",
    "thus, $A^{-1} b$:\n",
    "\n",
    "$x = \\begin{pmatrix}\n",
    "10 \\\\\n",
    "10 \\end{pmatrix}\n",
    "$"
   ]
  },
  {
   "cell_type": "markdown",
   "metadata": {
    "id": "5iSTeWTpwOD8"
   },
   "source": [
    "# Linear dependance / solvability"
   ]
  },
  {
   "cell_type": "markdown",
   "metadata": {
    "id": "YczKqLEswSPY"
   },
   "source": [
    "Lets tweak our problem and see what happens."
   ]
  },
  {
   "cell_type": "markdown",
   "metadata": {
    "id": "fcem_7lzbbQx"
   },
   "source": [
    "## Tweak \\#1"
   ]
  },
  {
   "cell_type": "markdown",
   "metadata": {
    "id": "rJcfGuzJbaZR"
   },
   "source": [
    "There is now a discount on tables down to \\$20 each. The customer heard about it and cut your budget to \\$400.  "
   ]
  },
  {
   "cell_type": "markdown",
   "metadata": {
    "id": "-Em4_qDlx5HY"
   },
   "source": [
    "\n",
    "The problem is now:\n",
    "\n",
    "$20 c + 20 t = 400$\n",
    "\n",
    "$  c+t = 20$"
   ]
  },
  {
   "cell_type": "markdown",
   "metadata": {
    "id": "LlxYDqoXaxRp"
   },
   "source": [
    "### Graphically"
   ]
  },
  {
   "cell_type": "code",
   "execution_count": null,
   "metadata": {
    "id": "TuoeAYi-x9Kp"
   },
   "outputs": [],
   "source": [
    "# prompt: Plot the two lines with a grid making the first line thicker\n",
    "\n",
    "import matplotlib.pyplot as plt\n",
    "import numpy as np\n",
    "# Define the x values\n",
    "x = np.linspace(0, 20, 100)\n",
    "\n",
    "# Calculate the y values for the first equation (20c + 20t = 400)\n",
    "y1 = (400 - 20 * x) / 20\n",
    "\n",
    "# Calculate the y values for the second equation (c + t = 20)\n",
    "y2 = 20 - x\n",
    "\n",
    "# Plot the lines\n",
    "plt.plot(x, y1, label='20c + 20t = 400', linewidth=3)  # Make the first line thicker\n",
    "plt.plot(x, y2, label='c + t = 20')\n",
    "\n",
    "# Add labels and title\n",
    "plt.xlabel('Number of Chairs (c)')\n",
    "plt.ylabel('Number of Tables (t)')\n",
    "plt.title('Fundraising Event (Revised)')\n",
    "\n",
    "# Add a grid\n",
    "plt.grid(True)\n",
    "\n",
    "# Add a legend\n",
    "plt.legend()\n",
    "\n",
    "# Display the plot\n",
    "plt.show()\n"
   ]
  },
  {
   "cell_type": "markdown",
   "metadata": {
    "id": "3IJF9sLByJYD"
   },
   "source": [
    "The lines overlap! What does this mean?"
   ]
  },
  {
   "cell_type": "markdown",
   "metadata": {
    "id": "C7VixhIAyV3u"
   },
   "source": [
    "### Try elimination\n"
   ]
  },
  {
   "cell_type": "markdown",
   "metadata": {
    "id": "b37mAlxhbAA3"
   },
   "source": [
    "Multiple second row by 20:\n",
    "\n",
    "$20c+20t = 400$\n",
    "\n",
    "subtracting the first we get,\n",
    "\n",
    "$0=0$\n",
    "\n",
    ":-("
   ]
  },
  {
   "cell_type": "markdown",
   "metadata": {
    "id": "knwsx3K-bBUa"
   },
   "source": [
    "### So what can we say?"
   ]
  },
  {
   "cell_type": "markdown",
   "metadata": {
    "id": "8CUSTB-Gy3_v"
   },
   "source": [
    "Solve the second equation to find\n",
    "$c = 20/t$\n",
    "\n",
    "and that's it! For all $t$ there is a $c$ that is a solution!"
   ]
  },
  {
   "cell_type": "markdown",
   "metadata": {
    "id": "Zgcy7ijizbcV"
   },
   "source": [
    "### What happens to the matrix equation?"
   ]
  },
  {
   "cell_type": "markdown",
   "metadata": {
    "id": "E2gxyigTbPXT"
   },
   "source": [
    "$|A|  = ad−bc = 0$\n",
    "\n",
    "What does this mean for the inverse $A^{-1}$?"
   ]
  },
  {
   "cell_type": "markdown",
   "metadata": {
    "id": "QEsDzOQ4z5ew"
   },
   "source": [
    "## Tweak #2"
   ]
  },
  {
   "cell_type": "markdown",
   "metadata": {
    "id": "IZJFui_iz709"
   },
   "source": [
    "WOOPS! The customer meant to say $500; no more, no less!\n",
    "\n",
    "The problem is now\n",
    "\n",
    "$20 c + 20 t = 500$\n",
    "\n",
    "$  c+t = 20$"
   ]
  },
  {
   "cell_type": "markdown",
   "metadata": {
    "id": "ikVv8nAIbuJH"
   },
   "source": [
    "### Graphically"
   ]
  },
  {
   "cell_type": "code",
   "execution_count": null,
   "metadata": {
    "id": "vWQMlDom0bRh"
   },
   "outputs": [],
   "source": [
    "# prompt: Graph it again please!\n",
    "\n",
    "import matplotlib.pyplot as plt\n",
    "import numpy as np\n",
    "# Define the x values\n",
    "x = np.linspace(0, 20, 100)\n",
    "\n",
    "# Calculate the y values for the first equation (20c + 20t = 500)\n",
    "y1 = (500 - 20 * x) / 20\n",
    "\n",
    "# Calculate the y values for the second equation (c + t = 20)\n",
    "y2 = 20 - x\n",
    "\n",
    "# Plot the lines\n",
    "plt.plot(x, y1, label='20c + 20t = 500', linewidth=3)  # Make the first line thicker\n",
    "plt.plot(x, y2, label='c + t = 20')\n",
    "\n",
    "# Add labels and title\n",
    "plt.xlabel('Number of Chairs (c)')\n",
    "plt.ylabel('Number of Tables (t)')\n",
    "plt.title('Fundraising Event (Revised Again)')\n",
    "\n",
    "# Add a grid\n",
    "plt.grid(True)\n",
    "\n",
    "# Add a legend\n",
    "plt.legend()\n",
    "\n",
    "# Display the plot\n",
    "plt.show()\n"
   ]
  },
  {
   "cell_type": "markdown",
   "metadata": {
    "id": "Zz-OBatL0hBH"
   },
   "source": [
    "Now they are parralel! What does THIS mean?"
   ]
  },
  {
   "cell_type": "markdown",
   "metadata": {
    "id": "7-UDr2W7bykn"
   },
   "source": [
    "### Elimination"
   ]
  },
  {
   "cell_type": "markdown",
   "metadata": {
    "id": "0JpAtAer1pw0"
   },
   "source": [
    "The second row multiplied by 20 is still $20c+20t = 400$ (!!). Now subtracting the first becomes:\n",
    "\n",
    "$20c + 20t = 500$\n",
    "\n",
    "-$20c - 20t = -400$\n",
    "\n",
    "$-----------------$\n",
    "\n",
    "$0+0=100$\n",
    "\n",
    "... >:-("
   ]
  },
  {
   "cell_type": "markdown",
   "metadata": {
    "id": "o1oJaSAG1vsD"
   },
   "source": [
    "### And the matrix equation?\n"
   ]
  },
  {
   "cell_type": "markdown",
   "metadata": {
    "id": "ygmvApJBcEKY"
   },
   "source": [
    "Unchanged since only $b$ has change!\n",
    "\n",
    "(What does **this** tell you?!?)"
   ]
  },
  {
   "cell_type": "markdown",
   "metadata": {
    "id": "iRGbpcLL2I5h"
   },
   "source": [
    "## Putting it together"
   ]
  },
  {
   "cell_type": "markdown",
   "metadata": {
    "id": "LmUcXfZl2PAj"
   },
   "source": [
    "Linear equations (in 2 unkowns) are lines in 2D. The solution is the intersection of those lines. 2 Lines can intersect either\n",
    "1. in one place (the first example)\n",
    "2. everywhere (the second example)\n",
    "3. nowhere (the third example)\n",
    "\n",
    "For 2 and 3, these lines are parallel, i.e. you can slide one to lie ontop of the other.Such lines are called *linearly dependent*.\n",
    "\n",
    "Example 1 has *linear independent* equations which intersect in one place and can be solved.\n",
    "\n",
    "Scenarios 1 and 2 are called a *consistent* linear system since an answer can be obtained. Scenario 3 is *inconsistent* since there is no solution.\n",
    "\n"
   ]
  },
  {
   "cell_type": "markdown",
   "metadata": {
    "id": "ycEOfzTA4Z1N"
   },
   "source": [
    "### The matrix interpretation\n",
    "\n",
    "The coefficient matrix $A$ depends on the nature of the lines, *not the constant*. When\n",
    "\n",
    "$|A| = 0$,\n",
    "\n",
    "The matrix $A$ is termed *singular*. The lines are parallel, which means the equations / rows in $A$ and linear dependant and you will not be able to solve for a unique $x$.\n",
    "\n",
    "This is true regardless of the values of $b$!"
   ]
  },
  {
   "cell_type": "markdown",
   "metadata": {
    "id": "W553gPXb67kW"
   },
   "source": [
    "# Conditioning"
   ]
  },
  {
   "cell_type": "markdown",
   "metadata": {
    "id": "VXgeMNRC7FRr"
   },
   "source": [
    "The matrix interpretation is troubling. The solvability of these systems is related to $det(A)$ and we have 2 data points:\n",
    "\n",
    "1. $|A| = -30$ and the system is solvable.\n",
    "2. $|A| = 0$ and the system is unsolvable.\n",
    "\n",
    "What is the significance of $-30$?.\n",
    "What happens when $|A| \\rightarrow 0$ ?\n"
   ]
  },
  {
   "cell_type": "markdown",
   "metadata": {
    "id": "w--PpITf-Y-k"
   },
   "source": [
    "We saw $|A| \\rightarrow 0$ when we adjusted the price of tables. Let's play with that! Set the cost of tables to $20-\\epsilon$.\n",
    "\n",
    "$|A| = 20-20+\\epsilon = \\epsilon$\n",
    "\n",
    "Now look at the inverse equation:\n",
    "\n",
    "$A^{-1} \\sim \\frac{1}{|A|} \\sim \\frac{1}{\\epsilon}$\n",
    "\n",
    "As $\\epsilon →0$, this fraction goes to infinity!"
   ]
  },
  {
   "cell_type": "markdown",
   "metadata": {
    "id": "Ttb6XTKleH7a"
   },
   "source": [
    "The problem is:\n",
    "\n",
    "$20 c + [20+\\epsilon] t = 700$\n",
    "\n",
    "$ c + t = 10$"
   ]
  },
  {
   "cell_type": "markdown",
   "metadata": {
    "id": "3m53iIkL_9ep"
   },
   "source": [
    "## Graphically,\n"
   ]
  },
  {
   "cell_type": "code",
   "execution_count": null,
   "metadata": {
    "id": "vjq9cVaeANat"
   },
   "outputs": [],
   "source": [
    "import matplotlib.pyplot as plt\n",
    "import numpy as np\n",
    "\n",
    "# Define the x values\n",
    "x = np.linspace(-200, 30, 100)\n",
    "\n",
    "# Define the epsilon values\n",
    "epsilons = [0, -1, -10, -30]\n",
    "\n",
    "plt.plot(x, 20 - x, label='c + t = 20', linewidth = 3)\n",
    "\n",
    "# Plot the lines for each epsilon value\n",
    "for epsilon in epsilons:\n",
    "  y1 = (700 - 20* x) / (20 - epsilon)\n",
    "\n",
    "  # Plot the lines\n",
    "  plt.plot(x, y1, label=f'epsilon = {epsilon}')\n",
    "\n",
    "# Add labels and title\n",
    "plt.xlabel('Number of Chairs (c)')\n",
    "plt.ylabel('Number of Tables (t)')\n",
    "plt.title('Fundraising Event with Varying Epsilon')\n",
    "\n",
    "# Add a grid\n",
    "plt.grid(True)\n",
    "\n",
    "# Add a legend\n",
    "plt.legend()\n",
    "\n",
    "# Display the plot\n",
    "plt.show()"
   ]
  },
  {
   "cell_type": "markdown",
   "metadata": {
    "id": "v8ZSCmpGCNqf"
   },
   "source": [
    "The lines are getting more and more parallel / linearly dependent.\n",
    "\n",
    "NOTE: There is a solution until $\\epsilon =0$, but the answer is both moving away and moving at an increasing rate!"
   ]
  },
  {
   "cell_type": "markdown",
   "metadata": {
    "id": "35goStO7CsMZ"
   },
   "source": [
    "## Elimination\n",
    "\n"
   ]
  },
  {
   "cell_type": "markdown",
   "metadata": {
    "id": "e8yh60NoDB6v"
   },
   "source": [
    "Let's use $c = 20-t$ and substitute into the first equation:\n",
    "\n",
    "$ 20 [20 -t] + [20-\\epsilon] t = 700$\n",
    "\n",
    "$\\epsilon t= 300$\n",
    "\n",
    "$ t = 300 / \\epsilon$\n",
    "\n",
    "and again we see an infinite answer.\n",
    "\n",
    "Ex:\n",
    "\n",
    "| $\\epsilon$ | t | c |\n",
    "|---|---|---|\n",
    "| -30 | 10 | 10 |\n",
    "| -10 | 30 | -10 |\n",
    "| -1 | 300 | -280 |\n",
    "| 0.1 | 3000 | -2980 |\n",
    "| 1e-20 | 3e+22 | -3e+22 |\n",
    "| 0 |  $\\infty$ | $-\\infty$ |\n"
   ]
  },
  {
   "cell_type": "markdown",
   "metadata": {
    "id": "_VauA8G-edXF"
   },
   "source": [
    "This should sound alarm bells!\n",
    "\n",
    "1. Recall roundoff error - 1e-20 is well within the range of roundoff error. Here, even just *recording*  the matrix element value can cause astronomical changes in the solution!\n",
    "2. These coefficients typically have some uncertainty which compounds the numberical uncertainty."
   ]
  },
  {
   "cell_type": "markdown",
   "metadata": {
    "id": "UaQRTtRzgWjB"
   },
   "source": [
    "## The condition number"
   ]
  },
  {
   "cell_type": "markdown",
   "metadata": {
    "id": "ekUkHPeRgtVB"
   },
   "source": [
    "Let's try to quantify this issue by returning to the importance of $|A| = -30$. We could multiply the first equation by an arbitrary scalar § and the determinant would scale accordingly, so obviously the magnitude of $|A|$ can't be important.\n",
    "\n",
    "It is only important relative to the *magnitude* of the equation coefficients (the elements of $A$)."
   ]
  },
  {
   "cell_type": "markdown",
   "metadata": {
    "id": "PCRFNGswhhXG"
   },
   "source": [
    "### Matrix norms"
   ]
  },
  {
   "cell_type": "markdown",
   "metadata": {
    "id": "KJoooq3BFwIW"
   },
   "source": [
    "For vectors we know the magnitude (called the *norm*) is:\n",
    "$||v||  = \\sqrt{\\sum_n v_i^2} = \\sqrt{v\\cdot v}$.\n",
    "\n",
    "> In fact this is more than one type of vector norm.  In general, $||v||_p = \\sum_i \\left(v_i^p\\right) ^{1/p}$. The p=2 norm is the 'Euclidian norm', for $p\\rightarrow \\infty$,  $|v|_{\\infty} = max(v_i)$.\n",
    "\n",
    "\n"
   ]
  },
  {
   "cell_type": "markdown",
   "metadata": {
    "id": "1wOsf2JfvvFP"
   },
   "source": [
    "The Euclidian / Frobenius norm is simply,\n",
    "\n",
    "$||A||_F = \\sqrt{\\sum_{i=1}^{m} \\sum_{j=1}^{n} |A_{ij}|^2}$\n",
    "\n",
    "$||A||_F = \\sqrt{A:A}$\n",
    "\n",
    "Infinity Norm (maximum row-sum norm)\n",
    "\n",
    "$||A||_\\infty = \\max_{1 \\le i \\le m} \\sum_{j=1}^{n} |A_{ij}|$\n",
    "\n",
    "Spectral, or 2-norm\n",
    "$||A||_2 = \\max(eigen value)$\n",
    "\n",
    "The determinant is considered *small* in comparison with the matrix norm $|A| << ||A||$.\n",
    "\n",
    "\n",
    "\n",
    "\n",
    "In actuality, C.N. = $\\frac{max(eigenvalue)}{min(eigenvalue)} but hard to find."
   ]
  },
  {
   "cell_type": "markdown",
   "metadata": {
    "id": "f33-mz_b4JVH"
   },
   "source": [
    "The *matrix condition number*\n",
    "\n",
    "$cond(A) = ||A|| ||A^{-1}||$\n",
    "\n",
    "is the formal measure of conditioning. For $cond(A) ~1$ the matrix is well-conditioned and its inversion is numerically stable. Otherwise it is *ill-conditioned* and we will need to do something else.\n",
    "\n",
    "If the eigenvalues can be calculated (or estimated) then we can do the spectral condition number,\n",
    "\n",
    "$cond(A) = \\frac{\\max(e.v.)}{\\min(e.v.)}$\n",
    "\n",
    "(generallized to singular values)."
   ]
  },
  {
   "cell_type": "markdown",
   "metadata": {
    "id": "x4gzL28B6CC-"
   },
   "source": [
    "#BONUS head-scratchers!\n",
    "\n",
    "Lets go back to the original problem\n",
    "\n",
    "(1) $20 c + 50 t = 700$\n",
    "\n",
    "(2) $  c+t = 20$\n",
    "\n",
    "and add some other requirement that amounts to:\n",
    "\n",
    "(3) $ 50 c + 20 t = 700$\n",
    "\n",
    "Some quick math will show these lines are linearly independant, and graphically we see there is a solution,"
   ]
  },
  {
   "cell_type": "code",
   "execution_count": null,
   "metadata": {
    "id": "6WZEORZAgB0v"
   },
   "outputs": [],
   "source": [
    "# prompt: Plot the 3 lines above\n",
    "\n",
    "import matplotlib.pyplot as plt\n",
    "import numpy as np\n",
    "\n",
    "# Define the x values\n",
    "x = np.linspace(0, 20, 100)\n",
    "\n",
    "# Calculate the y values for the first equation (20c + 50t = 700)\n",
    "y1 = (700 - 20 * x) / 50\n",
    "\n",
    "# Calculate the y values for the second equation (c + t = 20)\n",
    "y2 = 20 - x\n",
    "\n",
    "# Calculate the y values for the third equation (50c + 20t = 700)\n",
    "y3 = (700 - 50 * x) / 20\n",
    "\n",
    "# Plot the lines\n",
    "plt.plot(x, y1, label='20c + 50t = 700')\n",
    "plt.plot(x, y2, label='c + t = 20')\n",
    "plt.plot(x, y3, label='50c + 20t = 700')\n",
    "\n",
    "# Add labels and title\n",
    "plt.xlabel('Number of Chairs (c)')\n",
    "plt.ylabel('Number of Tables (t)')\n",
    "plt.title('Fundraising Event with 3 Equations')\n",
    "\n",
    "# Add a grid\n",
    "plt.grid(True)\n",
    "\n",
    "# Add a legend\n",
    "plt.legend()\n",
    "\n",
    "# Display the plot\n",
    "plt.show()\n"
   ]
  },
  {
   "cell_type": "markdown",
   "metadata": {
    "id": "-m6lLZ35gWXi"
   },
   "source": [
    "so what do we do now?!? (Attend advanced numerical methods to learn about pseudoinverses!)"
   ]
  }
 ],
 "metadata": {
  "colab": {
   "authorship_tag": "ABX9TyMAKGier6wB2BKralaUrQCl",
   "collapsed_sections": [
    "nb60_VTHpyYd",
    "etE_LvnloBkb",
    "ikVv8nAIbuJH"
   ],
   "include_colab_link": true,
   "provenance": [],
   "toc_visible": true
  },
  "kernelspec": {
   "display_name": "base",
   "language": "python",
   "name": "python3"
  },
  "language_info": {
   "codemirror_mode": {
    "name": "ipython",
    "version": 3
   },
   "file_extension": ".py",
   "mimetype": "text/x-python",
   "name": "python",
   "nbconvert_exporter": "python",
   "pygments_lexer": "ipython3",
   "version": "3.12.4"
  }
 },
 "nbformat": 4,
 "nbformat_minor": 0
}
