{
 "cells": [
  {
   "cell_type": "markdown",
   "metadata": {
    "id": "euZnmQM85VBA"
   },
   "source": [
    "# Boundary value problems \n",
    "\n"
   ]
  },
  {
   "cell_type": "markdown",
   "metadata": {},
   "source": [
    "Boundary value problems are ordinary differential equations where information is known on the boundaries of the domain. E.g.:\n",
    "\n",
    "$$\\frac{d^2 f}{dt^x} +\\frac{df}{dx} = 1, \\quad f(x=0) = 1000,  f(x=1) = 1$$\n",
    "\n",
    "One option is to *shoot* a solution from one side using our IVP methods and check if it hits the other boundary, which is called the *shooting method*. \n",
    "\n",
    "Alternately, we can also exploit the fact that we have information at both sides to solve a discretized representation of the solution simultaneously. "
   ]
  }
 ],
 "metadata": {
  "colab": {
   "authorship_tag": "ABX9TyNFqw8rQWLmxAzzQknWy0qN",
   "include_colab_link": true,
   "provenance": [],
   "toc_visible": true
  },
  "kernelspec": {
   "display_name": "Python 3",
   "name": "python3"
  },
  "language_info": {
   "name": "python"
  }
 },
 "nbformat": 4,
 "nbformat_minor": 0
}
