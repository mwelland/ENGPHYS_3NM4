{
  "nbformat": 4,
  "nbformat_minor": 0,
  "metadata": {
    "colab": {
      "provenance": [],
      "toc_visible": true,
      "authorship_tag": "ABX9TyOXPvbhaXScY2V34w1nuBQy",
      "include_colab_link": true
    },
    "kernelspec": {
      "name": "python3",
      "display_name": "Python 3"
    },
    "language_info": {
      "name": "python"
    }
  },
  "cells": [
    {
      "cell_type": "markdown",
      "metadata": {
        "id": "view-in-github",
        "colab_type": "text"
      },
      "source": [
        "<a href=\"https://colab.research.google.com/github/mwelland/ENGPYHS_3NM4/blob/main/Linear_systems_3.ipynb\" target=\"_parent\"><img src=\"https://colab.research.google.com/assets/colab-badge.svg\" alt=\"Open In Colab\"/></a>"
      ]
    },
    {
      "cell_type": "markdown",
      "source": [
        "Goals:\n",
        "- Show how to compute matrix decompositions\n",
        "- Apply decomposed matrix to solve linear systems\n",
        "- Explain matrix types and decompositions\n"
      ],
      "metadata": {
        "id": "ItDCQPlMWWyY"
      }
    },
    {
      "cell_type": "markdown",
      "source": [
        "# LU decomposition\n",
        "\n",
        "Commonly we will have to repeatedly solve\n",
        "$Ax = b$ for multiple $b_i$. Gauss Elimination for each $b_i$ would be grossly inefficient. If you knew all the $b_i$ in advance you could do this in parallel by forming the augmented matrix:\n",
        "\n",
        "$[A|b_1 \\ b_2 \\  b_3 \\ ...]$\n",
        "\n",
        "but this is seldom the case.\n",
        "\n",
        "It is much more efficient to decompose the matrix $A$ into a form that is easier to solve.\n",
        "\n",
        "> There are other reasons to do this for special matrix types and distributed computing which we will discuss later.\n",
        "\n",
        "We have actually already seen this efficiency boost with back-substitution. The equation $U x = b$ solves in $O(n^2)$.\n"
      ],
      "metadata": {
        "id": "KwZZirxA8hJv"
      }
    },
    {
      "cell_type": "markdown",
      "source": [
        "Any square matrix can be decomposed,\n",
        "\n",
        "$A = LU$\n",
        "\n",
        "where:\n",
        "\n",
        "$L$ is a lower triangular matrix\n",
        "\n",
        "$U$ is an upper triangular matrix\n",
        "\n",
        "Now, the linear system becomes:\n",
        "\n",
        "$$\n",
        "\\begin{eqnarray*}\n",
        "Ax &= b \\\\\n",
        "LUx &= b\n",
        "\\end{eqnarray*}\n",
        "$$\n",
        "\n",
        "Now let $y = Ux$, such that\n",
        "\n",
        "$$\\begin{eqnarray*}\n",
        "Ly &= b \\\\\n",
        "Ux &= y\n",
        "\\end{eqnarray*} $$\n",
        "both of which solve in $O(n^2)$.\n",
        "\n",
        "NOTE: L and U are generally *not unique*.\n",
        "\n",
        "\n",
        "\n"
      ],
      "metadata": {
        "id": "CThm-lm88mwc"
      }
    },
    {
      "cell_type": "markdown",
      "source": [
        "Example: Return to the previouis example:\n",
        "\n",
        "\\begin{eqnarray*}\n",
        "4x_1 + 3x_2 - 5x_3 &=& 2 \\\\\n",
        "-2x_1 - 4x_2 + 5x_3 &=& 5 \\\\\n",
        "8x_1 + 8x_2  &=& -3 \\\\\n",
        "\\end{eqnarray*}\n",
        "\n",
        "Through Gaussian Elimination, we found\n",
        "\n",
        "$$ U=\n",
        "\\begin{bmatrix}\n",
        "4 & 3 & -5 \\\\\n",
        "0 & -2.5 & 2.5 \\\\\n",
        "0 & 0 & 12 \\\\\n",
        "\\end{bmatrix}$$\n",
        "\n",
        "by clearing the first column by multiplying the first row by $-0.5$ for the second row, and  $2$ for the third. The second column was cleared with the second row multiplied by $-0.8$. These coefficients turn out to be the elemements of the $L$ matrix (with 1's along the diagonal)!\n",
        "\n",
        "$$ L=\n",
        "\\begin{bmatrix}\n",
        "1 & 0 & 0 \\\\\n",
        "-0.5 & 1 & 0 \\\\\n",
        "2 & -0.8 & 1 \\\\\n",
        "\\end{bmatrix}$$\n",
        "\n",
        "Let's verify:"
      ],
      "metadata": {
        "id": "QmuC4gf-vBeD"
      }
    },
    {
      "cell_type": "code",
      "source": [
        "# prompt: Do decomposition on the above matrix\n",
        "\n",
        "import numpy as np\n",
        "\n",
        "# Define the matrix A\n",
        "A = np.array([[4, 3, -5],\n",
        "              [-2, -4, 5],\n",
        "              [8, 8, 0]])\n",
        "\n",
        "print(\"The original matrix A is:\\n\", A, \"\\n\")\n",
        "L = np.array([[1,0,0],\n",
        "               [-.5, 1,0],\n",
        "               [2,-.8,1]])\n",
        "\n",
        "U = np.array([[4,3,-5],\n",
        "              [0,-2.5,2.5],\n",
        "              [0,0,12]])\n",
        "\n",
        "print(\"The reconstructed matrix is:\\n\", L@U)\n",
        "\n"
      ],
      "metadata": {
        "colab": {
          "base_uri": "https://localhost:8080/"
        },
        "id": "CP0Af5Ztv35r",
        "outputId": "6f01e34e-9b3f-4cf2-9cde-18bd66a919f0"
      },
      "execution_count": 23,
      "outputs": [
        {
          "output_type": "stream",
          "name": "stdout",
          "text": [
            "The original matrix A is:\n",
            " [[ 4  3 -5]\n",
            " [-2 -4  5]\n",
            " [ 8  8  0]] \n",
            "\n",
            "The reconstructed matrix is:\n",
            " [[ 4.  3. -5.]\n",
            " [-2. -4.  5.]\n",
            " [ 8.  8.  0.]]\n"
          ]
        }
      ]
    },
    {
      "cell_type": "markdown",
      "source": [
        "Let's check the package decomposition!"
      ],
      "metadata": {
        "id": "L4wtwinxR3vd"
      }
    },
    {
      "cell_type": "code",
      "source": [
        "# Calculate the LU decomposition\n",
        "from scipy.linalg import lu, inv\n",
        "P, L, U = lu(A)\n",
        "\n",
        "print(\"Permutation Matrix (P):\\n\", P)\n",
        "print(\"Lower Triangular Matrix (L):\\n\", L)\n",
        "print(\"Upper Triangular Matrix (U):\\n\", U)\n",
        "\n",
        "\n",
        "\n",
        "print(\"\\nMultiply L and U:\\n\", L@U, \"\\nwhich is correct but pivoted!\")\n",
        "\n",
        "print(\"\\nMultiply PLU:\\n\", P@L@U, \"\\nwhich is the original matrix!\")"
      ],
      "metadata": {
        "colab": {
          "base_uri": "https://localhost:8080/"
        },
        "id": "12yze0ctR2vy",
        "outputId": "3f2b4514-efb0-468c-e9ea-87f27af12759"
      },
      "execution_count": 24,
      "outputs": [
        {
          "output_type": "stream",
          "name": "stdout",
          "text": [
            "Permutation Matrix (P):\n",
            " [[0. 0. 1.]\n",
            " [0. 1. 0.]\n",
            " [1. 0. 0.]]\n",
            "Lower Triangular Matrix (L):\n",
            " [[ 1.    0.    0.  ]\n",
            " [-0.25  1.    0.  ]\n",
            " [ 0.5   0.5   1.  ]]\n",
            "Upper Triangular Matrix (U):\n",
            " [[ 8.   8.   0. ]\n",
            " [ 0.  -2.   5. ]\n",
            " [ 0.   0.  -7.5]]\n",
            "\n",
            "Multiply L and U:\n",
            " [[ 8.  8.  0.]\n",
            " [-2. -4.  5.]\n",
            " [ 4.  3. -5.]] \n",
            "which is correct but pivoted!\n",
            "\n",
            "Multiply PLU:\n",
            " [[ 4.  3. -5.]\n",
            " [-2. -4.  5.]\n",
            " [ 8.  8.  0.]] \n",
            "which is the original matrix!\n"
          ]
        }
      ]
    },
    {
      "cell_type": "markdown",
      "source": [
        "NB: $P$ in the above is the permutation matrix that, when multiplied by LU recovers the original matrix. It is *not* the pivoting operation that is done internally (although that matrix is easily obtained!)."
      ],
      "metadata": {
        "id": "h9Ro4bk8y-C1"
      }
    },
    {
      "cell_type": "markdown",
      "source": [
        "#Matrix types\n",
        "\n",
        "LU decomposition has useful properties depending on the types of matricies involved."
      ],
      "metadata": {
        "id": "u8XBgRiu4mL-"
      }
    },
    {
      "cell_type": "markdown",
      "source": [
        "|Symbol | Matrix Type | Example 2x2 | Interesting Properties |\n",
        "| --- |---|---|---|\n",
        "|0| Zero | $\\begin{bmatrix} 0 & 0 \\\\ 0 & 0 \\end{bmatrix}$ | A-A = 0 |\n",
        "|I | Identity | $\\begin{bmatrix} 1 & 0 \\\\ 0 & 1 \\end{bmatrix}$ | A I = A |\n",
        "|D|  Diagonal | $\\begin{bmatrix} d_1 & 0 \\\\ 0 & d_2 \\end{bmatrix}$ | $D^{-1}$ = $\\begin{bmatrix} d_1^{-1} & 0 \\\\ 0 & d_2^{-1} \\end{bmatrix}$ |\n",
        "|U| Upper Triangular| $\\begin{bmatrix} 1 & 2 \\\\ 0 & 4 \\end{bmatrix}$ | $U^{-1}$ is another upper triangular matrix|\n",
        "|L| Lower Triangular | $\\begin{bmatrix} 5 & 0 \\\\ -1 & 2 \\end{bmatrix}$ | $L^{-1}$ is another lower triangular matrix |\n",
        "| P | Permutation | $\\begin{bmatrix} 0 & 1 \\\\ 1 & 0 \\end{bmatrix}$ | Its transpose is its inverse ($P^T = P^{-1}$) |\n",
        "| S | Symmetric | $\\begin{bmatrix} 1 & 3 \\\\ 3 & -4 \\end{bmatrix}$ |  Equal to its transpose ($S = S^T$). |\n",
        "| SPD | Symmetric positive definite | $\\begin{bmatrix} 1 & 3 \\\\ 3 & 4 \\end{bmatrix}$ |  $x^T [SPD] x >0$  - think of a quadratic|\n"
      ],
      "metadata": {
        "id": "xqCj0hQK5A3_"
      }
    },
    {
      "cell_type": "markdown",
      "source": [
        "##Sparse matricies and sparsity patterns\n",
        "Sparsity refers to the fraction of non-zero elements in a matrix. Sparse matricies have a significant fraction of 0 elements, which can **drastically** reduce storage and computational requirements.\n",
        "\n",
        "Storage: Typically one (conceptually) stores a matrix as a 2D array. With significant sparsity, one can instead store only non-zero entries. There is a trade-off here between access / modification and memory efficiency.\n",
        "\n",
        "Computation: (Fill-in)\n",
        "Fill-in is the phenomena where, during computation, zeros become non-zeros. This disrupts the sparsity pattern and the benefits that accompany it, and is hence something to be avoided.\n",
        "\n",
        "\n",
        "\n"
      ],
      "metadata": {
        "id": "jfwpmcCfFaZN"
      }
    },
    {
      "cell_type": "markdown",
      "source": [
        "## Sparsity patterns and matrix\n",
        "\n",
        "Sparsity patterns are condensly viewed as monochrome matricies filled in according to 0 or non-zero.\n",
        "\n",
        "Example: A sparsity pattern from a finite element problem in 2D.\n",
        "\n",
        "![Finite_element_sparse_matrix.png](data:image/png;base64,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)"
      ],
      "metadata": {
        "id": "7qALRcqjN_cR"
      }
    },
    {
      "cell_type": "markdown",
      "source": [
        "We already have examples of sparse matricies with\n",
        "- diagonal\n",
        "- upper and lower triangular\n",
        "and have seen their importance in controlling complexity and roundoff error."
      ],
      "metadata": {
        "id": "TlY-1ThVN-17"
      }
    },
    {
      "cell_type": "markdown",
      "source": [
        "### Banded matricies"
      ],
      "metadata": {
        "id": "Yu7Mb8jaMtdv"
      }
    },
    {
      "cell_type": "markdown",
      "source": [
        "Banded matricies only have non-zero elements parallel to the diagonal. Sometimes they are described by the *bandwidth*, the number of parallel bands.\n",
        "\n"
      ],
      "metadata": {
        "id": "laiYdnSOGlMU"
      }
    },
    {
      "cell_type": "markdown",
      "source": [
        "#### Tridiagonal (bandwidth 3)"
      ],
      "metadata": {
        "id": "S7dFY1EtP9VT"
      }
    },
    {
      "cell_type": "code",
      "source": [
        "# prompt: give me a tridiagonal matrix of dimension 10 and view its sparsity pattern with spy\n",
        "\n",
        "import numpy as np\n",
        "import matplotlib.pyplot as plt\n",
        "\n",
        "# Create a tridiagonal matrix of dimension 10\n",
        "n = 10\n",
        "T = np.zeros((n, n))\n",
        "np.fill_diagonal(T, 2)  # Main diagonal\n",
        "np.fill_diagonal(T[1:], -1)  # Lower diagonal\n",
        "np.fill_diagonal(T[:, 1:], -1)  # Upper diagonal\n",
        "\n",
        "print(T)\n",
        "\n",
        "# View the sparsity pattern\n",
        "plt.spy(T)\n",
        "plt.show()\n"
      ],
      "metadata": {
        "colab": {
          "base_uri": "https://localhost:8080/",
          "height": 609
        },
        "id": "g3ZyT869PVgo",
        "outputId": "08428b34-861a-4330-bd77-2c7151c0fe3e"
      },
      "execution_count": null,
      "outputs": [
        {
          "output_type": "stream",
          "name": "stdout",
          "text": [
            "[[ 2. -1.  0.  0.  0.  0.  0.  0.  0.  0.]\n",
            " [-1.  2. -1.  0.  0.  0.  0.  0.  0.  0.]\n",
            " [ 0. -1.  2. -1.  0.  0.  0.  0.  0.  0.]\n",
            " [ 0.  0. -1.  2. -1.  0.  0.  0.  0.  0.]\n",
            " [ 0.  0.  0. -1.  2. -1.  0.  0.  0.  0.]\n",
            " [ 0.  0.  0.  0. -1.  2. -1.  0.  0.  0.]\n",
            " [ 0.  0.  0.  0.  0. -1.  2. -1.  0.  0.]\n",
            " [ 0.  0.  0.  0.  0.  0. -1.  2. -1.  0.]\n",
            " [ 0.  0.  0.  0.  0.  0.  0. -1.  2. -1.]\n",
            " [ 0.  0.  0.  0.  0.  0.  0.  0. -1.  2.]]\n"
          ]
        },
        {
          "output_type": "display_data",
          "data": {
            "text/plain": [
              "<Figure size 640x480 with 1 Axes>"
            ],
            "image/png": "[encoded data removed]"
          },
          "metadata": {}
        }
      ]
    },
    {
      "cell_type": "markdown",
      "source": [
        "#### Pentadiagonal (bandwidth 5)"
      ],
      "metadata": {
        "id": "hPfI_RzmPrNG"
      }
    },
    {
      "cell_type": "code",
      "source": [
        "# prompt: give me a pentadiagonal matrix of dimension 10 and view its sparsity pattern with spy\n",
        "\n",
        "import numpy as np\n",
        "import matplotlib.pyplot as plt\n",
        "\n",
        "# Create a pentadiagonal matrix of dimension 10\n",
        "n = 10\n",
        "A = np.zeros((n, n))\n",
        "np.fill_diagonal(A, 2)  # Main diagonal\n",
        "np.fill_diagonal(A[1:], -1)  # Upper diagonal\n",
        "np.fill_diagonal(A[:, 1:], -1)  # Lower diagonal\n",
        "np.fill_diagonal(A[2:], -1)  # Second upper diagonal\n",
        "np.fill_diagonal(A[:, 2:], -1)  # Second lower diagonal\n",
        "\n",
        "print(A)\n",
        "\n",
        "# View the sparsity pattern\n",
        "plt.spy(A)\n",
        "plt.show()\n"
      ],
      "metadata": {
        "colab": {
          "base_uri": "https://localhost:8080/",
          "height": 609
        },
        "id": "lyo0fqEpPttO",
        "outputId": "8500298c-a733-4cba-8a31-0ce7d43f2656"
      },
      "execution_count": null,
      "outputs": [
        {
          "output_type": "stream",
          "name": "stdout",
          "text": [
            "[[ 2. -1. -1.  0.  0.  0.  0.  0.  0.  0.]\n",
            " [-1.  2. -1. -1.  0.  0.  0.  0.  0.  0.]\n",
            " [-1. -1.  2. -1. -1.  0.  0.  0.  0.  0.]\n",
            " [ 0. -1. -1.  2. -1. -1.  0.  0.  0.  0.]\n",
            " [ 0.  0. -1. -1.  2. -1. -1.  0.  0.  0.]\n",
            " [ 0.  0.  0. -1. -1.  2. -1. -1.  0.  0.]\n",
            " [ 0.  0.  0.  0. -1. -1.  2. -1. -1.  0.]\n",
            " [ 0.  0.  0.  0.  0. -1. -1.  2. -1. -1.]\n",
            " [ 0.  0.  0.  0.  0.  0. -1. -1.  2. -1.]\n",
            " [ 0.  0.  0.  0.  0.  0.  0. -1. -1.  2.]]\n"
          ]
        },
        {
          "output_type": "display_data",
          "data": {
            "text/plain": [
              "<Figure size 640x480 with 1 Axes>"
            ],
            "image/png": "[encoded data removed]"
          },
          "metadata": {}
        }
      ]
    },
    {
      "cell_type": "markdown",
      "source": [
        "One can imagine the benefit of storing such a matrix"
      ],
      "metadata": {
        "id": "jNwEgVVNJ-VD"
      }
    },
    {
      "cell_type": "markdown",
      "source": [
        "#### General banded matrix"
      ],
      "metadata": {
        "id": "rDw8T5BpPeY0"
      }
    },
    {
      "cell_type": "code",
      "source": [
        "import numpy as np\n",
        "import matplotlib.pyplot as plt\n",
        "\n",
        "# Create a pentadiagonal matrix of dimension 10\n",
        "n = 10\n",
        "A = np.zeros((n, n))\n",
        "np.fill_diagonal(A, 2)  # Main diagonal\n",
        "np.fill_diagonal(A[1:], -1)  # Upper diagonal\n",
        "np.fill_diagonal(A[:, 1:], -1)  # Lower diagonal\n",
        "np.fill_diagonal(A[4:], -2)  # Second upper diagonal\n",
        "np.fill_diagonal(A[:, 4:], -1)  # Second lower diagonal\n",
        "\n",
        "print(A)\n",
        "\n",
        "# View the sparsity pattern\n",
        "plt.spy(A)\n",
        "plt.show()"
      ],
      "metadata": {
        "colab": {
          "base_uri": "https://localhost:8080/",
          "height": 609
        },
        "id": "8vZ1HBTuPhsP",
        "outputId": "55df358d-fa5a-467f-ca0e-b62b7a5c3ddd"
      },
      "execution_count": null,
      "outputs": [
        {
          "output_type": "stream",
          "name": "stdout",
          "text": [
            "[[ 2. -1.  0.  0. -1.  0.  0.  0.  0.  0.]\n",
            " [-1.  2. -1.  0.  0. -1.  0.  0.  0.  0.]\n",
            " [ 0. -1.  2. -1.  0.  0. -1.  0.  0.  0.]\n",
            " [ 0.  0. -1.  2. -1.  0.  0. -1.  0.  0.]\n",
            " [-2.  0.  0. -1.  2. -1.  0.  0. -1.  0.]\n",
            " [ 0. -2.  0.  0. -1.  2. -1.  0.  0. -1.]\n",
            " [ 0.  0. -2.  0.  0. -1.  2. -1.  0.  0.]\n",
            " [ 0.  0.  0. -2.  0.  0. -1.  2. -1.  0.]\n",
            " [ 0.  0.  0.  0. -2.  0.  0. -1.  2. -1.]\n",
            " [ 0.  0.  0.  0.  0. -2.  0.  0. -1.  2.]]\n"
          ]
        },
        {
          "output_type": "display_data",
          "data": {
            "text/plain": [
              "<Figure size 640x480 with 1 Axes>"
            ],
            "image/png": "[encoded data removed]"
          },
          "metadata": {}
        }
      ]
    },
    {
      "cell_type": "markdown",
      "source": [
        "## Block matricies"
      ],
      "metadata": {
        "id": "S8W1_sPd9bpO"
      }
    },
    {
      "cell_type": "markdown",
      "source": [
        "Block matricies can be partitioned:\n",
        "\n",
        "$$ M=\n",
        "\\begin{bmatrix}\n",
        "2 & -1 & 0 & 1 & 0 & 0 \\\\\n",
        "-1 & 2 & -1 & 0 & 1 & 0 \\\\\n",
        "0 & -1 & 2 & 0 & 0 & 1 \\\\\n",
        "1 & 0 & 0 & 2 & -1 & 0 \\\\\n",
        "0 & 1 & 0 & -1 & 2 & -1 \\\\\n",
        "0 & 0 & 1 & 0 & -1 & 2\n",
        "\\end{bmatrix} = \\begin{bmatrix}\n",
        "A & B \\\\\n",
        "C & D\n",
        "\\end{bmatrix}\n",
        "$$\n",
        "\n",
        "with\n",
        "\n",
        "$$\n",
        "A=D = \\begin{bmatrix}\n",
        "2 & -1 & 0  \\\\\n",
        "-1 & 2 & -1  \\\\\n",
        "0 & -1 & 2 \\\\\n",
        "\\end{bmatrix}\n",
        "$$\n",
        "\n",
        "and\n",
        "\n",
        "$$\n",
        "B=C = \\begin{bmatrix}\n",
        "1 & 0 & 0  \\\\\n",
        "0 & 1 & 0  \\\\\n",
        "0 & 0 & 1 \\\\\n",
        "\\end{bmatrix}\n",
        "$$\n",
        "\n",
        "The inverse can be formed:\n",
        "\n",
        "$$\n",
        "M^{-1} =\n",
        "\\begin{bmatrix}\n",
        "A^{-1} + A^{-1}B(D - CA^{-1}B)^{-1}CA^{-1} & -A^{-1}B(D - CA^{-1}B)^{-1} \\\\\n",
        "-(D - CA^{-1}B)^{-1}CA^{-1} & (D - CA^{-1}B)^{-1}\n",
        "\\end{bmatrix}\n",
        "$$\n",
        "\n",
        "This is a substantial savings since the cost of each block scales exponentially!\n",
        "\n",
        "Sometimes we get lucky and one of the blocks is $0$ or $I$ which is a HUGE benefit!\n",
        "\n",
        "If the blocks are each $n \\times n$, $M$ is $2n \\times 2n$ and takes $O((2n)^3)$ to solve. But if we partition into blocks, the inverse can be formed in 2 separate $O(n^3)$ (plus matrix multiplications)."
      ],
      "metadata": {
        "id": "W8AtA9bOlWUs"
      }
    },
    {
      "cell_type": "markdown",
      "source": [
        "This situation arises commonly in multiphysics applications, with two fields (e.g.: T and c). The blocks are then defined corresponding to the unknown vectors for each field.\n",
        "\n",
        "Certaint types of physics is solved more efficiently with certain solvers. This decomposition, sometimes called *operator splitting* or *segregated solving* allows each variable (block) to be treated optimally and inverse of the full system assembled.  \n",
        "\n",
        "In contrast, solving the matrix as a whole is called a *monolithic* solution."
      ],
      "metadata": {
        "id": "ZbLvSENLxIQM"
      }
    },
    {
      "cell_type": "markdown",
      "source": [
        "### Block diagonal"
      ],
      "metadata": {
        "id": "O4Sx4JVU9ggE"
      }
    },
    {
      "cell_type": "markdown",
      "source": [
        "Taking $B=C=0$ in the above we can see the inverse of a *block diagonal* matrix is simply the diagonal assembly of the inverse of its blocks:\n",
        "\n",
        "$$\n",
        "\\begin{bmatrix}\n",
        "A & 0 \\\\\n",
        "0 & D\n",
        "\\end{bmatrix}^{-1} = \\begin{bmatrix}\n",
        "A^{-1} & 0 \\\\\n",
        "0 & D^{-1}\n",
        "\\end{bmatrix}\n",
        "$$"
      ],
      "metadata": {
        "id": "EI8QL5IYlxv9"
      }
    },
    {
      "cell_type": "markdown",
      "source": [
        "# Matrix decompositions"
      ],
      "metadata": {
        "id": "nc0PKYF-77e6"
      }
    },
    {
      "cell_type": "markdown",
      "source": [
        "We can now summarize some decompositions:\n",
        "\n",
        "| Matrix equation | Operation count |\n",
        "|---|---|\n",
        "| $A = LU$ |  $n^3/3$ |\n",
        "| $S = L D L^T$ | $n^3/6$|\n",
        "| $SPD = L L^T$|  $n^3/6$ + n|\n",
        "\n",
        "The later two are called Choleski decomposition and take advantage of matrix symmetry for efficiency.\n",
        "\n",
        "Since in general\n",
        "\n",
        "$A^{-1} = [LU]^{-1} = U^{-1} L^{-1}$\n",
        "\n",
        "it would be tempting to calculate and store $A^{-1}$ instead of $L$ and $U$, but this is not preferred due to the impact on sparsity, in addition to round-off error $\\propto |A|^{-1}$."
      ],
      "metadata": {
        "id": "aeonjmEk8o9F"
      }
    },
    {
      "cell_type": "markdown",
      "source": [
        "##Decompositions of certain matricies"
      ],
      "metadata": {
        "id": "aW7I_9NK9nE3"
      }
    },
    {
      "cell_type": "markdown",
      "source": [
        "### Inverse of a triangular matrix is triangular"
      ],
      "metadata": {
        "id": "6mzIifj_6uki"
      }
    },
    {
      "cell_type": "code",
      "source": [
        "# prompt: show the inverse of an upper triangular matrix with numpy\n",
        "\n",
        "import numpy as np\n",
        "# Create an upper triangular matrix\n",
        "A = np.array([[1, 2, 3],\n",
        "              [0, 4, 5],\n",
        "              [0, 0, 6]])\n",
        "\n",
        "# Calculate the inverse\n",
        "A_inv = np.linalg.inv(A)\n",
        "\n",
        "print(\"Upper triangular matrix:\\n\", A)\n",
        "print(\"\\nInverse of the upper triangular matrix:\\n\", A_inv)\n"
      ],
      "metadata": {
        "colab": {
          "base_uri": "https://localhost:8080/"
        },
        "id": "i8TNGXEp6Q0f",
        "outputId": "cba9058e-5717-42de-e28b-795cddc351d7"
      },
      "execution_count": null,
      "outputs": [
        {
          "output_type": "stream",
          "name": "stdout",
          "text": [
            "Upper triangular matrix:\n",
            " [[1 2 3]\n",
            " [0 4 5]\n",
            " [0 0 6]]\n",
            "\n",
            "Inverse of the upper triangular matrix:\n",
            " [[ 1.         -0.5        -0.08333333]\n",
            " [ 0.          0.25       -0.20833333]\n",
            " [ 0.          0.          0.16666667]]\n"
          ]
        }
      ]
    },
    {
      "cell_type": "markdown",
      "source": [
        "### LU decomposition of a banded matrix is banded-triangular"
      ],
      "metadata": {
        "id": "pJ-2nwTN73gZ"
      }
    },
    {
      "cell_type": "code",
      "source": [
        "# prompt: Show that the choleski decomposition of a banded matrix is triangular-banded\n",
        "\n",
        "import numpy as np\n",
        "from scipy.linalg import cholesky\n",
        "import matplotlib.pyplot as plt\n",
        "\n",
        "# Create a pentadiagonal matrix of dimension 10\n",
        "n = 10\n",
        "A = np.zeros((n, n))\n",
        "np.fill_diagonal(A, 2)  # Main diagonal\n",
        "np.fill_diagonal(A[1:], 1)  # Upper diagonal\n",
        "np.fill_diagonal(A[:, 1:], 1)  # Lower diagonal\n",
        "np.fill_diagonal(A[2:], .1)  # Second upper diagonal\n",
        "np.fill_diagonal(A[:, 2:], .1)  # Second lower diagonal\n",
        "\n",
        "# Calculate the Cholesky decomposition\n",
        "L = cholesky(A, lower=True)\n",
        "\n",
        "print(\"Original matrix:\\n\", A)\n",
        "print(\"\\nCholesky decomposition (L):\\n\", np.around(L, decimals=2))\n",
        "\n",
        "# View the sparsity pattern\n",
        "plt.spy(L)\n",
        "plt.show()\n"
      ],
      "metadata": {
        "colab": {
          "base_uri": "https://localhost:8080/",
          "height": 834
        },
        "id": "fZiwnljO8CLN",
        "outputId": "09e9a04c-7b93-45c4-a989-bed37c5d63ff"
      },
      "execution_count": 3,
      "outputs": [
        {
          "output_type": "stream",
          "name": "stdout",
          "text": [
            "Original matrix:\n",
            " [[2.  1.  0.1 0.  0.  0.  0.  0.  0.  0. ]\n",
            " [1.  2.  1.  0.1 0.  0.  0.  0.  0.  0. ]\n",
            " [0.1 1.  2.  1.  0.1 0.  0.  0.  0.  0. ]\n",
            " [0.  0.1 1.  2.  1.  0.1 0.  0.  0.  0. ]\n",
            " [0.  0.  0.1 1.  2.  1.  0.1 0.  0.  0. ]\n",
            " [0.  0.  0.  0.1 1.  2.  1.  0.1 0.  0. ]\n",
            " [0.  0.  0.  0.  0.1 1.  2.  1.  0.1 0. ]\n",
            " [0.  0.  0.  0.  0.  0.1 1.  2.  1.  0.1]\n",
            " [0.  0.  0.  0.  0.  0.  0.1 1.  2.  1. ]\n",
            " [0.  0.  0.  0.  0.  0.  0.  0.1 1.  2. ]]\n",
            "\n",
            "Cholesky decomposition (L):\n",
            " [[1.41 0.   0.   0.   0.   0.   0.   0.   0.   0.  ]\n",
            " [0.71 1.22 0.   0.   0.   0.   0.   0.   0.   0.  ]\n",
            " [0.07 0.78 1.18 0.   0.   0.   0.   0.   0.   0.  ]\n",
            " [0.   0.08 0.79 1.17 0.   0.   0.   0.   0.   0.  ]\n",
            " [0.   0.   0.08 0.8  1.16 0.   0.   0.   0.   0.  ]\n",
            " [0.   0.   0.   0.09 0.8  1.16 0.   0.   0.   0.  ]\n",
            " [0.   0.   0.   0.   0.09 0.8  1.16 0.   0.   0.  ]\n",
            " [0.   0.   0.   0.   0.   0.09 0.8  1.16 0.   0.  ]\n",
            " [0.   0.   0.   0.   0.   0.   0.09 0.8  1.16 0.  ]\n",
            " [0.   0.   0.   0.   0.   0.   0.   0.09 0.8  1.16]]\n"
          ]
        },
        {
          "output_type": "display_data",
          "data": {
            "text/plain": [
              "<Figure size 640x480 with 1 Axes>"
            ],
            "image/png": "[encoded data removed]"
          },
          "metadata": {}
        }
      ]
    },
    {
      "cell_type": "markdown",
      "source": [
        "### Inverse of a banded matrix is **not** banded (except diagonal)"
      ],
      "metadata": {
        "id": "SOMVhoTm6zqZ"
      }
    },
    {
      "cell_type": "code",
      "source": [
        "# prompt: show the inverse of a banded matrix in numpy\n",
        "\n",
        "import numpy as np\n",
        "\n",
        "# Create a tridiagonal matrix of dimension 10\n",
        "n = 10\n",
        "A = np.zeros((n, n))\n",
        "np.fill_diagonal(A, 2)  # Main diagonal\n",
        "np.fill_diagonal(A[1:], -1)  # Upper diagonal\n",
        "np.fill_diagonal(A[:, 1:], -1)  # Lower diagonal\n",
        "\n",
        "# Calculate the inverse\n",
        "A_inv = np.linalg.inv(A)\n",
        "\n",
        "print(\"Banded matrix:\\n\")\n",
        "print(A)\n",
        "plt.spy(A)\n",
        "plt.show()\n",
        "print(\"\\nInverse of the banded matrix:\\n\")\n",
        "print(A_inv)\n",
        "plt.spy(A_inv)\n",
        "plt.show()\n"
      ],
      "metadata": {
        "colab": {
          "base_uri": "https://localhost:8080/",
          "height": 1000
        },
        "id": "snlLxPZF6S5T",
        "outputId": "0c881edf-cdc9-4fe7-a895-eb0206708aac"
      },
      "execution_count": 4,
      "outputs": [
        {
          "output_type": "stream",
          "name": "stdout",
          "text": [
            "Banded matrix:\n",
            "\n",
            "[[ 2. -1.  0.  0.  0.  0.  0.  0.  0.  0.]\n",
            " [-1.  2. -1.  0.  0.  0.  0.  0.  0.  0.]\n",
            " [ 0. -1.  2. -1.  0.  0.  0.  0.  0.  0.]\n",
            " [ 0.  0. -1.  2. -1.  0.  0.  0.  0.  0.]\n",
            " [ 0.  0.  0. -1.  2. -1.  0.  0.  0.  0.]\n",
            " [ 0.  0.  0.  0. -1.  2. -1.  0.  0.  0.]\n",
            " [ 0.  0.  0.  0.  0. -1.  2. -1.  0.  0.]\n",
            " [ 0.  0.  0.  0.  0.  0. -1.  2. -1.  0.]\n",
            " [ 0.  0.  0.  0.  0.  0.  0. -1.  2. -1.]\n",
            " [ 0.  0.  0.  0.  0.  0.  0.  0. -1.  2.]]\n"
          ]
        },
        {
          "output_type": "display_data",
          "data": {
            "text/plain": [
              "<Figure size 640x480 with 1 Axes>"
            ],
            "image/png": "[encoded data removed]"
          },
          "metadata": {}
        },
        {
          "output_type": "stream",
          "name": "stdout",
          "text": [
            "\n",
            "Inverse of the banded matrix:\n",
            "\n",
            "[[0.90909091 0.81818182 0.72727273 0.63636364 0.54545455 0.45454545\n",
            "  0.36363636 0.27272727 0.18181818 0.09090909]\n",
            " [0.81818182 1.63636364 1.45454545 1.27272727 1.09090909 0.90909091\n",
            "  0.72727273 0.54545455 0.36363636 0.18181818]\n",
            " [0.72727273 1.45454545 2.18181818 1.90909091 1.63636364 1.36363636\n",
            "  1.09090909 0.81818182 0.54545455 0.27272727]\n",
            " [0.63636364 1.27272727 1.90909091 2.54545455 2.18181818 1.81818182\n",
            "  1.45454545 1.09090909 0.72727273 0.36363636]\n",
            " [0.54545455 1.09090909 1.63636364 2.18181818 2.72727273 2.27272727\n",
            "  1.81818182 1.36363636 0.90909091 0.45454545]\n",
            " [0.45454545 0.90909091 1.36363636 1.81818182 2.27272727 2.72727273\n",
            "  2.18181818 1.63636364 1.09090909 0.54545455]\n",
            " [0.36363636 0.72727273 1.09090909 1.45454545 1.81818182 2.18181818\n",
            "  2.54545455 1.90909091 1.27272727 0.63636364]\n",
            " [0.27272727 0.54545455 0.81818182 1.09090909 1.36363636 1.63636364\n",
            "  1.90909091 2.18181818 1.45454545 0.72727273]\n",
            " [0.18181818 0.36363636 0.54545455 0.72727273 0.90909091 1.09090909\n",
            "  1.27272727 1.45454545 1.63636364 0.81818182]\n",
            " [0.09090909 0.18181818 0.27272727 0.36363636 0.45454545 0.54545455\n",
            "  0.63636364 0.72727273 0.81818182 0.90909091]]\n"
          ]
        },
        {
          "output_type": "display_data",
          "data": {
            "text/plain": [
              "<Figure size 640x480 with 1 Axes>"
            ],
            "image/png": "[encoded data removed]"
          },
          "metadata": {}
        }
      ]
    },
    {
      "cell_type": "markdown",
      "source": [
        "Yikes!!! :-(\n"
      ],
      "metadata": {
        "id": "eTYiBukM9A1D"
      }
    },
    {
      "cell_type": "markdown",
      "source": [
        "#Package implementations\n",
        "\n",
        "Numpy and Scipy linear solvers both do (P)LU decomposition and then solution. In general they can be accessed through:\n",
        "\n",
        ">numpy.linalg.solve(A,b)\n",
        "\n",
        "and\n",
        "\n",
        ">scipy.linalg.solve(A,b)\n",
        "\n",
        "Examining the options of scipy show that you can choose to:\n",
        "1. specify the matrix type\n",
        "2. overwrite the original matricies (which may boost efficiency)\n",
        "\n",
        "The advent of distributed computing (HPCs) motivated new algorithms that are better suited to large, sparse, systems (You will run in to these names in the future!)\n",
        "\n",
        "- PARADISO (PARallel Direct SOlver)\n",
        "- SuperLU (Supernodal LU)\n",
        "- UMFPACK (Unsymmetric-pattern MultiFrontal method)\n",
        "- MUMPS (Multifrontal Massively Parallel Sparse Direct Solver)\n"
      ],
      "metadata": {
        "id": "ypxXu0OlhhFV"
      }
    },
    {
      "cell_type": "code",
      "source": [
        "# prompt: use numpy to solve a linear system then repeat with scipy\n",
        "\n",
        "import numpy as np\n",
        "from scipy.linalg import solve\n",
        "\n",
        "# Define the coefficient matrix A\n",
        "A = np.array([[2, -1, 0],\n",
        "              [-1, 2, -1],\n",
        "              [0, -1, 2]])\n",
        "\n",
        "# Define the right-hand side vector b\n",
        "b = np.array([1, 2, 3])\n",
        "\n",
        "# Solve the linear system using numpy.linalg.solve\n",
        "x_numpy = np.linalg.solve(A, b)\n",
        "print(\"Solution using numpy.linalg.solve:\\n\", x_numpy)\n",
        "\n",
        "# Solve the linear system using scipy.linalg.solve\n",
        "x_scipy = solve(A, b)\n",
        "print(\"\\nSolution using scipy.linalg.solve:\\n\", x_scipy)\n"
      ],
      "metadata": {
        "colab": {
          "base_uri": "https://localhost:8080/"
        },
        "id": "7eG4Jxj1iqNm",
        "outputId": "2cf66944-2d51-432e-93c7-933063436195"
      },
      "execution_count": null,
      "outputs": [
        {
          "output_type": "stream",
          "name": "stdout",
          "text": [
            "Solution using numpy.linalg.solve:\n",
            " [2.5 4.  3.5]\n",
            "\n",
            "Solution using scipy.linalg.solve:\n",
            " [2.5 4.  3.5]\n"
          ]
        }
      ]
    },
    {
      "cell_type": "code",
      "source": [
        "# prompt: solve a 200x200 sparse system with sparse solvers then again  with a dense solver\n",
        "\n",
        "import numpy as np\n",
        "from scipy.sparse import diags\n",
        "from scipy.sparse.linalg import spsolve\n",
        "from scipy.linalg import solve\n",
        "\n",
        "# Generate a random sparse matrix\n",
        "n = 200\n",
        "\n",
        "main_diag = np.full(n, 2)\n",
        "upper_diag = np.full(n - 1, -1)\n",
        "lower_diag = np.full(n - 1, -1)\n",
        "A_sparse = diags([lower_diag, main_diag, upper_diag], offsets=[-1, 0, 1], format='csr')\n",
        "\n",
        "\n",
        "# row_ind = np.arange(n)\n",
        "# col_ind = np.arange(n)\n",
        "# data = np.random.rand(n)\n",
        "# A_sparse = csr_matrix((data, (row_ind, col_ind)), shape=(n, n))\n",
        "\n",
        "# Generate a random right-hand side vector\n",
        "b = np.random.rand(n)\n",
        "\n",
        "# Solve the sparse system\n",
        "%timeit x_sparse = spsolve(A_sparse, b)\n",
        "#print(\"Solution using sparse solver:\\n\", x_sparse, \"\\n\")\n",
        "\n",
        "# Convert the sparse matrix to a dense matrix\n",
        "A_dense = A_sparse.toarray()\n",
        "\n",
        "# Solve the dense system\n",
        "\n",
        "%timeit x_dense = solve(A_dense, b)\n",
        "#print(\"Solution using dense solver:\\n\", x_dense)\n"
      ],
      "metadata": {
        "colab": {
          "base_uri": "https://localhost:8080/"
        },
        "id": "1tRNkmH3iuaQ",
        "outputId": "d7e93eff-304d-4e70-ec26-417a81bf775d"
      },
      "execution_count": 7,
      "outputs": [
        {
          "output_type": "stream",
          "name": "stdout",
          "text": [
            "307 µs ± 142 µs per loop (mean ± std. dev. of 7 runs, 1000 loops each)\n",
            "1.29 ms ± 101 µs per loop (mean ± std. dev. of 7 runs, 100 loops each)\n"
          ]
        }
      ]
    },
    {
      "cell_type": "markdown",
      "source": [
        "# Dr. Mike's Tips!\n",
        "\n",
        "- Direct solver are your 'black box' for most of your needs.\n",
        "- They are the most robust for ill-conditioned systems.\n",
        "- They scale *terribly* (both in system size and parallelization)\n",
        "- If you use them, start with a small system and work upwards.\n",
        "- Generally speaking you won't see a speedup with parallelization until you get a large # of nodes\n",
        "- Warning: Some implementations (numpy) are sophisticated enough to handle singular matricies as well as non-singular (be careful with the answer!)\n",
        "- Sparse matricies are your saving grace! Do your best to protect them (hence store the LU factors, not the inverse!)"
      ],
      "metadata": {
        "id": "2P5RjZcxmXRA"
      }
    }
  ]
}