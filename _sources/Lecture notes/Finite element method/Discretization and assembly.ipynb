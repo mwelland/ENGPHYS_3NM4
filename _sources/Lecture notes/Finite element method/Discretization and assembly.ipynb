{
 "cells": [
  {
   "cell_type": "markdown",
   "metadata": {},
   "source": [
    "# Discretization and assembly\n"
   ]
  },
  {
   "cell_type": "markdown",
   "metadata": {
    "id": "-91K8wPEoRRu"
   },
   "source": [
    "## The weak form"
   ]
  },
  {
   "cell_type": "markdown",
   "metadata": {
    "id": "QBjOQlnToRRu"
   },
   "source": [
    "Our usual formulation of BVPs is called the *strong* form because it assumes a lot of continuity in a solution. E.g.: if the equation contains $\\nabla^2 u$, the solution assumes that that derivative exists!\n",
    "\n",
    "The MWR leads to the *weak form* which has less requirements on the solution, amoungst other benefits. Essentially, all we have to do is multiply through by our test function $v$ and integrate. Something *very* useful happens to our divergence-of-flux terms, which are prevelant in conservation equations."
   ]
  },
  {
   "cell_type": "markdown",
   "metadata": {
    "id": "HvQFEXtFoRRu"
   },
   "source": [
    "As an example, consider a time dependant heat balance (temperature = $u$), using the backward Euler time marching scheme.\n",
    "$$ \\begin{align}\n",
    "\\frac{\\partial u}{\\partial t} &= -\\nabla \\cdot \\vec{J} \\\\\n",
    "\\frac{u - u^{t-1}}{\\Delta t} &= -\\nabla \\cdot \\vec{J} \\\\\n",
    "u + \\Delta t [\\nabla \\cdot \\vec{J}] &= u^{t-1}\n",
    "\\end{align}$$\n"
   ]
  },
  {
   "cell_type": "markdown",
   "metadata": {
    "id": "hHHghCbWoRRu"
   },
   "source": [
    "To get to the weak form, multiply through by the test funciton $v$ and integrate:  \n",
    "\n",
    "$$ 0 = \\int_{\\Omega} u v - \\int_{\\Omega} u^{t-1}v \\  + \\Delta t \\int_{\\Omega}v \\nabla \\cdot \\vec{J} $$\n",
    "\n",
    "Examining the divergence-of-flux term, we see that we can apply integration by parts followed by the Divergence Theorem:\n",
    "$$ \\begin{align}\n",
    "\\int_\\Omega v \\nabla \\cdot \\vec{J}  &= -\\int_\\Omega \\nabla v \\cdot \\vec{J}  + \\int_{\\Omega} \\nabla \\cdot \\big[v\\vec{J}\\big]  \\\\\n",
    "&=-\\int_\\Omega \\nabla v \\cdot \\vec{J}  + \\int_{\\partial \\Omega} v \\ \\vec{J} \\cdot \\hat{n} \\\\\n",
    "&=\\int_\\Omega \\lambda \\nabla v \\nabla u  + \\int_{\\partial \\Omega} v \\ J_n    \n",
    "\\end{align}$$\n",
    "\n",
    "Where we have defined the outward normal boundary flux, $J_n = \\vec{J} \\cdot \\hat{n}$\n",
    "\n",
    "The weak form is remarkable since we:\n",
    "\n",
    "* replaced a second derivative with the product of two first derivatives.\n",
    "* no longer require our solution to *have* a second derivative (it can be less smooth and satisfy the equation in an average sense which is *weaker* than the *strong* form)!\n",
    "* incorporated boundary fluxes directly into the residual calculation (through the surface integral)\n",
    "* do not require anything from $\\lambda$, which means this is still valid for $\\lambda(u,x,t...)$, however it is now outside of the gradient!\n",
    "* We also provided an avenue for directly integrating surface *phenomena* into our model through the surface integral!)\n",
    "\n",
    "\n"
   ]
  },
  {
   "cell_type": "markdown",
   "metadata": {
    "id": "HeWXhPnECU-0"
   },
   "source": [
    "#### Boundary conditions / terms"
   ]
  },
  {
   "cell_type": "markdown",
   "metadata": {
    "id": "EhprpxhdCagQ"
   },
   "source": [
    "The term $\\int_{\\partial \\Omega} v \\ \\vec{J} \\cdot \\hat{n}$ is a *boundary integral* of the *normal flux*, $\\vec{J}_n = \\vec{J} \\cdot \\hat{n}$.\n",
    "\n",
    "Typically, we will have some knowledge of the boundary conditions either:\n",
    "* Neumann (flux) boundary condition in which case we have the quantity $\\vec{J}_n$ to insert directly.\n",
    "* Insulation (zero flux) for which $\\vec{J}_n= 0$ and the term vanishes.\n",
    "* Dirichlet (value) boundary condition which we would just insert directly into the applicable unknown, e.g.: $u_0 = 0$ for a boundary $u(0) = 0$. In this case, there is still a flux at that boundary but it is determined by the dirichlet condition.\n",
    "\n",
    "Some software will opt to implement Dirichlet conditions as a *weak constraint* which is a Lagrange multiplier formulation in which the lagrange multiple assume the value of the *reaction force* necesssary to affect that constraint."
   ]
  },
  {
   "cell_type": "markdown",
   "metadata": {
    "id": "U5PHlHZioRRu"
   },
   "source": [
    "## Discretization"
   ]
  },
  {
   "cell_type": "markdown",
   "metadata": {
    "id": "PBrMHAdKoRRv"
   },
   "source": [
    "We are now in a position to discretize the weak equation ,\n",
    "\n",
    "$$ \\begin{align}\n",
    "\\int_{\\Omega} u v + \\Delta t \\int_\\Omega \\lambda \\nabla v \\nabla u    &= \\int_{\\Omega} u^{t-1}v - \\Delta t \\int_{\\partial \\Omega} v \\ J_n\\\\\n",
    "\\end{align}$$\n",
    "\n",
    "into a form we are able to solve, which will (finally) give us an idea of what the shape functions are."
   ]
  },
  {
   "cell_type": "markdown",
   "metadata": {
    "id": "3LW2OiSdxOgN"
   },
   "source": [
    "### Small support for shape functions"
   ]
  },
  {
   "cell_type": "markdown",
   "metadata": {
    "id": "vQbadoCQxTtR"
   },
   "source": [
    "The shape functions are generally designed to be non-zero only inside their element. This has the effect of limiting products, $\\int \\phi_i \\phi_j$ and  $\\int \\nabla \\phi_i \\nabla \\phi_j$ to be zero for almost all combination of $i$ and $j$ except for cases where the nodes $i$ and $j$ are within the same element!"
   ]
  },
  {
   "cell_type": "markdown",
   "metadata": {
    "id": "kI-sSbsbzTNg"
   },
   "source": [
    "## Assembly"
   ]
  },
  {
   "cell_type": "markdown",
   "metadata": {
    "id": "hpwTMAYq965O"
   },
   "source": [
    "The matrix assembly stage involves transforming the weak form into a matrix equation for the unknowns, $u_i$ such that the approximate solution can be assembled as $u_h = \\sum u_i \\phi_i$.\n",
    "\n",
    "Consider the term, $\\int_{\\Omega} uv$, recalling $u_h = \\sum u_i \\phi_i$ and $v = \\sum_j \\phi_j$. Since integration is a linear operator, we have,"
   ]
  },
  {
   "cell_type": "markdown",
   "metadata": {
    "id": "vQPfdAIgzWLB"
   },
   "source": [
    "$$\\begin{align}\n",
    "\\int_{\\Omega} uv  &= \\sum_i u_i \\int_{\\Omega} \\phi_i \\phi_j \\\\\n",
    "&=  \\sum_i u_i M_{ij} \\\\\n",
    "\\end{align}$$\n",
    "where $M_{ij}$ is called the *Mass* matrix.\n",
    "\n",
    "Similarly,\n",
    "\n",
    "$$\\begin{align} \\int_\\Omega \\lambda \\nabla v \\nabla u &= \\sum_i \\lambda(u_i) u_i \\int_{\\Omega} \\nabla \\phi_i \\nabla \\phi_j \\\\\n",
    "&=  \\sum_i \\lambda(u_i) u_i K_{ij}\n",
    "\\end{align}$$\n",
    "which is called the *stiffness matrix*.\n",
    "\n",
    "The term\n",
    "$$\\begin{align}\n",
    "\\int_{\\Omega} u^{t-1} v &= \\sum_i u^{t-1}_i \\int_{\\Omega} \\phi_i \\phi_j \\\\\n",
    "&= \\sum_i u_i^{t-1} M_{ij} = b_j\n",
    "\\end{align}$$\n",
    "but can also be calculated directly since $u_i^{t-1}$ is known.\n",
    "                               \n",
    "\n"
   ]
  },
  {
   "cell_type": "markdown",
   "metadata": {
    "id": "lDpBwKsKEghE"
   },
   "source": [
    "Finally we can assemble our equation:\n",
    "\n",
    "$$ \\begin{align}\n",
    "\\int_{\\Omega} u v + \\Delta t \\int_\\Omega \\lambda \\nabla v \\nabla u   &= \\int_{\\Omega} u^{t-1}v - \\Delta t \\int_{\\partial \\Omega} v \\ J_n\\\\\n",
    "\\sum_i u_i M_{ij} + \\Delta t \\lambda u_i K_{ij}  &= b_j - {J_n}_j \\\\\n",
    "\\vec{u}_h M + \\Delta t \\lambda \\vec{u}_h K  &= \\vec{b} - \\vec{J_n}\n",
    "\\end{align}$$"
   ]
  },
  {
   "cell_type": "markdown",
   "metadata": {
    "id": "Up9re-kbITFH"
   },
   "source": [
    "The elements of the matrix are can be calculated for a reference element and then simply scaled according to the transformation of the template to the mesh. The integration itself can be analytic, or Gaussian Quadrature (for which Gauss Points would be obtained on the reference element)."
   ]
  },
  {
   "cell_type": "markdown",
   "metadata": {
    "id": "w6gRmWnwH3JG"
   },
   "source": [
    "### Summary of FEM Matricies"
   ]
  },
  {
   "cell_type": "markdown",
   "metadata": {
    "id": "RoCAW1Ja_Asj"
   },
   "source": [
    "| **Weak Form Term**  ............                                  | **Matrix Form (FEM)**                                                                                     | **Description**                                                                 |\n",
    "|-------------------------------------------------------|-----------------------------------------------------------------------------------------------------------|---------------------------------------------------------------------------------|\n",
    "| $\\int_\\Omega \\phi_i \\phi_j \\, d\\Omega$               | $\\mathbf{M}_{ij} $                                                  | Mass matrix. Often used in time-dependent problems.                            |\n",
    "| $\\int_\\Omega \\nabla \\phi_i \\cdot \\nabla \\phi_j \\, d\\Omega$ | $\\mathbf{K}_{ij} $                               | Stiffness matrix. Used in problems like Poisson or elasticity equations.       |\n",
    "| $\\int_\\Omega \\phi_i f \\, d\\Omega$                    | $\\mathbf{F}_i $                                                          | Load vector. Represents source terms in the governing equation.                |\n",
    "| $\\int_{\\partial \\Omega} \\phi_i g \\, d\\partial \\Omega$         | $\\mathbf{F}_i^{\\text{bc}} $                                   | Boundary load vector (from Neumann boundary conditions).                       |\n"
   ]
  },
  {
   "cell_type": "markdown",
   "metadata": {
    "id": "GHmc9y9c8Fon"
   },
   "source": [
    "## Solution"
   ]
  },
  {
   "cell_type": "markdown",
   "metadata": {
    "id": "adB3HhUl8JSh"
   },
   "source": [
    "We now arrive at a matrix equation for the unknows $u_i$, which is mearly a system of equations as we've spoken about beforehand."
   ]
  },
  {
   "cell_type": "markdown",
   "metadata": {
    "id": "pn5ytqmW9OR4"
   },
   "source": [
    "### Linear PDE"
   ]
  },
  {
   "cell_type": "markdown",
   "metadata": {
    "id": "wqEvOHi89Plc"
   },
   "source": [
    "If the PDE is linear, we can solve it with a linear solver which is sparse due to the small support requirement of the elements. The matrix will not in general be banded however, due to the irregular conectivity of the mesh verticies."
   ]
  },
  {
   "cell_type": "markdown",
   "metadata": {
    "id": "Cq5hwpUkvNzN"
   },
   "source": [
    "#### Example: 1D heat equation"
   ]
  },
  {
   "cell_type": "markdown",
   "metadata": {
    "id": "4Sv9RQEpvZLl"
   },
   "source": [
    "Solve the 1D heat balance equation with $\\lambda = 1$ for $x$ from 0 to 10 subject to $J(0)$ = 1 and $T(10) = 0$. Initial condition is $T(x,t=0) = 0$."
   ]
  },
  {
   "cell_type": "markdown",
   "metadata": {
    "id": "E6Z_i4bl24Nm"
   },
   "source": [
    "The mass matrix is:\n",
    "$$M_{ij} = \\int_{x_1}^{x_2} \\phi_i(x) \\phi_j(x) dx$$\n",
    "\n",
    "with\n",
    "\n",
    "$$\\begin{align}\n",
    "\\phi_1(x) &= \\frac{x_2-x}{x_2-x_1} \\\\\n",
    "\\phi_2(x) &= \\frac{x-x_1}{x_2-x_1} \\\\\n",
    "\\end{align}$$\n",
    "\n",
    "we (Mathematica) get:\n",
    "$$\n",
    "M = \\frac{[x_2-x_1]}{6} \\begin{bmatrix}\n",
    "2 & 1 \\\\\n",
    "1 & 2\n",
    "\\end{bmatrix}\n",
    "$$\n",
    "\n",
    "The stiffness matrix needs\n",
    "$$\\begin{align}\n",
    "\\nabla \\phi_1(x) &= \\frac{-1}{x_2-x_1} \\\\\n",
    "\\nabla \\phi_2(x) &= \\frac{1}{x_2-x_1} \\\\\n",
    "\\end{align}$$\n",
    "\n",
    "and\n",
    "$$ \\begin{align}\n",
    "K_{ij} &= \\lambda \\int_{x_1}^{x_2} \\nabla \\phi_i(x) \\nabla \\phi_j(x) dx\\\\\n",
    " &= \\frac{\\lambda}{h} \\begin{bmatrix}\n",
    "1 & -1 \\\\\n",
    "-1 & 1\n",
    "\\end{bmatrix}\n",
    "\\end{align}$$\n",
    "\n",
    "These *blocks* belong to each element, so we have to build the full matrix by *summing them*. Note this implies an overlap at common verticies between elements!"
   ]
  },
  {
   "cell_type": "code",
   "execution_count": 3,
   "metadata": {
    "colab": {
     "base_uri": "https://localhost:8080/",
     "height": 922,
     "referenced_widgets": [
      "d04e038e67a34a2b8a43c2cf2aaabbe6",
      "0db5e2e8b6e943d9b1a4219de39eaa5a",
      "df33221d641744cf808c876dfbc79faf",
      "139a86633ba14545a94c93d74160c1fe",
      "2e04d23a68f14164a00e4f6fe0a73b40",
      "d12c908071c143e8b2e54db14971749c",
      "e5066dc8587b484c9af732db38cf645b"
     ]
    },
    "id": "hz60R0B-TFti",
    "outputId": "a3e01b43-9ac4-4830-fc15-51fd3a1c3ad0"
   },
   "outputs": [
    {
     "data": {
      "image/png": "[encoded data removed]",
      "text/plain": [
       "<Figure size 640x480 with 1 Axes>"
      ]
     },
     "metadata": {},
     "output_type": "display_data"
    },
    {
     "data": {
      "application/vnd.jupyter.widget-view+json": {
       "model_id": "d04e038e67a34a2b8a43c2cf2aaabbe6",
       "version_major": 2,
       "version_minor": 0
      },
      "text/plain": [
       "interactive(children=(FloatSlider(value=0.0, description='Final Time:', step=1.0), Output()), _dom_classes=('w…"
      ]
     },
     "metadata": {},
     "output_type": "display_data"
    }
   ],
   "source": [
    "# prompt: Assemble a a linear system for the heat equation above using the finite element method with Lagrange order 1 elements, using implicit Euler time stepping and a mesh resolution that is concentrated near the left boundary.\n",
    "\n",
    "import numpy as np\n",
    "import matplotlib.pyplot as plt\n",
    "from scipy import sparse\n",
    "from ipywidgets import interact, FloatSlider\n",
    "\n",
    "# Define the domain and parameters\n",
    "L = 10.0  # Length of the domain\n",
    "n_elements = 20  # Number of elements\n",
    "dt = 0.1  # Time step\n",
    "t_final = 1.0  # Final time\n",
    "\n",
    "# Create a mesh with concentration near the left boundary\n",
    "x_nodes = np.concatenate((np.linspace(0, 2, int(n_elements / 2) + 1),\n",
    "                          np.linspace(2 + (L - 2) / (n_elements / 2 - 1), L, int(n_elements / 2))))\n",
    "\n",
    "# Define the element stiffness and mass matrices for linear elements\n",
    "def element_stiffness(x1, x2):\n",
    "    return np.array([[1, -1], [-1, 1]]) / (x2 - x1)\n",
    "\n",
    "def element_mass(x1, x2):\n",
    "    return np.array([[2, 1], [1, 2]]) * (x2 - x1) / 6\n",
    "\n",
    "# Assemble the global stiffness and mass matrices\n",
    "K = np.zeros((len(x_nodes), len(x_nodes)))\n",
    "M = np.zeros((len(x_nodes), len(x_nodes)))\n",
    "\n",
    "for i in range(len(x_nodes) - 1):\n",
    "    x1 = x_nodes[i]\n",
    "    x2 = x_nodes[i + 1]\n",
    "    Ke = element_stiffness(x1, x2)\n",
    "    Me = element_mass(x1, x2)\n",
    "    K[i:i + 2, i:i + 2] += Ke\n",
    "    M[i:i + 2, i:i + 2] += Me\n",
    "\n",
    "plt.spy(M)\n",
    "plt.show()\n",
    "\n",
    "# Apply boundary conditions\n",
    "# Dirichlet BC at x = L (T(L) = 0)\n",
    "K[-1, :] = 0\n",
    "K[-1, -1] = 1\n",
    "M[-1, :] = 0\n",
    "M[-1, -1] = 1\n",
    "\n",
    "# Neumann BC at x = 0 (J(0) = 1)\n",
    "# We'll implement this in the right-hand side vector later.\n",
    "\n",
    "# Function to solve and plot for a given time\n",
    "def solve_and_plot(t_final):\n",
    "    T = np.zeros(len(x_nodes))\n",
    "    t = 0.0\n",
    "    while t < t_final:\n",
    "        b = M @ T\n",
    "        b[0] += dt * 1\n",
    "        T = np.linalg.solve(M + dt * K, b)\n",
    "        t += dt\n",
    "\n",
    "    plt.plot(x_nodes, T)\n",
    "    plt.xlabel('x')\n",
    "    plt.ylim(-.5, 10)  # Set the y-axis limits to [0, 1]\n",
    "    plt.ylabel('Temperature')\n",
    "    plt.title('Temperature Profile at t = {}'.format(t_final))\n",
    "    plt.show()\n",
    "\n",
    "\n",
    "# Create a slider for the final time\n",
    "time_slider = FloatSlider(value=0.0, min=0.0, max=100.0, step=1, description='Final Time:')\n",
    "\n",
    "# Use interact to link the slider to the function\n",
    "interact(solve_and_plot, t_final=time_slider);\n"
   ]
  },
  {
   "cell_type": "markdown",
   "metadata": {
    "id": "tThXIh_c_A3E"
   },
   "source": [
    "Note that we built the $M$ and $K$ matricies once, outside the time loop and reuse them for each time step! Even if we had adaptive time stepping, the matrix wouldn't change!"
   ]
  },
  {
   "cell_type": "markdown",
   "metadata": {
    "id": "Qr5osAmQ9GYK"
   },
   "source": [
    "### Nonlinear case"
   ]
  },
  {
   "cell_type": "markdown",
   "metadata": {
    "id": "x17z64IU9TWx"
   },
   "source": [
    "If the PDE is nonlinear, we simply have to use a root finder. Note that in this case we are looking for the parameters $u_i$ directly - the shape functions are unaffected and therefore only the coefficients of the matrix *blocks* are altered. This brings up the concept of *sparsity patterns* which can help reduce the overhead of sparse matrix representaitons.\n",
    "\n",
    "Since modern finite element software needs to construct the weak form, it is usually equiped with symbolic logic capabilities and therefore able to calculate the Jacobian for use in the root finding algorithm."
   ]
  },
  {
   "cell_type": "markdown",
   "metadata": {
    "id": "hBFDR0jz_nbj"
   },
   "source": [
    "#### Example: 1D nonlinear heat equation"
   ]
  },
  {
   "cell_type": "markdown",
   "metadata": {
    "id": "h3dg37s3_ujB"
   },
   "source": [
    "Repeat the above exercise with $\\lambda = 1 + u/10$"
   ]
  },
  {
   "cell_type": "code",
   "execution_count": 6,
   "metadata": {
    "colab": {
     "base_uri": "https://localhost:8080/",
     "height": 504,
     "referenced_widgets": [
      "f66ee64955cc4b438b2bca2809a0a42e",
      "1504686b6b884a08a72a0f3693d1ebba",
      "0b8a9fabc27b475585baac7c115c47e2",
      "b630b4e4b6c149b2ab9c9bf1f956d560",
      "cab401f5c1a64956959b061c5abbddcd",
      "715c4f5be7b4467296638c62de2b1fc3",
      "0018c3123ae8448da3236ff0f0261374"
     ]
    },
    "id": "Nz2if6xfAWj8",
    "outputId": "04f4fa5f-8822-4d57-9ef5-ed36dfcdf712"
   },
   "outputs": [
    {
     "data": {
      "application/vnd.jupyter.widget-view+json": {
       "model_id": "f66ee64955cc4b438b2bca2809a0a42e",
       "version_major": 2,
       "version_minor": 0
      },
      "text/plain": [
       "interactive(children=(FloatSlider(value=0.0, description='Final Time:', step=1.0), Output()), _dom_classes=('w…"
      ]
     },
     "metadata": {},
     "output_type": "display_data"
    }
   ],
   "source": [
    "# prompt: Solve the heat transport problem again but this time with \\lambda = 1+T/10\n",
    "\n",
    "import numpy as np\n",
    "import matplotlib.pyplot as plt\n",
    "from scipy import sparse\n",
    "from ipywidgets import interact, FloatSlider\n",
    "\n",
    "# Define the domain and parameters\n",
    "L = 10.0  # Length of the domain\n",
    "n_elements = 20  # Number of elements\n",
    "dt = 0.1  # Time step\n",
    "t_final = 1.0  # Final time\n",
    "\n",
    "# Create a mesh with concentration near the left boundary\n",
    "x_nodes = np.concatenate((np.linspace(0, 2, int(n_elements / 2) + 1),\n",
    "                          np.linspace(2 + (L - 2) / (n_elements / 2 - 1), L, int(n_elements / 2))))\n",
    "\n",
    "# Define the element stiffness and mass matrices for linear elements\n",
    "def element_stiffness(x1, x2, T):\n",
    "    lambda_val = 1 + T / 10\n",
    "    return np.array([[1, -1], [-1, 1]]) * lambda_val / (x2 - x1)\n",
    "\n",
    "\n",
    "def element_mass(x1, x2):\n",
    "    return np.array([[2, 1], [1, 2]]) * (x2 - x1) / 6\n",
    "\n",
    "# Assemble the global stiffness and mass matrices\n",
    "def assemble_matrices(T):\n",
    "    K = np.zeros((len(x_nodes), len(x_nodes)))\n",
    "    M = np.zeros((len(x_nodes), len(x_nodes)))\n",
    "\n",
    "    for i in range(len(x_nodes) - 1):\n",
    "        x1 = x_nodes[i]\n",
    "        x2 = x_nodes[i + 1]\n",
    "        Ke = element_stiffness(x1, x2, T[i:i+2].mean())\n",
    "        Me = element_mass(x1, x2)\n",
    "        K[i:i + 2, i:i + 2] += Ke\n",
    "        M[i:i + 2, i:i + 2] += Me\n",
    "\n",
    "    return K, M\n",
    "\n",
    "\n",
    "# Apply boundary conditions\n",
    "def apply_boundary_conditions(K, M):\n",
    "    # Dirichlet BC at x = L (T(L) = 0)\n",
    "    K[-1, :] = 0\n",
    "    K[-1, -1] = 1\n",
    "    M[-1, :] = 0\n",
    "    M[-1, -1] = 1\n",
    "    return K, M\n",
    "\n",
    "# Function to solve and plot for a given time\n",
    "def solve_and_plot(t_final):\n",
    "    T = np.zeros(len(x_nodes))\n",
    "    t = 0.0\n",
    "    while t < t_final:\n",
    "        K, M = assemble_matrices(T)\n",
    "        K, M = apply_boundary_conditions(K, M)\n",
    "        b = M @ T\n",
    "        b[0] += dt * 1\n",
    "        T = np.linalg.solve(M + dt * K, b)\n",
    "        t += dt\n",
    "\n",
    "    plt.plot(x_nodes, T)\n",
    "    plt.xlabel('x')\n",
    "    plt.ylim(-.5, 10)  # Set the y-axis limits to [0, 1]\n",
    "    plt.ylabel('Temperature')\n",
    "    plt.title('Temperature Profile at t = {}'.format(t_final))\n",
    "    plt.show()\n",
    "\n",
    "\n",
    "# Create a slider for the final time\n",
    "time_slider = FloatSlider(value=0.0, min=0.0, max=100.0, step=1, description='Final Time:')\n",
    "\n",
    "# Use interact to link the slider to the function\n",
    "interact(solve_and_plot, t_final=time_slider);"
   ]
  },
  {
   "cell_type": "markdown",
   "metadata": {
    "id": "FX-BlxwpJfss"
   },
   "source": [
    "Hmmmm... something is funny in that code!"
   ]
  },
  {
   "cell_type": "code",
   "execution_count": 5,
   "metadata": {
    "colab": {
     "base_uri": "https://localhost:8080/",
     "height": 504,
     "referenced_widgets": [
      "98d349fddaa545f7be55cd1e660e2b40",
      "41db221af4424337bc944d70a589d7c2",
      "2bc782707f7a449d898fd032106b2376",
      "005d3b83ec7e43729d4b2c9ff901036e",
      "c60ea32b05a0401e9e60eb04203c134e",
      "f6d942eef9534054be09f107ff6b3c67",
      "247caae87e0d4d7cb2c1304e5860f574"
     ]
    },
    "id": "htd1uX-tCWW3",
    "outputId": "c3c6e2c0-e79e-45df-a3eb-607e504988d2"
   },
   "outputs": [
    {
     "data": {
      "application/vnd.jupyter.widget-view+json": {
       "model_id": "98d349fddaa545f7be55cd1e660e2b40",
       "version_major": 2,
       "version_minor": 0
      },
      "text/plain": [
       "interactive(children=(FloatSlider(value=0.0, description='Final Time:', step=1.0), Output()), _dom_classes=('w…"
      ]
     },
     "metadata": {},
     "output_type": "display_data"
    }
   ],
   "source": [
    "# prompt: Solve the heat transport problem again but this time with \\lambda = 1+T/10 using a root finder\n",
    "\n",
    "import numpy as np\n",
    "import matplotlib.pyplot as plt\n",
    "from scipy import sparse\n",
    "from scipy.optimize import root\n",
    "from ipywidgets import interact, FloatSlider\n",
    "\n",
    "\n",
    "# Define the domain and parameters\n",
    "L = 10.0  # Length of the domain\n",
    "n_elements = 20  # Number of elements\n",
    "dt = 0.1  # Time step\n",
    "t_final = 1.0  # Final time\n",
    "\n",
    "# Create a mesh with concentration near the left boundary\n",
    "x_nodes = np.concatenate((np.linspace(0, 2, int(n_elements / 2) + 1),\n",
    "                          np.linspace(2 + (L - 2) / (n_elements / 2 - 1), L, int(n_elements / 2))))\n",
    "\n",
    "# Define the element stiffness and mass matrices for linear elements\n",
    "def element_stiffness(x1, x2, lambda_val):\n",
    "    return np.array([[1, -1], [-1, 1]]) * lambda_val / (x2 - x1)\n",
    "\n",
    "def element_mass(x1, x2):\n",
    "    return np.array([[2, 1], [1, 2]]) * (x2 - x1) / 6\n",
    "\n",
    "# Assemble the global stiffness and mass matrices\n",
    "M = np.zeros((len(x_nodes), len(x_nodes)))\n",
    "\n",
    "for i in range(len(x_nodes) - 1):\n",
    "    x1 = x_nodes[i]\n",
    "    x2 = x_nodes[i + 1]\n",
    "    Me = element_mass(x1, x2)\n",
    "    M[i:i + 2, i:i + 2] += Me\n",
    "\n",
    "# Apply boundary conditions\n",
    "# Dirichlet BC at x = L (T(L) = 0)\n",
    "M[-1, :] = 0\n",
    "M[-1, -1] = 1\n",
    "\n",
    "# Neumann BC at x = 0 (J(0) = 1)\n",
    "# We'll implement this in the right-hand side vector later.\n",
    "\n",
    "# Function to solve for T at the next time step using a root finder\n",
    "def solve_for_next_T(T_prev):\n",
    "    def residual(T):\n",
    "        K = np.zeros((len(x_nodes), len(x_nodes)))\n",
    "        for i in range(len(x_nodes) - 1):\n",
    "            x1 = x_nodes[i]\n",
    "            x2 = x_nodes[i + 1]\n",
    "            lambda_val = 1 + T[i] / 10  # Update lambda based on T\n",
    "            Ke = element_stiffness(x1, x2, lambda_val)\n",
    "            K[i:i + 2, i:i + 2] += Ke\n",
    "\n",
    "        b = M @ T_prev\n",
    "        b[0] += dt * 1\n",
    "        b[-1] = 0\n",
    "        return (M @ T) + dt * (K @ T) - b\n",
    "\n",
    "    sol = root(residual, T_prev)\n",
    "    return sol.x\n",
    "\n",
    "# Function to solve and plot for a given time\n",
    "def solve_and_plot(t_final):\n",
    "    T = np.zeros(len(x_nodes))\n",
    "    t = 0.0\n",
    "    while t < t_final:\n",
    "        T = solve_for_next_T(T)\n",
    "        t += dt\n",
    "\n",
    "    plt.plot(x_nodes, T)\n",
    "    plt.xlabel('x')\n",
    "    plt.ylim(-.5, 10)\n",
    "    plt.ylabel('Temperature')\n",
    "    plt.title('Temperature Profile at t = {}'.format(t_final))\n",
    "    plt.show()\n",
    "\n",
    "\n",
    "# Create a slider for the final time\n",
    "time_slider = FloatSlider(value=0.0, min=0.0, max=100.0, step=1, description='Final Time:')\n",
    "\n",
    "# Use interact to link the slider to the function\n",
    "interact(solve_and_plot, t_final=time_slider);"
   ]
  }
 ],
 "metadata": {
  "colab": {
   "provenance": [],
   "toc_visible": true
  },
  "kernelspec": {
   "display_name": "base",
   "language": "python",
   "name": "python3"
  },
  "language_info": {
   "codemirror_mode": {
    "name": "ipython",
    "version": 3
   },
   "file_extension": ".py",
   "mimetype": "text/x-python",
   "name": "python",
   "nbconvert_exporter": "python",
   "pygments_lexer": "ipython3",
   "version": "3.12.4"
  },
  "widgets": {
   "application/vnd.jupyter.widget-state+json": {
    "0018c3123ae8448da3236ff0f0261374": {
     "model_module": "@jupyter-widgets/base",
     "model_module_version": "1.2.0",
     "model_name": "LayoutModel",
     "state": {
      "_model_module": "@jupyter-widgets/base",
      "_model_module_version": "1.2.0",
      "_model_name": "LayoutModel",
      "_view_count": null,
      "_view_module": "@jupyter-widgets/base",
      "_view_module_version": "1.2.0",
      "_view_name": "LayoutView",
      "align_content": null,
      "align_items": null,
      "align_self": null,
      "border": null,
      "bottom": null,
      "display": null,
      "flex": null,
      "flex_flow": null,
      "grid_area": null,
      "grid_auto_columns": null,
      "grid_auto_flow": null,
      "grid_auto_rows": null,
      "grid_column": null,
      "grid_gap": null,
      "grid_row": null,
      "grid_template_areas": null,
      "grid_template_columns": null,
      "grid_template_rows": null,
      "height": null,
      "justify_content": null,
      "justify_items": null,
      "left": null,
      "margin": null,
      "max_height": null,
      "max_width": null,
      "min_height": null,
      "min_width": null,
      "object_fit": null,
      "object_position": null,
      "order": null,
      "overflow": null,
      "overflow_x": null,
      "overflow_y": null,
      "padding": null,
      "right": null,
      "top": null,
      "visibility": null,
      "width": null
     }
    },
    "005d3b83ec7e43729d4b2c9ff901036e": {
     "model_module": "@jupyter-widgets/base",
     "model_module_version": "1.2.0",
     "model_name": "LayoutModel",
     "state": {
      "_model_module": "@jupyter-widgets/base",
      "_model_module_version": "1.2.0",
      "_model_name": "LayoutModel",
      "_view_count": null,
      "_view_module": "@jupyter-widgets/base",
      "_view_module_version": "1.2.0",
      "_view_name": "LayoutView",
      "align_content": null,
      "align_items": null,
      "align_self": null,
      "border": null,
      "bottom": null,
      "display": null,
      "flex": null,
      "flex_flow": null,
      "grid_area": null,
      "grid_auto_columns": null,
      "grid_auto_flow": null,
      "grid_auto_rows": null,
      "grid_column": null,
      "grid_gap": null,
      "grid_row": null,
      "grid_template_areas": null,
      "grid_template_columns": null,
      "grid_template_rows": null,
      "height": null,
      "justify_content": null,
      "justify_items": null,
      "left": null,
      "margin": null,
      "max_height": null,
      "max_width": null,
      "min_height": null,
      "min_width": null,
      "object_fit": null,
      "object_position": null,
      "order": null,
      "overflow": null,
      "overflow_x": null,
      "overflow_y": null,
      "padding": null,
      "right": null,
      "top": null,
      "visibility": null,
      "width": null
     }
    },
    "0b8a9fabc27b475585baac7c115c47e2": {
     "model_module": "@jupyter-widgets/output",
     "model_module_version": "1.0.0",
     "model_name": "OutputModel",
     "state": {
      "_dom_classes": [],
      "_model_module": "@jupyter-widgets/output",
      "_model_module_version": "1.0.0",
      "_model_name": "OutputModel",
      "_view_count": null,
      "_view_module": "@jupyter-widgets/output",
      "_view_module_version": "1.0.0",
      "_view_name": "OutputView",
      "layout": "IPY_MODEL_0018c3123ae8448da3236ff0f0261374",
      "msg_id": "",
      "outputs": [
       {
        "data": {
         "image/png": "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\n",
         "text/plain": "<Figure size 640x480 with 1 Axes>"
        },
        "metadata": {},
        "output_type": "display_data"
       }
      ]
     }
    },
    "0db5e2e8b6e943d9b1a4219de39eaa5a": {
     "model_module": "@jupyter-widgets/controls",
     "model_module_version": "1.5.0",
     "model_name": "FloatSliderModel",
     "state": {
      "_dom_classes": [],
      "_model_module": "@jupyter-widgets/controls",
      "_model_module_version": "1.5.0",
      "_model_name": "FloatSliderModel",
      "_view_count": null,
      "_view_module": "@jupyter-widgets/controls",
      "_view_module_version": "1.5.0",
      "_view_name": "FloatSliderView",
      "continuous_update": true,
      "description": "Final Time:",
      "description_tooltip": null,
      "disabled": false,
      "layout": "IPY_MODEL_2e04d23a68f14164a00e4f6fe0a73b40",
      "max": 100,
      "min": 0,
      "orientation": "horizontal",
      "readout": true,
      "readout_format": ".2f",
      "step": 1,
      "style": "IPY_MODEL_d12c908071c143e8b2e54db14971749c",
      "value": 0
     }
    },
    "139a86633ba14545a94c93d74160c1fe": {
     "model_module": "@jupyter-widgets/base",
     "model_module_version": "1.2.0",
     "model_name": "LayoutModel",
     "state": {
      "_model_module": "@jupyter-widgets/base",
      "_model_module_version": "1.2.0",
      "_model_name": "LayoutModel",
      "_view_count": null,
      "_view_module": "@jupyter-widgets/base",
      "_view_module_version": "1.2.0",
      "_view_name": "LayoutView",
      "align_content": null,
      "align_items": null,
      "align_self": null,
      "border": null,
      "bottom": null,
      "display": null,
      "flex": null,
      "flex_flow": null,
      "grid_area": null,
      "grid_auto_columns": null,
      "grid_auto_flow": null,
      "grid_auto_rows": null,
      "grid_column": null,
      "grid_gap": null,
      "grid_row": null,
      "grid_template_areas": null,
      "grid_template_columns": null,
      "grid_template_rows": null,
      "height": null,
      "justify_content": null,
      "justify_items": null,
      "left": null,
      "margin": null,
      "max_height": null,
      "max_width": null,
      "min_height": null,
      "min_width": null,
      "object_fit": null,
      "object_position": null,
      "order": null,
      "overflow": null,
      "overflow_x": null,
      "overflow_y": null,
      "padding": null,
      "right": null,
      "top": null,
      "visibility": null,
      "width": null
     }
    },
    "1504686b6b884a08a72a0f3693d1ebba": {
     "model_module": "@jupyter-widgets/controls",
     "model_module_version": "1.5.0",
     "model_name": "FloatSliderModel",
     "state": {
      "_dom_classes": [],
      "_model_module": "@jupyter-widgets/controls",
      "_model_module_version": "1.5.0",
      "_model_name": "FloatSliderModel",
      "_view_count": null,
      "_view_module": "@jupyter-widgets/controls",
      "_view_module_version": "1.5.0",
      "_view_name": "FloatSliderView",
      "continuous_update": true,
      "description": "Final Time:",
      "description_tooltip": null,
      "disabled": false,
      "layout": "IPY_MODEL_cab401f5c1a64956959b061c5abbddcd",
      "max": 100,
      "min": 0,
      "orientation": "horizontal",
      "readout": true,
      "readout_format": ".2f",
      "step": 1,
      "style": "IPY_MODEL_715c4f5be7b4467296638c62de2b1fc3",
      "value": 0
     }
    },
    "247caae87e0d4d7cb2c1304e5860f574": {
     "model_module": "@jupyter-widgets/base",
     "model_module_version": "1.2.0",
     "model_name": "LayoutModel",
     "state": {
      "_model_module": "@jupyter-widgets/base",
      "_model_module_version": "1.2.0",
      "_model_name": "LayoutModel",
      "_view_count": null,
      "_view_module": "@jupyter-widgets/base",
      "_view_module_version": "1.2.0",
      "_view_name": "LayoutView",
      "align_content": null,
      "align_items": null,
      "align_self": null,
      "border": null,
      "bottom": null,
      "display": null,
      "flex": null,
      "flex_flow": null,
      "grid_area": null,
      "grid_auto_columns": null,
      "grid_auto_flow": null,
      "grid_auto_rows": null,
      "grid_column": null,
      "grid_gap": null,
      "grid_row": null,
      "grid_template_areas": null,
      "grid_template_columns": null,
      "grid_template_rows": null,
      "height": null,
      "justify_content": null,
      "justify_items": null,
      "left": null,
      "margin": null,
      "max_height": null,
      "max_width": null,
      "min_height": null,
      "min_width": null,
      "object_fit": null,
      "object_position": null,
      "order": null,
      "overflow": null,
      "overflow_x": null,
      "overflow_y": null,
      "padding": null,
      "right": null,
      "top": null,
      "visibility": null,
      "width": null
     }
    },
    "2bc782707f7a449d898fd032106b2376": {
     "model_module": "@jupyter-widgets/output",
     "model_module_version": "1.0.0",
     "model_name": "OutputModel",
     "state": {
      "_dom_classes": [],
      "_model_module": "@jupyter-widgets/output",
      "_model_module_version": "1.0.0",
      "_model_name": "OutputModel",
      "_view_count": null,
      "_view_module": "@jupyter-widgets/output",
      "_view_module_version": "1.0.0",
      "_view_name": "OutputView",
      "layout": "IPY_MODEL_247caae87e0d4d7cb2c1304e5860f574",
      "msg_id": "",
      "outputs": [
       {
        "data": {
         "image/png": "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\n",
         "text/plain": "<Figure size 640x480 with 1 Axes>"
        },
        "metadata": {},
        "output_type": "display_data"
       }
      ]
     }
    },
    "2e04d23a68f14164a00e4f6fe0a73b40": {
     "model_module": "@jupyter-widgets/base",
     "model_module_version": "1.2.0",
     "model_name": "LayoutModel",
     "state": {
      "_model_module": "@jupyter-widgets/base",
      "_model_module_version": "1.2.0",
      "_model_name": "LayoutModel",
      "_view_count": null,
      "_view_module": "@jupyter-widgets/base",
      "_view_module_version": "1.2.0",
      "_view_name": "LayoutView",
      "align_content": null,
      "align_items": null,
      "align_self": null,
      "border": null,
      "bottom": null,
      "display": null,
      "flex": null,
      "flex_flow": null,
      "grid_area": null,
      "grid_auto_columns": null,
      "grid_auto_flow": null,
      "grid_auto_rows": null,
      "grid_column": null,
      "grid_gap": null,
      "grid_row": null,
      "grid_template_areas": null,
      "grid_template_columns": null,
      "grid_template_rows": null,
      "height": null,
      "justify_content": null,
      "justify_items": null,
      "left": null,
      "margin": null,
      "max_height": null,
      "max_width": null,
      "min_height": null,
      "min_width": null,
      "object_fit": null,
      "object_position": null,
      "order": null,
      "overflow": null,
      "overflow_x": null,
      "overflow_y": null,
      "padding": null,
      "right": null,
      "top": null,
      "visibility": null,
      "width": null
     }
    },
    "41db221af4424337bc944d70a589d7c2": {
     "model_module": "@jupyter-widgets/controls",
     "model_module_version": "1.5.0",
     "model_name": "FloatSliderModel",
     "state": {
      "_dom_classes": [],
      "_model_module": "@jupyter-widgets/controls",
      "_model_module_version": "1.5.0",
      "_model_name": "FloatSliderModel",
      "_view_count": null,
      "_view_module": "@jupyter-widgets/controls",
      "_view_module_version": "1.5.0",
      "_view_name": "FloatSliderView",
      "continuous_update": true,
      "description": "Final Time:",
      "description_tooltip": null,
      "disabled": false,
      "layout": "IPY_MODEL_c60ea32b05a0401e9e60eb04203c134e",
      "max": 100,
      "min": 0,
      "orientation": "horizontal",
      "readout": true,
      "readout_format": ".2f",
      "step": 1,
      "style": "IPY_MODEL_f6d942eef9534054be09f107ff6b3c67",
      "value": 0
     }
    },
    "715c4f5be7b4467296638c62de2b1fc3": {
     "model_module": "@jupyter-widgets/controls",
     "model_module_version": "1.5.0",
     "model_name": "SliderStyleModel",
     "state": {
      "_model_module": "@jupyter-widgets/controls",
      "_model_module_version": "1.5.0",
      "_model_name": "SliderStyleModel",
      "_view_count": null,
      "_view_module": "@jupyter-widgets/base",
      "_view_module_version": "1.2.0",
      "_view_name": "StyleView",
      "description_width": "",
      "handle_color": null
     }
    },
    "98d349fddaa545f7be55cd1e660e2b40": {
     "model_module": "@jupyter-widgets/controls",
     "model_module_version": "1.5.0",
     "model_name": "VBoxModel",
     "state": {
      "_dom_classes": [
       "widget-interact"
      ],
      "_model_module": "@jupyter-widgets/controls",
      "_model_module_version": "1.5.0",
      "_model_name": "VBoxModel",
      "_view_count": null,
      "_view_module": "@jupyter-widgets/controls",
      "_view_module_version": "1.5.0",
      "_view_name": "VBoxView",
      "box_style": "",
      "children": [
       "IPY_MODEL_41db221af4424337bc944d70a589d7c2",
       "IPY_MODEL_2bc782707f7a449d898fd032106b2376"
      ],
      "layout": "IPY_MODEL_005d3b83ec7e43729d4b2c9ff901036e"
     }
    },
    "b630b4e4b6c149b2ab9c9bf1f956d560": {
     "model_module": "@jupyter-widgets/base",
     "model_module_version": "1.2.0",
     "model_name": "LayoutModel",
     "state": {
      "_model_module": "@jupyter-widgets/base",
      "_model_module_version": "1.2.0",
      "_model_name": "LayoutModel",
      "_view_count": null,
      "_view_module": "@jupyter-widgets/base",
      "_view_module_version": "1.2.0",
      "_view_name": "LayoutView",
      "align_content": null,
      "align_items": null,
      "align_self": null,
      "border": null,
      "bottom": null,
      "display": null,
      "flex": null,
      "flex_flow": null,
      "grid_area": null,
      "grid_auto_columns": null,
      "grid_auto_flow": null,
      "grid_auto_rows": null,
      "grid_column": null,
      "grid_gap": null,
      "grid_row": null,
      "grid_template_areas": null,
      "grid_template_columns": null,
      "grid_template_rows": null,
      "height": null,
      "justify_content": null,
      "justify_items": null,
      "left": null,
      "margin": null,
      "max_height": null,
      "max_width": null,
      "min_height": null,
      "min_width": null,
      "object_fit": null,
      "object_position": null,
      "order": null,
      "overflow": null,
      "overflow_x": null,
      "overflow_y": null,
      "padding": null,
      "right": null,
      "top": null,
      "visibility": null,
      "width": null
     }
    },
    "c60ea32b05a0401e9e60eb04203c134e": {
     "model_module": "@jupyter-widgets/base",
     "model_module_version": "1.2.0",
     "model_name": "LayoutModel",
     "state": {
      "_model_module": "@jupyter-widgets/base",
      "_model_module_version": "1.2.0",
      "_model_name": "LayoutModel",
      "_view_count": null,
      "_view_module": "@jupyter-widgets/base",
      "_view_module_version": "1.2.0",
      "_view_name": "LayoutView",
      "align_content": null,
      "align_items": null,
      "align_self": null,
      "border": null,
      "bottom": null,
      "display": null,
      "flex": null,
      "flex_flow": null,
      "grid_area": null,
      "grid_auto_columns": null,
      "grid_auto_flow": null,
      "grid_auto_rows": null,
      "grid_column": null,
      "grid_gap": null,
      "grid_row": null,
      "grid_template_areas": null,
      "grid_template_columns": null,
      "grid_template_rows": null,
      "height": null,
      "justify_content": null,
      "justify_items": null,
      "left": null,
      "margin": null,
      "max_height": null,
      "max_width": null,
      "min_height": null,
      "min_width": null,
      "object_fit": null,
      "object_position": null,
      "order": null,
      "overflow": null,
      "overflow_x": null,
      "overflow_y": null,
      "padding": null,
      "right": null,
      "top": null,
      "visibility": null,
      "width": null
     }
    },
    "cab401f5c1a64956959b061c5abbddcd": {
     "model_module": "@jupyter-widgets/base",
     "model_module_version": "1.2.0",
     "model_name": "LayoutModel",
     "state": {
      "_model_module": "@jupyter-widgets/base",
      "_model_module_version": "1.2.0",
      "_model_name": "LayoutModel",
      "_view_count": null,
      "_view_module": "@jupyter-widgets/base",
      "_view_module_version": "1.2.0",
      "_view_name": "LayoutView",
      "align_content": null,
      "align_items": null,
      "align_self": null,
      "border": null,
      "bottom": null,
      "display": null,
      "flex": null,
      "flex_flow": null,
      "grid_area": null,
      "grid_auto_columns": null,
      "grid_auto_flow": null,
      "grid_auto_rows": null,
      "grid_column": null,
      "grid_gap": null,
      "grid_row": null,
      "grid_template_areas": null,
      "grid_template_columns": null,
      "grid_template_rows": null,
      "height": null,
      "justify_content": null,
      "justify_items": null,
      "left": null,
      "margin": null,
      "max_height": null,
      "max_width": null,
      "min_height": null,
      "min_width": null,
      "object_fit": null,
      "object_position": null,
      "order": null,
      "overflow": null,
      "overflow_x": null,
      "overflow_y": null,
      "padding": null,
      "right": null,
      "top": null,
      "visibility": null,
      "width": null
     }
    },
    "d04e038e67a34a2b8a43c2cf2aaabbe6": {
     "model_module": "@jupyter-widgets/controls",
     "model_module_version": "1.5.0",
     "model_name": "VBoxModel",
     "state": {
      "_dom_classes": [
       "widget-interact"
      ],
      "_model_module": "@jupyter-widgets/controls",
      "_model_module_version": "1.5.0",
      "_model_name": "VBoxModel",
      "_view_count": null,
      "_view_module": "@jupyter-widgets/controls",
      "_view_module_version": "1.5.0",
      "_view_name": "VBoxView",
      "box_style": "",
      "children": [
       "IPY_MODEL_0db5e2e8b6e943d9b1a4219de39eaa5a",
       "IPY_MODEL_df33221d641744cf808c876dfbc79faf"
      ],
      "layout": "IPY_MODEL_139a86633ba14545a94c93d74160c1fe"
     }
    },
    "d12c908071c143e8b2e54db14971749c": {
     "model_module": "@jupyter-widgets/controls",
     "model_module_version": "1.5.0",
     "model_name": "SliderStyleModel",
     "state": {
      "_model_module": "@jupyter-widgets/controls",
      "_model_module_version": "1.5.0",
      "_model_name": "SliderStyleModel",
      "_view_count": null,
      "_view_module": "@jupyter-widgets/base",
      "_view_module_version": "1.2.0",
      "_view_name": "StyleView",
      "description_width": "",
      "handle_color": null
     }
    },
    "df33221d641744cf808c876dfbc79faf": {
     "model_module": "@jupyter-widgets/output",
     "model_module_version": "1.0.0",
     "model_name": "OutputModel",
     "state": {
      "_dom_classes": [],
      "_model_module": "@jupyter-widgets/output",
      "_model_module_version": "1.0.0",
      "_model_name": "OutputModel",
      "_view_count": null,
      "_view_module": "@jupyter-widgets/output",
      "_view_module_version": "1.0.0",
      "_view_name": "OutputView",
      "layout": "IPY_MODEL_e5066dc8587b484c9af732db38cf645b",
      "msg_id": "",
      "outputs": [
       {
        "data": {
         "image/png": "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\n",
         "text/plain": "<Figure size 640x480 with 1 Axes>"
        },
        "metadata": {},
        "output_type": "display_data"
       }
      ]
     }
    },
    "e5066dc8587b484c9af732db38cf645b": {
     "model_module": "@jupyter-widgets/base",
     "model_module_version": "1.2.0",
     "model_name": "LayoutModel",
     "state": {
      "_model_module": "@jupyter-widgets/base",
      "_model_module_version": "1.2.0",
      "_model_name": "LayoutModel",
      "_view_count": null,
      "_view_module": "@jupyter-widgets/base",
      "_view_module_version": "1.2.0",
      "_view_name": "LayoutView",
      "align_content": null,
      "align_items": null,
      "align_self": null,
      "border": null,
      "bottom": null,
      "display": null,
      "flex": null,
      "flex_flow": null,
      "grid_area": null,
      "grid_auto_columns": null,
      "grid_auto_flow": null,
      "grid_auto_rows": null,
      "grid_column": null,
      "grid_gap": null,
      "grid_row": null,
      "grid_template_areas": null,
      "grid_template_columns": null,
      "grid_template_rows": null,
      "height": null,
      "justify_content": null,
      "justify_items": null,
      "left": null,
      "margin": null,
      "max_height": null,
      "max_width": null,
      "min_height": null,
      "min_width": null,
      "object_fit": null,
      "object_position": null,
      "order": null,
      "overflow": null,
      "overflow_x": null,
      "overflow_y": null,
      "padding": null,
      "right": null,
      "top": null,
      "visibility": null,
      "width": null
     }
    },
    "f66ee64955cc4b438b2bca2809a0a42e": {
     "model_module": "@jupyter-widgets/controls",
     "model_module_version": "1.5.0",
     "model_name": "VBoxModel",
     "state": {
      "_dom_classes": [
       "widget-interact"
      ],
      "_model_module": "@jupyter-widgets/controls",
      "_model_module_version": "1.5.0",
      "_model_name": "VBoxModel",
      "_view_count": null,
      "_view_module": "@jupyter-widgets/controls",
      "_view_module_version": "1.5.0",
      "_view_name": "VBoxView",
      "box_style": "",
      "children": [
       "IPY_MODEL_1504686b6b884a08a72a0f3693d1ebba",
       "IPY_MODEL_0b8a9fabc27b475585baac7c115c47e2"
      ],
      "layout": "IPY_MODEL_b630b4e4b6c149b2ab9c9bf1f956d560"
     }
    },
    "f6d942eef9534054be09f107ff6b3c67": {
     "model_module": "@jupyter-widgets/controls",
     "model_module_version": "1.5.0",
     "model_name": "SliderStyleModel",
     "state": {
      "_model_module": "@jupyter-widgets/controls",
      "_model_module_version": "1.5.0",
      "_model_name": "SliderStyleModel",
      "_view_count": null,
      "_view_module": "@jupyter-widgets/base",
      "_view_module_version": "1.2.0",
      "_view_name": "StyleView",
      "description_width": "",
      "handle_color": null
     }
    }
   }
  }
 },
 "nbformat": 4,
 "nbformat_minor": 0
}
