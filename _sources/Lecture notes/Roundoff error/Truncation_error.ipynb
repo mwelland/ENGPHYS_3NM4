{
 "cells": [
  {
   "cell_type": "markdown",
   "metadata": {
    "id": "wW4KU3zHwz10"
   },
   "source": [
    "# Truncation error"
   ]
  },
  {
   "cell_type": "markdown",
   "metadata": {
    "id": "MlhxbG0Hw4XC"
   },
   "source": [
    "Truncation error occurs when we *approximate* a mathematical function.\n"
   ]
  },
  {
   "cell_type": "markdown",
   "metadata": {
    "id": "XM91306CL5Ne"
   },
   "source": [
    "## Taylor series"
   ]
  },
  {
   "cell_type": "markdown",
   "metadata": {
    "id": "8zpo33tlL8U2"
   },
   "source": [
    "Recall the *EVER SO USEFUL* Taylor series:\n",
    "\n",
    "$f(x+\\Delta x) = f(x) + f'(x) \\Delta x + f''(x) \\frac{\\Delta x ^2}{2} + f'''(x) \\frac{\\Delta x ^3}{6} + ...$\n",
    "\n",
    "$= \\sum_{n=0}^{\\infty} \\frac{f^{(n)}(x)}{n!} \\Delta x ^n$\n",
    "\n",
    "but this is not useful unless we have an infinite amount of time and resources."
   ]
  },
  {
   "cell_type": "markdown",
   "metadata": {
    "id": "B123-THhPHbb"
   },
   "source": [
    "If $\\Delta x$ is *small*, $\\Delta x ^2$ is smaller, and $\\Delta x ^3$ smaller still. In fact, as long as $f(x)$ is *well behaved* (loosely defined as continuous, smooth, differentiable, not infinite, etc) the derivatives don't explode exponentially and the rightmost terms get very small.\n",
    "\n",
    "So let's *truncate* the series and only keep the first $k$ terms:\n",
    "\n",
    "$f(x+\\Delta x) = f(x) + f'(x) \\Delta x + f''(x) \\frac{\\Delta x ^2}{2} + E_k $\n",
    "\n",
    "where\n",
    "\n",
    "$E_k = \\sum_{n=k}^{\\infty} \\frac{f^{(n)}(x)}{n!} \\Delta x ^n$\n",
    "\n",
    "is the **truncation error**."
   ]
  },
  {
   "cell_type": "markdown",
   "metadata": {
    "id": "f0bRhvoVRL5R"
   },
   "source": [
    "This quantity is akin to a True Error in that if we knew what $E_k$ was exactly, we would have the true function $f$!\n",
    "\n",
    "It is more useful to define the *order* of the error. Noting that the leading term is $\\propto \\Delta x ^k$, we would say:\n",
    "\n",
    "$f(x_0+\\Delta x) \\approx f(x_0) + f'(x_0) \\Delta x + f''(x_0) \\frac{\\Delta x ^2}{2} + 𝒪(\\Delta x ^3)$\n",
    "\n",
    "or that this is a *third* order approximation.\n",
    "\n",
    "This is a useful statement, since it indicates the payoff for tuning the numerical parameters. In this case, halving the step size halves the error.  "
   ]
  },
  {
   "cell_type": "markdown",
   "metadata": {
    "id": "QcHnOPUiT6Bw"
   },
   "source": [
    "#### Example: Find the order of approximate derivative we calculated previously (known as the *forward* difference)."
   ]
  },
  {
   "cell_type": "markdown",
   "metadata": {
    "id": "kfpBqJI5UGL8"
   },
   "source": [
    "$f'(x) \\approx \\frac{f(x+\\Delta x) - f(x)}{\\Delta x}$\n",
    "\n",
    "We can substitute the Taylor series for $f(x+\\Delta x)$\n",
    "\n",
    "$f'(x) \\approx \\frac{f(x) + f'(x_0) \\Delta x + f''(x_0) \\frac{\\Delta x ^2}{2} ... - f(x)}{\\Delta x}$\n",
    "\n",
    "$\\approx \\frac{f'(x_0) \\Delta x + f''(x_0) \\frac{\\Delta x ^2}{2} ...}{\\Delta x}$\n",
    "\n",
    "$\\approx f'(x_0) + f''(x_0) \\frac{\\Delta x}{2} ...$\n",
    "\n",
    "$\\approx f'(x_0) + f''(x_0) \\frac{\\Delta x}{2} ...$\n",
    "\n",
    "$\\approx f'(x_0) + 𝒪(\\Delta x)$\n",
    "\n",
    "Therefore this approximation, call the *forward difference* is a first order algorithm."
   ]
  },
  {
   "cell_type": "markdown",
   "metadata": {
    "id": "BGih8nflWfp-"
   },
   "source": [
    "### Example 2: Find the order of approximatino of the central difference formula,\n",
    "$f'(x) \\approx \\frac{f(x+\\Delta x) - f(x-\\Delta x)}{2 \\Delta x}$"
   ]
  },
  {
   "cell_type": "markdown",
   "metadata": {
    "id": "d_BxUma_WMFr"
   },
   "source": [
    "Substituting the (3rd order) Taylor series for $f(x+\\Delta x)$ and $f(x+[-\\Delta x])$\n",
    "\n",
    "$f'(x) \\approx \\frac{f(x) + f'(x) \\Delta x + f''(x) \\frac{\\Delta x ^2}{2} + f'''(x_0) \\frac{\\Delta x ^3}{6} ... - [f(x) + f'(x) [-\\Delta x] + f''(x) \\frac{-\\Delta x ^2}{2} + f'''(x_0) \\frac{-\\Delta x ^3}{6}...]}{2 \\Delta x}$\n",
    "\n",
    "$\\approx \\frac{f(x) + f'(x) \\Delta x + f''(x) \\frac{\\Delta x ^2}{2} + f'''(x_0) \\frac{\\Delta x ^3}{6} ... - f(x) + f'(x) \\Delta x - f''(x) \\frac{-\\Delta x ^2}{2} + f'''(x_0) \\frac{-\\Delta x ^3}{6}...}{2 \\Delta x}$\n",
    "\n",
    "$\\approx \\frac{2 f'(x) \\Delta x + 2 f'''(x_0) \\frac{\\Delta x ^3}{6} ...}{2 \\Delta x}$\n",
    "\n",
    "$\\approx f'(x) + f'''(x_0) \\frac{\\Delta x ^2}{6} ...$\n",
    "\n",
    "$\\approx f'(x) + 𝒪(\\Delta x ^2)$\n",
    "\n",
    "\n",
    "Therefore, the central difference approximation is a second order algorithm (for the same number of function calls!). By halving the step size, the error is quartered!"
   ]
  },
  {
   "cell_type": "markdown",
   "metadata": {
    "id": "P1_GJuO-tpUG"
   },
   "source": [
    "## Common mathematical functions"
   ]
  },
  {
   "cell_type": "markdown",
   "metadata": {
    "id": "eV094Wz2wmne"
   },
   "source": [
    "Computers are very good at addition / subtraction, multiplication / division, and exponentiation. How should we calculate other functions?\n",
    "\n",
    "Let's examine some Taylor expansions:\n",
    "\n",
    "| Function | Taylor Expansion                 |\n",
    "|:---------------|:------------------------------------------------------------------|\n",
    "| $\\sin(x) $ | $ x - \\frac{x^3}{3!} + \\frac{x^5}{5!} - \\frac{x^7}{7!} + \\cdots $ |\n",
    "| $ \\cos(x) $ | $ 1 - \\frac{x^2}{2!} + \\frac{x^4}{4!} - \\frac{x^6}{6!} + \\cdots $ |\n",
    "| $ \\exp(x) $ | $ 1 + x + \\frac{x^2}{2!} + \\frac{x^3}{3!} + \\frac{x^4}{4!} + \\cdots $ |\n",
    "| $ \\ln(1+x) $ | $ x - \\frac{x^2}{2} + \\frac{x^3}{3} - \\frac{x^4}{4} + \\cdots $ |\n",
    "\n",
    "On the surface these look good, and in *infinite* precision they are globally convergent.\n",
    "\n",
    "But we are not in *infinite* precision."
   ]
  },
  {
   "cell_type": "markdown",
   "metadata": {
    "id": "L-0Boej0mg4e"
   },
   "source": [
    "#### Example: Examine the terms of $sin(x)$ for small x"
   ]
  },
  {
   "cell_type": "code",
   "execution_count": null,
   "metadata": {
    "id": "XKxYc2m5o1pC"
   },
   "outputs": [],
   "source": [
    "from numpy import pi, e, sqrt, binary_repr\n",
    "import numpy as np\n",
    "import math\n",
    "\n",
    "def taylor_series_sin(x, n_terms):\n",
    "    \"\"\"\n",
    "    Calculate the Taylor series expansion of sin(x) up to n_terms.\n",
    "\n",
    "    Parameters:\n",
    "    x (float): The point at which to evaluate the Taylor series.\n",
    "    n_terms (int): The number of terms to include in the expansion.\n",
    "\n",
    "    Returns:\n",
    "    list: A list of terms in the Taylor series expansion.\n",
    "    \"\"\"\n",
    "    terms = []\n",
    "    for n in range(n_terms):\n",
    "        term = ((-1)**n * x**(2*n + 1)) / math.factorial(2*n + 1)\n",
    "        terms.append(term)\n",
    "    print(\"The terms are as follows:\")\n",
    "    for i, term in enumerate(terms):\n",
    "        print(f\"Term {i+1}: {term:.10f}\")\n",
    "    print(f\"Approximate sin({x}): {sum(terms):.10f}, and it should be {math.sin(x):.10f}\")"
   ]
  },
  {
   "cell_type": "markdown",
   "metadata": {
    "id": "ymjLGoNrmzxZ"
   },
   "source": [
    "For a small x:"
   ]
  },
  {
   "cell_type": "code",
   "execution_count": null,
   "metadata": {
    "id": "j-TNnds0k8qe"
   },
   "outputs": [],
   "source": [
    "taylor_series_sin(1, 10)"
   ]
  },
  {
   "cell_type": "markdown",
   "metadata": {
    "id": "nak6AIcim9Te"
   },
   "source": [
    "NB: The terms are flipping signs (potential for roundoff error), but more importantly they are decresing.\n",
    "\n",
    "-> No problem"
   ]
  },
  {
   "cell_type": "markdown",
   "metadata": {
    "id": "jS8yAZ5ZnIt6"
   },
   "source": [
    "#### Example: Examine the terms of  sin(x)  for large x"
   ]
  },
  {
   "cell_type": "code",
   "execution_count": null,
   "metadata": {
    "id": "K1uyHPrTmyq7"
   },
   "outputs": [],
   "source": [
    "taylor_series_sin(10, 10)"
   ]
  },
  {
   "cell_type": "markdown",
   "metadata": {
    "id": "-6Z8scosnUqA"
   },
   "source": [
    "Getting a bit funny..."
   ]
  },
  {
   "cell_type": "code",
   "execution_count": null,
   "metadata": {
    "id": "DkStK5CRnSOS"
   },
   "outputs": [],
   "source": [
    "taylor_series_sin(100, 10)"
   ]
  },
  {
   "cell_type": "markdown",
   "metadata": {
    "id": "IoFKcbLynfVn"
   },
   "source": [
    "Completely wrong."
   ]
  },
  {
   "cell_type": "markdown",
   "metadata": {
    "id": "oz4jXj5YpqgJ"
   },
   "source": [
    "## Why you should use a package"
   ]
  },
  {
   "cell_type": "markdown",
   "metadata": {
    "id": "p6e5Gk9ApyM2"
   },
   "source": [
    "In this case, the remedy is fairly simple, but if you are not careful, these function can behave very strangely. In practice, the means of calculation are very sophisticated for performance and stability, including other expansion techniques and sometimes even look-up tables.\n",
    "\n",
    "This is why we use packages! :-)"
   ]
  },
  {
   "cell_type": "markdown",
   "metadata": {
    "id": "omaRkDnMqySz"
   },
   "source": [
    "The Taylor expansion is still useful to consider limiting behaviour.\n",
    "\n",
    "For small $x$,\n",
    "\n",
    "$exp(x) \\approx 1+x$\n",
    "which is subject to roundoff error. Therefore packages like numpy provide special functions like $expm1 = exp(x)-1$"
   ]
  },
  {
   "cell_type": "code",
   "execution_count": null,
   "metadata": {
    "id": "sK8PJHgksbl2"
   },
   "outputs": [],
   "source": [
    "# Poorer approximation\n",
    "print(np.exp(1e-10) - 1)\n",
    "\n",
    "#Better approximation\n",
    "print(np.expm1(1e-10))"
   ]
  }
 ],
 "metadata": {
  "colab": {
   "authorship_tag": "ABX9TyO0r8d/UNXYqnq6tn/+efDG",
   "collapsed_sections": [
    "XM91306CL5Ne",
    "QcHnOPUiT6Bw",
    "BGih8nflWfp-",
    "P1_GJuO-tpUG"
   ],
   "include_colab_link": true,
   "provenance": []
  },
  "kernelspec": {
   "display_name": "Python 3",
   "name": "python3"
  },
  "language_info": {
   "name": "python"
  }
 },
 "nbformat": 4,
 "nbformat_minor": 0
}
