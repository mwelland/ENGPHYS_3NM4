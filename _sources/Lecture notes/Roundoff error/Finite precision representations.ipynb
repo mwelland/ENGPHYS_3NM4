{
 "cells": [
  {
   "cell_type": "markdown",
   "metadata": {
    "id": "wW4KU3zHwz10"
   },
   "source": [
    "# Finite precision representations"
   ]
  },
  {
   "cell_type": "markdown",
   "metadata": {},
   "source": []
  },
  {
   "cell_type": "markdown",
   "metadata": {
    "id": "bYHF46lJ478J"
   },
   "source": [
    "## Binary representation"
   ]
  },
  {
   "cell_type": "markdown",
   "metadata": {
    "id": "wBgeKOkhx7kh"
   },
   "source": [
    "Humans use a base-10 numbering system called 'decimal', probably because that's how many fingers we (typically) have.  \n",
    "\n",
    "\n",
    "\n",
    "> Except for Mayans who used base-20: 'vegesimal' system! I guess they could only do math sitting down!\n",
    "\n",
    "The number 1305 is expressed in decimal with each column indicating a power of the base ($10$):\n",
    "$1305_{10} = 5 \\times 10^0 + 0 \\times 10^1 + 3 \\times 10^2 + 1 \\times 10^3$\n",
    "\n",
    "NB: We wrote the order of digits backwards so we could go in increasing powers."
   ]
  },
  {
   "cell_type": "markdown",
   "metadata": {
    "id": "au9vfgnu0lZq"
   },
   "source": [
    "Computers use base 2 (binary) since a bit can only be 0 or 1. The same number is written as:"
   ]
  },
  {
   "cell_type": "code",
   "execution_count": null,
   "metadata": {
    "id": "6n7Oeb2Fea6A"
   },
   "outputs": [],
   "source": [
    "# prompt: convert 1305 into binary\n",
    "\n",
    "binary_repr(1305)\n"
   ]
  },
  {
   "cell_type": "markdown",
   "metadata": {
    "id": "Kqjf-LBG3L4G"
   },
   "source": [
    "which we can check:\n",
    "\n",
    "$101000011001_2 = 1 \\times 2^0 + 0 \\times 2^1 + ... + 1 \\times 2^3 + 1 \\times 2^4+... + 1 \\times 2^8 + 0 \\times 2^{9} + 1 \\times 2^{10}$\n",
    "$=1305_{10}$"
   ]
  },
  {
   "cell_type": "markdown",
   "metadata": {
    "id": "V0I9zN6x1CdI"
   },
   "source": [
    "We can also use a decimal point with binary.\n",
    "\n",
    "$54.75_{10} = 5\\times 10^{-2} + 7\\times 10^{-1} + 4 \\times 10^{0} + 5 \\times 10^{1}$"
   ]
  },
  {
   "cell_type": "code",
   "execution_count": null,
   "metadata": {
    "id": "NVL-x7081nFc"
   },
   "outputs": [],
   "source": [
    "# prompt: express 54.75 in binary\n",
    "\n",
    "from numpy import binary_repr\n",
    "\n",
    "def decimal_to_binary(number):\n",
    "  # Convert the integer part to binary\n",
    "  integer_part = binary_repr(int(number))\n",
    "\n",
    "  # Convert the fractional part to binary\n",
    "  fractional_part = number - int(number)\n",
    "  binary_fractional_part = \"\"\n",
    "  for i in range(20):\n",
    "      fractional_part *= 2\n",
    "      if fractional_part >= 1:\n",
    "          binary_fractional_part += \"1\"\n",
    "          fractional_part -= 1\n",
    "      else:\n",
    "          binary_fractional_part += \"0\"\n",
    "      if fractional_part == 0:\n",
    "          break\n",
    "\n",
    "# Combine the integer and fractional parts\n",
    "  binary_representation = integer_part + \".\" + binary_fractional_part\n",
    "\n",
    "  print(binary_representation)\n",
    "\n",
    "decimal_to_binary(54.75)"
   ]
  },
  {
   "cell_type": "markdown",
   "metadata": {
    "id": "ymdmAKaX1yN0"
   },
   "source": [
    "Check:\n",
    "$1 \\times 2^{-2} + 1 \\times 2^{-1} + 0 \\times 2^{0} + 1 \\times 2^{1} + 1 \\times 2^{2} + 0 \\times 2^{3} + 1 \\times 2^{4} + 1 \\times 2^{5} = 54.75_{10}$"
   ]
  },
  {
   "cell_type": "markdown",
   "metadata": {
    "id": "W0WTSynd2ejq"
   },
   "source": [
    "#### Example Convert 0.1 to binary"
   ]
  },
  {
   "cell_type": "code",
   "execution_count": null,
   "metadata": {
    "id": "hpxKHHFS2jby"
   },
   "outputs": [],
   "source": [
    "decimal_to_binary(0.1)"
   ]
  },
  {
   "cell_type": "markdown",
   "metadata": {
    "id": "ASUuzIZQ3CxH"
   },
   "source": [
    "The binary representation of 0.1 is a repeating number!"
   ]
  },
  {
   "cell_type": "markdown",
   "metadata": {
    "id": "b7bmD7aH4agv"
   },
   "source": [
    "## Precision"
   ]
  },
  {
   "cell_type": "markdown",
   "metadata": {
    "id": "ymtlNqrX4gm_"
   },
   "source": [
    "Computers use a standard data unit, called a *word*. The number of bits in each word is called the *precision* and is, by IEEE convention, in increments of 32:\n",
    "\n",
    "Precision |  # bits\n",
    "------|-------\n",
    "single | 32\n",
    "double | 64\n",
    "quad   | 128\n",
    "\n",
    "For comparison, the previous number 10100011001 takes 11 bits.\n",
    "\n",
    "The most common precision in modern computing, and the standard in python3, is double precision. Quad precision is occasionally accessible for precise calculation.\n"
   ]
  },
  {
   "cell_type": "markdown",
   "metadata": {
    "id": "hFcxMhk14ljU"
   },
   "source": [
    "## Integers"
   ]
  },
  {
   "cell_type": "markdown",
   "metadata": {
    "id": "nLHlkRV04pnp"
   },
   "source": [
    "Integers are a fundamental data type if you don't need fractions, and **do not suffer from roundoff error**! However, since they have a finite number of digits (bits) their size is limited.\n",
    "\n",
    "The range of values an integer can store is $ 2^{bits}$.\n",
    "Integers are signed, so we must include if the number is +'ve or -'ve. Furthermore, there is a redundancy where -0 = +0, leading to the range of -'ves being larger than that of +'ve.\n",
    "\n",
    "The min and max numbers an integer can represent is therefore:\n",
    "\n",
    "$min = -2^{bits-1}$\n",
    "\n",
    "$max = 2^{bits-1} -1$\n",
    "\n",
    "> You may be tempted to use a bit to represent the sign. This is not modern practice for integers, which instead use a method called *Two's complement*.  "
   ]
  },
  {
   "cell_type": "markdown",
   "metadata": {
    "id": "GLsN3Iyp58o0"
   },
   "source": [
    "#### Example: What is the largest integer a double precision variable can store?"
   ]
  },
  {
   "cell_type": "code",
   "execution_count": null,
   "metadata": {
    "id": "C4Deesot58N7"
   },
   "outputs": [],
   "source": [
    "print('min ', -2**63, '\\nmax  ', 2**63-1)\n",
    "\n",
    "print('\\nCheck with the built-in numpy examiner')\n",
    "import numpy as np\n",
    "\n",
    "print(np.iinfo(np.int64))"
   ]
  },
  {
   "cell_type": "markdown",
   "metadata": {
    "id": "TKKSEV6leDcI"
   },
   "source": [
    "#### Example 2: Let's break it!"
   ]
  },
  {
   "cell_type": "code",
   "execution_count": null,
   "metadata": {
    "id": "x_d4sK9d_Mnw"
   },
   "outputs": [],
   "source": [
    "# Works\n",
    "print(np.int64(2**62))\n",
    "\n",
    "#Overflow error\n",
    "print(np.int64(2**63))"
   ]
  },
  {
   "cell_type": "code",
   "execution_count": null,
   "metadata": {
    "id": "1PwmE-OgfLhm"
   },
   "outputs": [],
   "source": [
    "#Works\n",
    "print(np.int64(1000000000000000000))\n",
    "\n",
    "#Overflow error\n",
    "print(np.int64(10000000000000000000))"
   ]
  },
  {
   "cell_type": "markdown",
   "metadata": {
    "id": "eAhJV_Fv-Jpp"
   },
   "source": [
    "#Floating point numbers"
   ]
  },
  {
   "cell_type": "markdown",
   "metadata": {
    "id": "EdsIoNZOe1hu"
   },
   "source": [
    "Writing a number like $10 000 000 000 000 000 000$ isn't really useful. It is much better to isolate the magnitude in units, or as an exponent:\n",
    "\n",
    "$10 000 000 000 000 000 000 = 10^{19}$"
   ]
  },
  {
   "cell_type": "markdown",
   "metadata": {
    "id": "RvK2KPYReRTi"
   },
   "source": [
    "## Floating point **Decimal** numbers (aka: Engineering notation)"
   ]
  },
  {
   "cell_type": "markdown",
   "metadata": {
    "id": "l3ynycWjEdeP"
   },
   "source": [
    "Remove leading zeros and *placeholder* trailing zeros using a *floating point* to separate the fractional part (mantissa / significand) from the order of magnitude (exponent).\n",
    "\n",
    "Engineering notation = $mantisa \\times 10^{exponent}$\n",
    "\n",
    "\n",
    "Decimal  |  Engineering          | Mantissa       | Exponent\n",
    "---------|------------------------|-----------------|--------\n",
    "$265.73$ | $2.6573 \\times 10^2$  | 2.6573 | 2\n",
    "$.0001$   | $1 \\times 10^{-4}$       | 1              | -4\n",
    "$-0.0034123$ | $-3.4123 \\times 10^{-3}$ | -3.4123 | -3\n",
    "$1500^*$   | $1.5 \\times 10^3$       | 1.5              | 3\n",
    "\n",
    "\\*only if the trailing zeros are not actually measured.\n",
    "\n",
    "Note:\n",
    "1. The mantissa is a fraction, but if we *normalize* the fraction to have the decimal after the first digit, we can represent it as an integer.\n",
    "2. The exponent is the power of the number system *base*, in this case $10$."
   ]
  },
  {
   "cell_type": "code",
   "execution_count": null,
   "metadata": {
    "id": "Dy0QN85WhhIk"
   },
   "outputs": [],
   "source": [
    "# prompt: Convert a number to engineering notation\n",
    "\n",
    "def to_engineering_notation(number):\n",
    "  if number == 0:\n",
    "    return \"0\"\n",
    "\n",
    "  exponent = 0\n",
    "  while abs(number) < 1:\n",
    "    number *= 10\n",
    "    exponent -= 1\n",
    "  while abs(number) >= 10:\n",
    "    number /= 10\n",
    "    exponent += 1\n",
    "\n",
    "  print(f\"{number}E{exponent}\")\n",
    "\n",
    "to_engineering_notation(265.73)\n",
    "to_engineering_notation(0.0001)\n",
    "to_engineering_notation(-.0034123)\n",
    "to_engineering_notation(1500)\n",
    "to_engineering_notation(0)\n",
    "\n",
    "# You can also use Log10 to calculate this"
   ]
  },
  {
   "cell_type": "markdown",
   "metadata": {
    "id": "XvZdxp-KgkUW"
   },
   "source": [
    "## Floating point Binary numbers"
   ]
  },
  {
   "cell_type": "markdown",
   "metadata": {
    "id": "GT0yFPtahBlx"
   },
   "source": [
    "The same technique can be applied to binary by using base 2:\n",
    "\n",
    "$mantisa \\times 2^{exponent}$\n",
    "\n"
   ]
  },
  {
   "cell_type": "markdown",
   "metadata": {
    "id": "D7d42wdnxJgj"
   },
   "source": [
    "#### Example convert 54.75 into floating point binary"
   ]
  },
  {
   "cell_type": "markdown",
   "metadata": {
    "id": "Hi5a58_txS4V"
   },
   "source": [
    "$54.75_{10} = 110110.11_2 $\n",
    "\n",
    "$= 1.1011011_2 \\times 2^5$\n",
    "\n",
    "$= 1.1011011_2 \\times 2^{101}$"
   ]
  },
  {
   "cell_type": "markdown",
   "metadata": {
    "id": "9mXXYNtDl4Pg"
   },
   "source": [
    "## Precision in floating point numbers"
   ]
  },
  {
   "cell_type": "markdown",
   "metadata": {
    "id": "6xnJqD47l8qB"
   },
   "source": [
    "If the mantissa and exponent have infinite range, we can represent all numbers using floating point. However we are once again limited by the number of bits (precision). Now, the bits are divided into sign, mantissa, and exponent by convent: IEEE Standard for Floating-Point Arithmetic (IEEE 754):\n",
    "\n",
    "|Precision |# bits | Sign |Exponent |Mantissa |\n",
    "|:------|:-----| :------------|:--------------------|:---------------------|\n",
    "|Single| 1/8/23 | S            | EEEEEEEE          | FFFFFFFFFFFFFFFFFFFFFFF |\n",
    "|Double| 1/11/52 | S            | EEEEEEEEEEE        | FFFFFFFFFFFFFFFFFFFFFFFFFFFFFFFFFFFFFFFFFFFFFFFFFFFF |\n",
    "|Quad | 1/15/112 | S            | EEEEEEEEEEEEEEE    | FFFFFFFFFFFFFFFFFFFFFFFFFFFFFFFFFFFFFFFFFFFFFFFFFFFFFFFFFFFFFFFFFFFFFFFFFFFFFFFFFFFFFFFFFFFFFFFFFFFFFFFFFFFFFFFFFFFFF |\n",
    "\n"
   ]
  },
  {
   "cell_type": "markdown",
   "metadata": {
    "id": "P9GZex1vcyrb"
   },
   "source": [
    "Note that the 'sign' bit is now here and is the sign of the number. The sign of the exponent is one of the bits in the 'exponent' block."
   ]
  },
  {
   "cell_type": "markdown",
   "metadata": {
    "id": "WBEB1ozb3YI2"
   },
   "source": [
    "The actual storage is a bit complicated, but the key for us is the finite precision of the mantissa."
   ]
  },
  {
   "cell_type": "markdown",
   "metadata": {
    "id": "683nJz_U3kHS"
   },
   "source": [
    "#### Example How is 0.1 actually stored?"
   ]
  },
  {
   "cell_type": "code",
   "execution_count": null,
   "metadata": {
    "id": "KVAQKK-N4bQ9"
   },
   "outputs": [],
   "source": [
    "print(format(0.1, '.55f'))"
   ]
  },
  {
   "cell_type": "code",
   "execution_count": null,
   "metadata": {
    "id": "KoaoV14l5of0"
   },
   "outputs": [],
   "source": [
    "error = 0.0000000000000000055511151231257827021181583404541015625\n",
    "eps_r = error / 0.1\n",
    "print(eps_r)"
   ]
  },
  {
   "cell_type": "markdown",
   "metadata": {
    "id": "UxqjI1ZR6Cwk"
   },
   "source": [
    "## Summary"
   ]
  },
  {
   "cell_type": "markdown",
   "metadata": {
    "id": "BBxMgntD6J4O"
   },
   "source": [
    "In practice, we have to be careful when we mixing the order of terms. i.e. adding terms of different magnitude, or subtracting terms of slightly-varying magnitude.\n",
    "\n",
    "We cannot count on the associative property:"
   ]
  },
  {
   "cell_type": "code",
   "execution_count": null,
   "metadata": {
    "id": "0pQhs4jK6ZUT"
   },
   "outputs": [],
   "source": [
    "print(-1+(1+1e-20))\n",
    "print((-1+1)+1e-20)"
   ]
  },
  {
   "cell_type": "markdown",
   "metadata": {
    "id": "LUBUyP5n7YPq"
   },
   "source": [
    "Beware of subtractive cancellation!"
   ]
  },
  {
   "cell_type": "code",
   "execution_count": null,
   "metadata": {
    "id": "X082gUU27dYp"
   },
   "outputs": [],
   "source": [
    "# Define two nearly equal numbers\n",
    "a = np.float32(1.23456789)\n",
    "b = np.float32(1.23456780)\n",
    "\n",
    "# Perform subtraction\n",
    "result = a - b\n",
    "\n",
    "# Print the results with higher precision\n",
    "print(\"a =\", format(a, '.20f'))\n",
    "print(\"b =\", format(b, '.20f'))\n",
    "print(\"a - b =\", result)\n"
   ]
  }
 ],
 "metadata": {
  "colab": {
   "authorship_tag": "ABX9TyPXFp+TMMlThylH0c6C9J0/",
   "include_colab_link": true,
   "provenance": []
  },
  "kernelspec": {
   "display_name": "Python 3",
   "name": "python3"
  },
  "language_info": {
   "name": "python"
  }
 },
 "nbformat": 4,
 "nbformat_minor": 0
}
