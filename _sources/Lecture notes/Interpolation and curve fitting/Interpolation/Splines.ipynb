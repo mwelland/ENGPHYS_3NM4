{
 "cells": [
  {
   "cell_type": "markdown",
   "metadata": {},
   "source": [
    "# Cubic splines\n",
    "\n"
   ]
  },
  {
   "cell_type": "markdown",
   "metadata": {},
   "source": [
    "Splines were formulated to relieve these oscillations by piecing together a series of lower-order polynomials and requiring *smoothness*. Consider a polynomial over the interval between $x_i$ and $x_{i+1}$, and assert:\n",
    "* $y(x_i) = y_i$\n",
    "* $y(x_{i+1}) = y_{i+1}$\n",
    "* $y'(x_i)$ be continuous\n",
    "* $y''(x_i)$ be continuous\n",
    "\n",
    "with these 4 constraints, it is clear we are looking for cubic functions, and therefore these splines are *piecewise cubic curves*."
   ]
  },
  {
   "cell_type": "markdown",
   "metadata": {},
   "source": [
    "We will be describing the splines in terms of the *knots*, $k_i$ which parameterize the curves. For these splines, these knots are the second derivatives at a point $x_i$.\n",
    "\n",
    "To find the coefficients of the cubic splines, consider that the second derivative is linear and represent it with a 2-point Lagrange interpolation:\n",
    "\\begin{align}\n",
    "y''_{i, i+1} &= k_i P_i(x) + k_{i+1} P_{i+1}(x) \\\\\n",
    "&= \\frac{k_i [x-x_{i+1}] + k_{i+1} [x-x_i]}{x_i-x_{i+1}}\n",
    "\\end{align}"
   ]
  },
  {
   "cell_type": "markdown",
   "metadata": {},
   "source": [
    "Using the constraints above we end up with:\n",
    "\n",
    "$$k_{i-1}[x_{i-1}-x_i]  + 2 k_i [x_{i-1} - x_{i+1}] + k_{i+1}[x_i-x_{i+1}] = 6\\left[ \\frac{y_{i-1}-y_i}{x_{i-1}-x_i} - \\frac{y_{i}-y_{i+1}}{x_{i}-x_{i+1}} \\right]$$"
   ]
  },
  {
   "cell_type": "markdown",
   "metadata": {},
   "source": [
    "which is a tridiagonal matrix!\n",
    "\n",
    "$$ \\begin{bmatrix}\n",
    "1 & 0 & 0 & 0 & 0 & 0 & 0 & 0 & 0 & 0 & 0 \\\\\n",
    "1 & 4 & 1 & 0 & 0 & 0 & 0 & 0 & 0 & 0 & 0 \\\\\n",
    "0 & 1 & 4 & 1 & 0 & 0 & 0 & 0 & 0 & 0 & 0 \\\\\n",
    "0 & 0 & 1 & 4 & 1 & 0 & 0 & 0 & 0 & 0 & 0 \\\\\n",
    "0 & 0 & 0 & 1 & 4 & 1 & 0 & 0 & 0 & 0 & 0 \\\\\n",
    "0 & 0 & 0 & 0 & 1 & 4 & 1 & 0 & 0 & 0 & 0 \\\\\n",
    "0 & 0 & 0 & 0 & 0 & 1 & 4 & 1 & 0 & 0 & 0 \\\\\n",
    "0 & 0 & 0 & 0 & 0 & 0 & 1 & 4 & 1 & 0 & 0 \\\\\n",
    "0 & 0 & 0 & 0 & 0 & 0 & 0 & 1 & 4 & 1 & 0 \\\\\n",
    "0 & 0 & 0 & 0 & 0 & 0 & 0 & 0 & 1 & 4 & 1 \\\\\n",
    "0 & 0 & 0 & 0 & 0 & 0 & 0 & 0 & 0 & 0 & 1 \\\\\n",
    "\\end{bmatrix}\n",
    "\\begin{bmatrix}\n",
    "k_1 \\\\\n",
    "k_2\\\\\n",
    "k_3\\\\\n",
    "k_4\\\\\n",
    "k_5\\\\\n",
    "k_6\\\\\n",
    "k_7\\\\\n",
    "k_8\\\\\n",
    "k_9\\\\\n",
    "k_{10}\\\\\n",
    "k_{11}\n",
    "\\end{bmatrix}\n",
    "=\n",
    "\\begin{bmatrix}\n",
    "0\\\\\n",
    "-0.424 \\\\\n",
    "-1.052 \\\\\n",
    "-0.891 \\\\\n",
    "1.138 \\\\\n",
    "2.654 \\\\\n",
    "1.138 \\\\\n",
    "-0.891 \\\\\n",
    "-1.052 \\\\\n",
    "-0.424 \\\\\n",
    "0\n",
    "\\end{bmatrix}\n",
    "$$\n"
   ]
  },
  {
   "cell_type": "code",
   "execution_count": null,
   "metadata": {},
   "outputs": [],
   "source": [
    "# prompt: Do a cubic spline of x_d and y_d and plot against the original function from -5.5 to 5.5\n",
    "\n",
    "import matplotlib.pyplot as plt\n",
    "import numpy as np\n",
    "from scipy.interpolate import CubicSpline\n",
    "\n",
    "# Create a cubic spline interpolation\n",
    "cs = CubicSpline(x_d, y_d)\n",
    "\n",
    "# Create x values for plotting the interpolated spline\n",
    "x_interp = np.linspace(-6, 6, 200)\n",
    "y_interp = cs(x_interp)\n",
    "\n",
    "# Plot the original curve, sampled points, and interpolated spline\n",
    "plt.plot(x_toy, y_toy, label='exp(-(x/2)^2)')\n",
    "plt.scatter(x_d, y_d, color='red', label='Sampled points')\n",
    "plt.plot(x_interp, y_interp, label='Cubic Spline Interpolation')\n",
    "plt.xlabel('x')\n",
    "plt.ylabel('y')\n",
    "plt.legend()\n",
    "plt.title('Function, Sampled Points, and Cubic Spline Interpolation')\n",
    "plt.grid(True)\n",
    "plt.show()\n"
   ]
  },
  {
   "cell_type": "markdown",
   "metadata": {},
   "source": [
    "## Analysis of cubic splines\n"
   ]
  },
  {
   "cell_type": "markdown",
   "metadata": {},
   "source": [
    "We note:\n",
    "* Cubic splines are *stiffer* in that they don't have high-frequency oscillations (thus avoiding Runge's phenomenon).\n",
    "* The concept of *smoothness* is easy in 1D, but what does it mean for 2D+? How would you ensure continuity along an edge?\n",
    "* Specifying *smoothness* as part of the goals going in suggest this is more of a global scheme. This requires simultaneous linears systems to be solved."
   ]
  }
 ],
 "metadata": {
  "language_info": {
   "name": "python"
  }
 },
 "nbformat": 4,
 "nbformat_minor": 2
}
