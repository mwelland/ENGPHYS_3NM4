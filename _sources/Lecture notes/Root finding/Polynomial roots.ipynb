{
 "cells": [
  {
   "cell_type": "markdown",
   "metadata": {},
   "source": [
    "## Polynomial roots"
   ]
  },
  {
   "cell_type": "markdown",
   "metadata": {},
   "source": [
    "Polynomial roots are *nice* because we can solve for them directly. Polynomials of degree $n$ have exactly $n$ roots, including multiplicity (coincident roots). The roots may be complex, even in polynomials with real coefficients. If the root is complex ($a+bi$), then its *complex conjugate* ($a-bi$) is also a root."
   ]
  },
  {
   "cell_type": "markdown",
   "metadata": {},
   "source": [
    "The roots of polynomials of order $\\le 4$ can be solved analytically.\n",
    "\n",
    "E.g.:\n",
    "\n",
    "$a x^2 +b x + c = 0$\n",
    "\n",
    "has roots:\n",
    "\n",
    "$x = \\frac{-b \\pm \\sqrt{b^2-4ac}} {2a}$\n",
    "\n",
    "per the quadratic formula.  \n",
    "\n",
    "Certaint polynomials of order $\\gt 4$ may have analytically solvable roots but there is no such general formula per the Abel-Ruffini theorem."
   ]
  },
  {
   "cell_type": "markdown",
   "metadata": {},
   "source": [
    "All the roots of polynomials may be found numerically by solving for the eigenvalues of the polynomial *companion matrix*. This is the basis for modern numerical methods which we will cover when we get to matrix eigenvalue calculations."
   ]
  },
  {
   "cell_type": "markdown",
   "metadata": {},
   "source": [
    "#### Example usage of numerical root finding tools."
   ]
  },
  {
   "cell_type": "code",
   "execution_count": null,
   "metadata": {},
   "outputs": [
    {
     "name": "stdout",
     "output_type": "stream",
     "text": [
      "Polynomial:\n",
      "   10     9     8     7     6     5     4     3     2\n",
      "1 x  + 2 x + 3 x + 4 x + 5 x + 6 x + 7 x + 8 x + 9 x + 10 x + 11\n",
      "\n",
      "Companion Matrix:\n",
      "[[ -2.  -3.  -4.  -5.  -6.  -7.  -8.  -9. -10. -11.]\n",
      " [  1.   0.   0.   0.   0.   0.   0.   0.   0.   0.]\n",
      " [  0.   1.   0.   0.   0.   0.   0.   0.   0.   0.]\n",
      " [  0.   0.   1.   0.   0.   0.   0.   0.   0.   0.]\n",
      " [  0.   0.   0.   1.   0.   0.   0.   0.   0.   0.]\n",
      " [  0.   0.   0.   0.   1.   0.   0.   0.   0.   0.]\n",
      " [  0.   0.   0.   0.   0.   1.   0.   0.   0.   0.]\n",
      " [  0.   0.   0.   0.   0.   0.   1.   0.   0.   0.]\n",
      " [  0.   0.   0.   0.   0.   0.   0.   1.   0.   0.]\n",
      " [  0.   0.   0.   0.   0.   0.   0.   0.   1.   0.]]\n",
      "\n",
      "Roots from eigenvalues of companion matrix:\n",
      "[-1.26+0.36j -1.26-0.36j -0.88+0.96j -0.88-0.96j -0.25+1.26j -0.25-1.26j\n",
      "  0.44+1.17j  0.44-1.17j  0.95+0.73j  0.95-0.73j]\n",
      "\n",
      "Roots from 'roots' function:\n",
      "[-1.26+0.36j -1.26-0.36j -0.88+0.96j -0.88-0.96j -0.25+1.26j -0.25-1.26j\n",
      "  0.44+1.17j  0.44-1.17j  0.95+0.73j  0.95-0.73j]\n"
     ]
    }
   ],
   "source": [
    "# prompt: Give me a 10th order polynomial with integer coefficients,, print the polynomial, its companion matrix to 2 decimal places, and then list the roots\n",
    "\n",
    "import numpy as np\n",
    "from scipy.linalg import companion\n",
    "\n",
    "# Define the coefficients of the polynomial\n",
    "coefficients = [1, 2, 3, 4, 5, 6, 7, 8, 9, 10, 11]\n",
    "\n",
    "# Print the polynomial\n",
    "print(\"Polynomial:\")\n",
    "print(np.poly1d(coefficients))\n",
    "\n",
    "# Calculate the companion matrix\n",
    "companion_matrix = companion(coefficients)\n",
    "\n",
    "# Print the companion matrix\n",
    "print(\"\\nCompanion Matrix:\")\n",
    "print(np.round(companion_matrix, 2))\n",
    "\n",
    "# Find the eigenvalues (roots) of the companion matrix\n",
    "roots = np.linalg.eigvals(companion_matrix)\n",
    "\n",
    "# Print the roots\n",
    "print(\"\\nRoots from eigenvalues of companion matrix:\")\n",
    "print(np.round(roots, 2))\n",
    "\n",
    "print(\"\\nRoots from 'roots' function:\")\n",
    "print(np.round(np.roots(coefficients),2))\n",
    "\n"
   ]
  },
  {
   "cell_type": "markdown",
   "metadata": {},
   "source": [
    "Note: in many software environments, $j$ is used as the imaginary number instead of $i$."
   ]
  }
 ],
 "metadata": {
  "language_info": {
   "name": "python"
  }
 },
 "nbformat": 4,
 "nbformat_minor": 2
}
