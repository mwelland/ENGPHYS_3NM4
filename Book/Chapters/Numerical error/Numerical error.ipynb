{
 "cells": [
  {
   "cell_type": "markdown",
   "metadata": {
    "id": "wW4KU3zHwz10"
   },
   "source": [
    "# Numerical Error"
   ]
  },
  {
   "cell_type": "markdown",
   "metadata": {},
   "source": [
    "When we store and manipulate numbers on a computer we are subject them to different types of errors. Understanding and mitigating these errors is the art of making good numerical methods. "
   ]
  },
  {
   "cell_type": "markdown",
   "metadata": {
    "id": "QhDRwyHUB0FK"
   },
   "source": [
    "### Symbolic Representation\n",
    "\n",
    "If we could use an infinite number of digits or represent numbers and functions symbolically (e.g., as $1/3$, $\\pi$, or $\\sqrt{2}$), round-off error would not be an issue. This is the approach taken by symbolic computation tools like Mathematica, Maple, and Python's `sympy` module, which delay numerical evaluation until absolutely necessary.\n",
    "\n",
    "**Question:** What are the pros and cons of using symbolic representation?"
   ]
  }
 ],
 "metadata": {
  "colab": {
   "authorship_tag": "ABX9TyPXFp+TMMlThylH0c6C9J0/",
   "include_colab_link": true,
   "provenance": []
  },
  "kernelspec": {
   "display_name": "Python 3",
   "name": "python3"
  },
  "language_info": {
   "name": "python"
  }
 },
 "nbformat": 4,
 "nbformat_minor": 0
}
