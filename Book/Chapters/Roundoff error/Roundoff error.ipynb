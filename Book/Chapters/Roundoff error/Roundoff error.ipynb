{
 "cells": [
  {
   "cell_type": "markdown",
   "metadata": {
    "id": "wW4KU3zHwz10"
   },
   "source": [
    "# Round-off Error"
   ]
  },
  {
   "cell_type": "markdown",
   "metadata": {
    "id": "MlhxbG0Hw4XC"
   },
   "source": [
    "Round-off errors are possible whenever you have to write down a number. This is especially problematic for irrational numbers, but also true for rationals!"
   ]
  },
  {
   "cell_type": "code",
   "execution_count": null,
   "metadata": {
    "id": "M1mR8YfDwuj0"
   },
   "outputs": [],
   "source": [
    "from numpy import pi, e, sqrt, binary_repr\n",
    "print(pi, e, 1/3, sqrt(2))"
   ]
  },
  {
   "cell_type": "markdown",
   "metadata": {
    "id": "kGVztDGlx-Ag"
   },
   "source": [
    "The problem is that we can only write down a finite number of digits before we get tired. So we round the last digit or chop it.\n",
    "\n",
    "This error is inherant to *finite precision numerics*, not necessarily computations. The problem is that if computations include millions of calculations, these little mistakes can add up."
   ]
  },
  {
   "cell_type": "markdown",
   "metadata": {
    "id": "_-wCuljO1yyn"
   },
   "source": [
    "\n",
    "\n",
    "> The average human is capable of around 1 mistake per second, but computers are capable of millions of mistakes a second!\n"
   ]
  },
  {
   "cell_type": "markdown",
   "metadata": {
    "id": "QhDRwyHUB0FK"
   },
   "source": [
    "NB: If we could use infinite digits, or represent numbers symbolically (e.g. 1/3, $\\pi$, $\\sqrt 2$), this wouldn't be an issue. This is why tools like Mathematica, Maple, or the sympy module, don't evaluate anything until they have too.\n",
    "\n",
    "Q: What are the pros and cons of keeping symbols?"
   ]
  },
  {
   "cell_type": "markdown",
   "metadata": {
    "id": "jVt1MCyCa5WS"
   },
   "source": [
    "The impact of roundoff error is related to the precision (the number of digits we write down), and the way (base) we write numbers in."
   ]
  }
 ],
 "metadata": {
  "colab": {
   "authorship_tag": "ABX9TyPXFp+TMMlThylH0c6C9J0/",
   "include_colab_link": true,
   "provenance": []
  },
  "kernelspec": {
   "display_name": "Python 3",
   "name": "python3"
  },
  "language_info": {
   "name": "python"
  }
 },
 "nbformat": 4,
 "nbformat_minor": 0
}
