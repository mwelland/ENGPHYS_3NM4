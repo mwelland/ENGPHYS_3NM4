{
 "cells": [
  {
   "cell_type": "markdown",
   "metadata": {
    "id": "wW4KU3zHwz10"
   },
   "source": [
    "# Round-off Error"
   ]
  },
  {
   "cell_type": "markdown",
   "metadata": {
    "id": "MlhxbG0Hw4XC"
   },
   "source": [
    "Round-off errors are an unavoidable consequence of representing numbers with a finite number of digits. This issue is particularly prominent with irrational numbers, but it also affects rational numbers that cannot be perfectly represented in a given base."
   ]
  },
  {
   "cell_type": "code",
   "execution_count": null,
   "metadata": {
    "id": "M1mR8YfDwuj0"
   },
   "outputs": [],
   "source": [
    "from numpy import pi, e, sqrt\n",
    "\n",
    "print(f\"Pi: {pi}\")\n",
    "print(f\"e: {e}\")\n",
    "print(f\"1/3: {1/3}\")\n",
    "print(f\"sqrt(2): {sqrt(2)}\")"
   ]
  },
  {
   "cell_type": "markdown",
   "metadata": {
    "id": "kGVztDGlx-Ag"
   },
   "source": [
    "The fundamental problem is that we can only store a finite number of digits for any given number. As a result, we must either round or truncate the number, leading to a small error. While this error may seem insignificant for a single calculation, it can accumulate over millions of computations, leading to significant discrepancies.\n",
    "\n",
    "> The average human is capable of around one mistake per second, but computers can make millions of mistakes a second!"
   ]
  },
  {
   "cell_type": "markdown",
   "metadata": {
    "id": "QhDRwyHUB0FK"
   },
   "source": [
    "### Symbolic Representation\n",
    "\n",
    "If we could use an infinite number of digits or represent numbers symbolically (e.g., as $1/3$, $\\pi$, or $\\sqrt{2}$), round-off error would not be an issue. This is the approach taken by symbolic computation tools like Mathematica, Maple, and Python's `sympy` module, which delay numerical evaluation until absolutely necessary.\n",
    "\n",
    "**Question:** What are the pros and cons of using symbolic representation?"
   ]
  },
  {
   "cell_type": "markdown",
   "metadata": {
    "id": "jVt1MCyCa5WS"
   },
   "source": [
    "The magnitude of round-off error is influenced by the **precision** (the number of digits used) and the **base** of the number system."
   ]
  }
 ],
 "metadata": {
  "colab": {
   "authorship_tag": "ABX9TyPXFp+TMMlThylH0c6C9J0/",
   "include_colab_link": true,
   "provenance": []
  },
  "kernelspec": {
   "display_name": "Python 3",
   "name": "python3"
  },
  "language_info": {
   "name": "python"
  }
 },
 "nbformat": 4,
 "nbformat_minor": 0
}
