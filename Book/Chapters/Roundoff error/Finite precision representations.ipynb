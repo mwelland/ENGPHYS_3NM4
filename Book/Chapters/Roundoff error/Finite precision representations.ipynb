{
 "cells": [
  {
   "cell_type": "markdown",
   "metadata": {},
   "source": [
    "# Finite precision representations"
   ]
  },
  {
   "cell_type": "code",
   "execution_count": null,
   "metadata": {},
   "outputs": [],
   "source": [
    "import numpy as np"
   ]
  },
  {
   "cell_type": "markdown",
   "metadata": {},
   "source": [
    "## Binary representation"
   ]
  },
  {
   "cell_type": "markdown",
   "metadata": {},
   "source": [
    "Humans use a base-10 numbering system called 'decimal', probably because that's how many fingers we (typically) have.",
    "> Except for Mayans who used base-20: 'vegesimal' system! I guess they could only do math sitting down!",
    "The number 1305 is expressed in decimal with each column indicating a power of the base ($10$):",
    "$1305_{10} = 5 \\times 10^0 + 0 \\times 10^1 + 3 \\times 10^2 + 1 \\times 10^3$",
    "NB: We wrote the order of digits backwards so we could go in increasing powers."
   ]
  },
  {
   "cell_type": "markdown",
   "metadata": {},
   "source": [
    "Computers use base 2 (binary) since a bit can only be 0 or 1. The same number is written as:"
   ]
  },
  {
   "cell_type": "code",
   "execution_count": null,
   "metadata": {},
   "outputs": [],
   "source": [
    "np.binary_repr(1305)"
   ]
  },
  {
   "cell_type": "markdown",
   "metadata": {},
   "source": [
    "which we can check:",
    "$10100011001_2 = 1 \\times 2^0 + 0 \\times 2^1 + ... + 1 \\times 2^3 + 1 \\times 2^4+... + 1 \\times 2^8 + 0 \\times 2^{9} + 1 \\times 2^{10} = 1305_{10}$"
   ]
  },
  {
   "cell_type": "markdown",
   "metadata": {},
   "source": [
    "We can also use a decimal point with binary.",
    "$54.75_{10} = 5\\times 10^{-2} + 7\\times 10^{-1} + 4 \\times 10^{0} + 5 \\times 10^{1}$"
   ]
  },
  {
   "cell_type": "code",
   "execution_count": null,
   "metadata": {},
   "outputs": [],
   "source": [
    "def decimal_to_binary(number):",
    "  # Convert the integer part to binary",
    "  integer_part = np.binary_repr(int(number))",
    "  # Convert the fractional part to binary",
    "  fractional_part = number - int(number)",
    "  binary_fractional_part = \"\"",
    "  for i in range(20):",
    "      fractional_part *= 2",
    "      if fractional_part >= 1:",
    "          binary_fractional_part += \"1\"",
    "          fractional_part -= 1",
    "      else:",
    "          binary_fractional_part += \"0\"",
    "      if fractional_part == 0:",
    "          break",
    "  # Combine the integer and fractional parts",
    "  binary_representation = integer_part + \".\" + binary_fractional_part",
    "  print(binary_representation)",
    "decimal_to_binary(54.75)"
   ]
  },
  {
   "cell_type": "markdown",
   "metadata": {},
   "source": [
    "Check:",
    "$1 \\times 2^{-2} + 1 \\times 2^{-1} + 0 \\times 2^{0} + 1 \\times 2^{1} + 1 \\times 2^{2} + 0 \\times 2^{3} + 1 \\times 2^{4} + 1 \\times 2^{5} = 54.75_{10}$"
   ]
  },
  {
   "cell_type": "markdown",
   "metadata": {},
   "source": [
    "#### Example Convert 0.1 to binary"
   ]
  },
  {
   "cell_type": "code",
   "execution_count": null,
   "metadata": {},
   "outputs": [],
   "source": [
    "decimal_to_binary(0.1)"
   ]
  },
  {
   "cell_type": "markdown",
   "metadata": {},
   "source": [
    "The binary representation of 0.1 is a repeating number!"
   ]
  },
  {
   "cell_type": "markdown",
   "metadata": {},
   "source": [
    "## Precision"
   ]
  },
  {
   "cell_type": "markdown",
   "metadata": {},
   "source": [
    "Computers use a standard data unit, called a *word*. The number of bits in each word is called the *precision* and is, by IEEE convention, in increments of 32:",
    "| Precision | # bits |",
    "|---|---|",
    "| single | 32 |",
    "| double | 64 |",
    "| quad   | 128 |",
    "For comparison, the previous number 10100011001 takes 11 bits.",
    "The most common precision in modern computing, and the standard in python3, is double precision. Quad precision is occasionally accessible for precise calculation."
   ]
  },
  {
   "cell_type": "markdown",
   "metadata": {},
   "source": [
    "## Integers"
   ]
  },
  {
   "cell_type": "markdown",
   "metadata": {},
   "source": [
    "Integers are a fundamental data type if you don't need fractions, and **do not suffer from roundoff error**! However, since they have a finite number of digits (bits) their size is limited.",
    "The range of values an integer can store is $2^{bits}$.",
    "Integers are signed, so we must include if the number is +'ve or -'ve. Furthermore, there is a redundancy where -0 = +0, leading to the range of -'ves being larger than that of +'ve.",
    "The min and max numbers an integer can represent is therefore:",
    "$min = -2^{bits-1}$",
    "$max = 2^{bits-1} -1$",
    "> You may be tempted to use a bit to represent the sign. This is not modern practice for integers, which instead use a method called *Two's complement*."
   ]
  },
  {
   "cell_type": "markdown",
   "metadata": {},
   "source": [
    "#### Example: What is the largest integer a double precision variable can store?"
   ]
  },
  {
   "cell_type": "code",
   "execution_count": null,
   "metadata": {},
   "outputs": [],
   "source": [
    "print('min ', -2**63, '\\nmax  ', 2**63-1)",
    "print('\\nCheck with the built-in numpy examiner')",
    "print(np.iinfo(np.int64))"
   ]
  },
  {
   "cell_type": "markdown",
   "metadata": {},
   "source": [
    "#### Example 2: Let's break it!"
   ]
  },
  {
   "cell_type": "code",
   "execution_count": null,
   "metadata": {},
   "outputs": [],
   "source": [
    "# Works",
    "print(np.int64(2**62))",
    "#Overflow error",
    "try:",
    "    print(np.int64(2**63))",
    "except OverflowError as e:",
    "    print(e)"
   ]
  },
  {
   "cell_type": "code",
   "execution_count": null,
   "metadata": {},
   "outputs": [],
   "source": [
    "#Works",
    "print(np.int64(1000000000000000000))",
    "#Overflow error",
    "try:",
    "    print(np.int64(10000000000000000000))",
    "except OverflowError as e:",
    "    print(e)"
   ]
  },
  {
   "cell_type": "markdown",
   "metadata": {},
   "source": [
    "#Floating point numbers"
   ]
  },
  {
   "cell_type": "markdown",
   "metadata": {},
   "source": [
    "Writing a number like $10 000 000 000 000 000 000$ isn't really useful. It is much better to isolate the magnitude in units, or as an exponent:",
    "$10 000 000 000 000 000 000 = 10^{19}$"
   ]
  },
  {
   "cell_type": "markdown",
   "metadata": {},
   "source": [
    "## Floating point **Decimal** numbers (aka: Engineering notation)"
   ]
  },
  {
   "cell_type": "markdown",
   "metadata": {},
   "source": [
    "Remove leading zeros and *placeholder* trailing zeros using a *floating point* to separate the fractional part (mantissa / significand) from the order of magnitude (exponent).",
    "Engineering notation = $mantisa \\times 10^{exponent}$",
    "| Decimal | Engineering | Mantissa | Exponent |",
    "|---|---|---|---|",
    "| $265.73$ | $2.6573 \\times 10^2$ | 2.6573 | 2 |",
    "| $.0001$ | $1 \\times 10^{-4}$ | 1 | -4 |",
    "| $-0.0034123$ | $-3.4123 \\times 10^{-3}$ | -3.4123 | -3 |",
    "| $1500^*$ | $1.5 \\times 10^3$ | 1.5 | 3 |",
    "\\*only if the trailing zeros are not actually measured.",
    "Note:",
    "1. The mantissa is a fraction, but if we *normalize* the fraction to have the decimal after the first digit, we can represent it as an integer.",
    "2. The exponent is the power of the number system *base*, in this case $10$."
   ]
  },
  {
   "cell_type": "code",
   "execution_count": null,
   "metadata": {},
   "outputs": [],
   "source": [
    "def to_engineering_notation(number):",
    "  if number == 0:",
    "    return \"0\"",
    "  exponent = 0",
    "  while abs(number) < 1:",
    "    number *= 10",
    "    exponent -= 1",
    "  while abs(number) >= 10:",
    "    number /= 10",
    "    exponent += 1",
    "  print(f\"{number}E{exponent}\")",
    "to_engineering_notation(265.73)",
    "to_engineering_notation(0.0001)",
    "to_engineering_notation(-.0034123)",
    "to_engineering_notation(1500)",
    "to_engineering_notation(0)",
    "# You can also use Log10 to calculate this"
   ]
  },
  {
   "cell_type": "markdown",
   "metadata": {},
   "source": [
    "## Floating point Binary numbers"
   ]
  },
  {
   "cell_type": "markdown",
   "metadata": {},
   "source": [
    "The same technique can be applied to binary by using base 2:",
    "$mantisa \\times 2^{exponent}$"
   ]
  },
  {
   "cell_type": "markdown",
   "metadata": {},
   "source": [
    "#### Example convert 54.75 into floating point binary"
   ]
  },
  {
   "cell_type": "markdown",
   "metadata": {},
   "source": [
    "$54.75_{10} = 110110.11_2 $",
    "$= 1.1011011_2 \\times 2^5$",
    "$= 1.1011011_2 \\times 2^{101}$"
   ]
  },
  {
   "cell_type": "markdown",
   "metadata": {},
   "source": [
    "## Precision in floating point numbers"
   ]
  },
  {
   "cell_type": "markdown",
   "metadata": {},
   "source": [
    "If the mantissa and exponent have infinite range, we can represent all numbers using floating point. However we are once again limited by the number of bits (precision). Now, the bits are divided into sign, mantissa, and exponent by convent: IEEE Standard for Floating-Point Arithmetic (IEEE 754):",
    "|Precision |# bits | Sign |Exponent |Mantissa |",
    "|:---|:---|:---|:---|:---|",
    "|Single| 1/8/23 | S | EEEEEEEE | FFFFFFFFFFFFFFFFFFFFFFF |",
    "|Double| 1/11/52 | S | EEEEEEEEEEE | FFFFFFFFFFFFFFFFFFFFFFFFFFFFFFFFFFFFFFFFFFFFFFFFFFFF |",
    "|Quad | 1/15/112 | S | EEEEEEEEEEEEEEE | FFFFFFFFFFFFFFFFFFFFFFFFFFFFFFFFFFFFFFFFFFFFFFFFFFFFFFFFFFFFFFFFFFFFFFFFFFFFFFFFFFFFFFFFFFFFFFFFFFFFFFFFFFFFFFFFFFFFF |"
   ]
  },
  {
   "cell_type": "markdown",
   "metadata": {},
   "source": [
    "Note that the 'sign' bit is now here and is the sign of the number. The sign of the exponent is one of the bits in the 'exponent' block."
   ]
  },
  {
   "cell_type": "markdown",
   "metadata": {},
   "source": [
    "The actual storage is a bit complicated, but the key for us is the finite precision of the mantissa."
   ]
  },
  {
   "cell_type": "markdown",
   "metadata": {},
   "source": [
    "#### Example How is 0.1 actually stored?"
   ]
  },
  {
   "cell_type": "code",
   "execution_count": null,
   "metadata": {},
   "outputs": [],
   "source": [
    "print(format(0.1, '.55f'))"
   ]
  },
  {
   "cell_type": "code",
   "execution_count": null,
   "metadata": {},
   "outputs": [],
   "source": [
    "error = 0.1 - np.float64(0.1)",
    "eps_r = error / 0.1",
    "print(eps_r)"
   ]
  },
  {
   "cell_type": "markdown",
   "metadata": {},
   "source": [
    "## Summary"
   ]
  },
  {
   "cell_type": "markdown",
   "metadata": {},
   "source": [
    "In practice, we have to be careful when we mixing the order of terms. i.e. adding terms of different magnitude, or subtracting terms of slightly-varying magnitude.",
    "We cannot count on the associative property:"
   ]
  },
  {
   "cell_type": "code",
   "execution_count": null,
   "metadata": {},
   "outputs": [],
   "source": [
    "print(-1+(1+1e-20))",
    "print((-1+1)+1e-20)"
   ]
  },
  {
   "cell_type": "markdown",
   "metadata": {},
   "source": [
    "Beware of subtractive cancellation!"
   ]
  },
  {
   "cell_type": "code",
   "execution_count": null,
   "metadata": {},
   "outputs": [],
   "source": [
    "# Define two nearly equal numbers",
    "a = np.float32(1.23456789)",
    "b = np.float32(1.23456780)",
    "# Perform subtraction",
    "result = a - b",
    "# Print the results with higher precision",
    "print(\"a =\", format(a, '.20f'))",
    "print(\"b =\", format(b, '.20f'))",
    "print(\"a - b =\", result)"
   ]
  }
 ],
 "metadata": {
  "kernelspec": {
   "display_name": "Python 3",
   "name": "python3"
  },
  "language_info": {
   "codemirror_mode": {
    "name": "ipython",
    "version": 3
   },
   "file_extension": ".py",
   "mimetype": "text/x-python",
   "name": "python",
   "nbconvert_exporter": "python",
   "pygments_lexer": "ipython3",
   "version": "3.12.1"
  }
 },
 "nbformat": 4,
 "nbformat_minor": 0
}
