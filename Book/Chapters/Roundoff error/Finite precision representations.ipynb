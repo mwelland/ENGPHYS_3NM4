{
 "cells": [
  {
   "cell_type": "markdown",
   "metadata": {
    "id": "wW4KU3zHwz10"
   },
   "source": [
    "# Finite Precision Representations"
   ]
  },
  {
   "cell_type": "code",
   "execution_count": null,
   "metadata": {},
   "outputs": [],
   "source": [
    "import numpy as np\n",
    "from numpy import binary_repr"
   ]
  },
  {
   "cell_type": "markdown",
   "metadata": {
    "id": "bYHF46lJ478J"
   },
   "source": [
    "## Binary Representation"
   ]
  },
  {
   "cell_type": "markdown",
   "metadata": {
    "id": "wBgeKOkhx7kh"
   },
   "source": [
    "Humans typically use a base-10 numbering system, also known as the decimal system. This is likely because we have ten fingers. \n",
    "\n",
    "> An exception to this is the Mayans, who used a base-20 (vigesimal) system.\n",
    "\n",
    "In the decimal system, each digit's position corresponds to a power of 10. For example, the number 1305 can be expressed as:\n",
    "\n",
    "$1305_{10} = 5 \\times 10^0 + 0 \\times 10^1 + 3 \\times 10^2 + 1 \\times 10^3$"
   ]
  },
  {
   "cell_type": "markdown",
   "metadata": {
    "id": "au9vfgnu0lZq"
   },
   "source": [
    "Computers, on the other hand, use a base-2 (binary) system, where each bit can be either 0 or 1. The same number, 1305, is written in binary as:"
   ]
  },
  {
   "cell_type": "code",
   "execution_count": null,
   "metadata": {
    "id": "6n7Oeb2Fea6A"
   },
   "outputs": [],
   "source": [
    "binary_repr(1305)"
   ]
  },
  {
   "cell_type": "markdown",
   "metadata": {
    "id": "Kqjf-LBG3L4G"
   },
   "source": [
    "We can verify this by converting the binary representation back to decimal:\n",
    "\n",
    "\n",
    "$10100011001_2 = 1 \\times 2^0 + 0 \\times 2^1 + 0 \\times 2^2 + 1 \\times 2^3 + 1 \\times 2^4 + $\n",
    "\n",
    "$\\quad 0 \\times 2^5 + 0 \\times 2^6 + 0 \\times 2^7 + 1 \\times 2^8 + 0 \\times 2^9 + 1 \\times 2^{10}$\n",
    "\n",
    "$= 1305_{10}$"
   ]
  },
  {
   "cell_type": "markdown",
   "metadata": {
    "id": "V0I9zN6x1CdI"
   },
   "source": [
    "Binary representation can also include fractional parts, similar to a decimal point. For example, the decimal number $54.75_{10}$ can be written in binary."
   ]
  },
  {
   "cell_type": "code",
   "execution_count": null,
   "metadata": {
    "id": "NVL-x7081nFc"
   },
   "outputs": [],
   "source": [
    "def decimal_to_binary(number):\n",
    "    \"\"\"Converts a decimal number to its binary representation.\"\"\"\n",
    "    # Convert the integer part to binary\n",
    "    integer_part = binary_repr(int(number))\n",
    "\n",
    "    # Convert the fractional part to binary\n",
    "    fractional_part = number - int(number)\n",
    "    binary_fractional_part = \"\"\n",
    "    for i in range(20):\n",
    "        fractional_part *= 2\n",
    "        if fractional_part >= 1:\n",
    "            binary_fractional_part += \"1\"\n",
    "            fractional_part -= 1\n",
    "        else:\n",
    "            binary_fractional_part += \"0\"\n",
    "        if fractional_part == 0:\n",
    "            break\n",
    "\n",
    "    # Combine the integer and fractional parts\n",
    "    binary_representation = integer_part + \".\" + binary_fractional_part\n",
    "    return binary_representation\n",
    "\n",
    "print(f\"54.75 in binary is: {decimal_to_binary(54.75)}\")"
   ]
  },
  {
   "cell_type": "markdown",
   "metadata": {
    "id": "ymdmAKaX1yN0"
   },
   "source": [
    "Check:\n",
    "$110110.11_2 = (1 \\times 2^5 + 1 \\times 2^4 + 0 \\times 2^3 + 1 \\times 2^2 + 1 \\times 2^1 + 0 \\times 2^0) + $\n",
    "\n",
    "$\\quad (1 \\times 2^{-1} + 1 \\times 2^{-2}) = 54.75_{10}$"
   ]
  },
  {
   "cell_type": "markdown",
   "metadata": {
    "id": "W0WTSynd2ejq"
   },
   "source": [
    "### Example: Convert 0.1 to Binary"
   ]
  },
  {
   "cell_type": "code",
   "execution_count": null,
   "metadata": {
    "id": "hpxKHHFS2jby"
   },
   "outputs": [],
   "source": [
    "print(f\"0.1 in binary is: {decimal_to_binary(0.1)}\")"
   ]
  },
  {
   "cell_type": "markdown",
   "metadata": {
    "id": "ASUuzIZQ3CxH"
   },
   "source": [
    "The binary representation of 0.1 is a repeating fraction, which means it cannot be perfectly represented with a finite number of bits."
   ]
  },
  {
   "cell_type": "markdown",
   "metadata": {
    "id": "b7bmD7aH4agv"
   },
   "source": [
    "## Precision"
   ]
  },
  {
   "cell_type": "markdown",
   "metadata": {
    "id": "ymtlNqrX4gm_"
   },
   "source": [
    "Computers store data in units called *words*. The number of bits in a word determines the *precision*. The IEEE standard for floating-point arithmetic defines the following precisions:\n",
    "\n",
    "| Precision | Number of Bits |\n",
    "|-----------|----------------|\n",
    "| Single    | 32             |\n",
    "| Double    | 64             |\n",
    "| Quad      | 128            |\n",
    "\n",
    "For comparison, the binary representation of 1305 (`10100011001`) requires 11 bits. Modern computers typically use double precision for floating-point calculations, which is the default in Python 3."
   ]
  },
  {
   "cell_type": "markdown",
   "metadata": {
    "id": "hFcxMhk14ljU"
   },
   "source": [
    "## Integers"
   ]
  },
  {
   "cell_type": "markdown",
   "metadata": {
    "id": "nLHlkRV04pnp"
   },
   "source": [
    "Integers are a fundamental data type for whole numbers and **do not suffer from round-off error**. However, they have a limited range based on the number of bits used for their storage.\n",
    "\n",
    "The range of values an integer can store is determined by $2^{\\text{bits}}$. For signed integers, this range is split between positive and negative values. Due to the representation of zero, the negative range is slightly larger than the positive range.\n",
    "\n",
    "The minimum and maximum values for a signed integer are:\n",
    "\n",
    "$min = -2^{\\text{bits}-1}$\n",
    "\n",
    "$max = 2^{\\text{bits}-1} - 1$\n",
    "\n",
    "> Modern computers use a method called *Two's Complement* to represent signed integers, rather than a simple sign bit."
   ]
  },
  {
   "cell_type": "markdown",
   "metadata": {
    "id": "GLsN3Iyp58o0"
   },
   "source": [
    "### Example: What is the largest integer a double-precision variable can store?"
   ]
  },
  {
   "cell_type": "code",
   "execution_count": null,
   "metadata": {
    "id": "C4Deesot58N7"
   },
   "outputs": [],
   "source": [
    "print(f\"min: {-2**63}\")\n",
    "print(f\"max: {2**63-1}\")\n",
    "\n",
    "print('\\nCheck with the built-in numpy examiner:')\n",
    "print(np.iinfo(np.int64))"
   ]
  },
  {
   "cell_type": "markdown",
   "metadata": {
    "id": "TKKSEV6leDcI"
   },
   "source": [
    "### Example 2: Let's break it!"
   ]
  },
  {
   "cell_type": "code",
   "execution_count": null,
   "metadata": {
    "id": "x_d4sK9d_Mnw"
   },
   "outputs": [],
   "source": [
    "# This works because 2**62 is within the range of a 64-bit integer\n",
    "print(np.int64(2**62))\n",
    "\n",
    "# This will cause an overflow error because 2**63 is too large\n",
    "try:\n",
    "    print(np.int64(2**63))\n",
    "except OverflowError as e:\n",
    "    print(e)\n",
    "\n",
    "# This also works\n",
    "print(np.int64(1000000000000000000))\n",
    "\n",
    "# This will also cause an overflow error\n",
    "try:\n",
    "    print(np.int64(10000000000000000000))\n",
    "except OverflowError as e:\n",
    "    print(e)"
   ]
  },
  {
   "cell_type": "markdown",
   "metadata": {
    "id": "eAhJV_Fv-Jpp"
   },
   "source": [
    "## Floating-Point Numbers"
   ]
  },
  {
   "cell_type": "markdown",
   "metadata": {
    "id": "EdsIoNZOe1hu"
   },
   "source": [
    "Writing out very large numbers like $10,000,000,000,000,000,000$ is impractical. It is much more efficient to use scientific notation to represent the magnitude as an exponent:\n",
    "\n",
    "$10,000,000,000,000,000,000 = 10^{19}$"
   ]
  },
  {
   "cell_type": "markdown",
   "metadata": {
    "id": "RvK2KPYReRTi"
   },
   "source": [
    "### Floating-Point Decimal Numbers (Engineering Notation)"
   ]
  },
  {
   "cell_type": "markdown",
   "metadata": {
    "id": "l3ynycWjEdeP"
   },
   "source": [
    "We can remove leading and placeholder trailing zeros by using a *floating point* to separate the fractional part (mantissa or significand) from the order of magnitude (exponent).\n",
    "\n",
    "**Engineering Notation:** $mantissa \\times 10^{exponent}$\n",
    "\n",
    "| Decimal      | Engineering Notation     | Mantissa | Exponent |\n",
    "|--------------|--------------------------|----------|----------|\n",
    "| $265.73$     | $2.6573 \\times 10^2$    | 2.6573   | 2        |\n",
    "| $0.0001$     | $1 \\times 10^{-4}$        | 1        | -4       |\n",
    "| $-0.0034123$ | $-3.4123 \\times 10^{-3}$ | -3.4123  | -3       |\n",
    "| $1500^*$     | $1.5 \\times 10^3$       | 1.5      | 3        |\n",
    "\n",
    "*Assuming the trailing zeros are not significant.\n",
    "\n",
    "**Note:**\n",
    "1. The mantissa is a fraction. If we *normalize* it to have the decimal point after the first digit, we can represent it as an integer.\n",
    "2. The exponent is the power of the number system's base (in this case, 10)."
   ]
  },
  {
   "cell_type": "code",
   "execution_count": null,
   "metadata": {
    "id": "Dy0QN85WhhIk"
   },
   "outputs": [],
   "source": [
    "def to_engineering_notation(number):\n",
    "    \"\"\"Converts a number to engineering notation.\"\"\"\n",
    "    if number == 0:\n",
    "        return \"0\"\n",
    "\n",
    "    exponent = 0\n",
    "    while abs(number) < 1:\n",
    "        number *= 10\n",
    "        exponent -= 1\n",
    "    while abs(number) >= 10:\n",
    "        number /= 10\n",
    "        exponent += 1\n",
    "\n",
    "    return f\"{number}E{exponent}\"\n",
    "\n",
    "print(to_engineering_notation(265.73))\n",
    "print(to_engineering_notation(0.0001))\n",
    "print(to_engineering_notation(-.0034123))\n",
    "print(to_engineering_notation(1500))\n",
    "print(to_engineering_notation(0))"
   ]
  },
  {
   "cell_type": "markdown",
   "metadata": {
    "id": "XvZdxp-KgkUW"
   },
   "source": [
    "### Floating-Point Binary Numbers"
   ]
  },
  {
   "cell_type": "markdown",
   "metadata": {
    "id": "GT0yFPtahBlx"
   },
   "source": [
    "The same floating-point concept can be applied to binary numbers using base 2:\n",
    "\n",
    "$mantissa \\times 2^{exponent}$"
   ]
  },
  {
   "cell_type": "markdown",
   "metadata": {
    "id": "D7d42wdnxJgj"
   },
   "source": [
    "#### Example: Convert 54.75 into Floating-Point Binary"
   ]
  },
  {
   "cell_type": "markdown",
   "metadata": {
    "id": "Hi5a58_txS4V"
   },
   "source": [
    "$54.75_{10} = 110110.11_2$\n",
    "\n",
    "To normalize this, we move the binary point so that it is after the first non-zero digit:\n",
    "\n",
    "$1.1011011_2 \\times 2^5$\n",
    "\n",
    "The exponent is 5, which in binary is $101_2$. So the full floating-point representation is:\n",
    "\n",
    "$1.1011011_2 \\times 2^{101_2}$"
   ]
  },
  {
   "cell_type": "markdown",
   "metadata": {
    "id": "9mXXYNtDl4Pg"
   },
   "source": [
    "## Precision in Floating-Point Numbers"
   ]
  },
  {
   "cell_type": "markdown",
   "metadata": {
    "id": "6xnJqD47l8qB"
   },
   "source": [
    "If the mantissa and exponent had infinite range, we could represent all numbers perfectly. However, we are limited by the number of bits (precision). The bits are divided into three parts according to the IEEE 754 standard:\n",
    "\n",
    "| Precision | Total Bits | Sign | Exponent | Mantissa |\n",
    "|:----------|:-----------|:-----|:---------|:---------|\n",
    "| Single    | 32         | 1    | 8        | 23       |\n",
    "| Double    | 64         | 1    | 11       | 52       |\n",
    "| Quad      | 128        | 1    | 15       | 112      |\n",
    "\n",
    "The 'sign' bit determines whether the number is positive or negative. The 'exponent' bits store the exponent, and the 'mantissa' bits store the fractional part of the number."
   ]
  },
  {
   "cell_type": "markdown",
   "metadata": {
    "id": "683nJz_U3kHS"
   },
   "source": [
    "### Example: How is 0.1 actually stored?"
   ]
  },
  {
   "cell_type": "code",
   "execution_count": null,
   "metadata": {
    "id": "KVAQKK-N4bQ9"
   },
   "outputs": [],
   "source": [
    "print(format(0.1, '.55f'))"
   ]
  },
  {
   "cell_type": "markdown",
   "metadata": {},
   "source": [
    "As you can see, the stored value is not exactly 0.1. This is because 0.1 is a repeating fraction in binary, so it cannot be perfectly represented. The difference between the true value and the stored value is the round-off error:"
   ]
  },
  {
   "cell_type": "code",
   "execution_count": null,
   "metadata": {
    "id": "KoaoV14l5of0"
   },
   "outputs": [],
   "source": [
    "error = 0.1 - float(format(0.1, '.55f'))\n",
    "relative_error = error / 0.1\n",
    "print(f\"The relative error is: {relative_error}\")"
   ]
  },
  {
   "cell_type": "markdown",
   "metadata": {
    "id": "UxqjI1ZR6Cwk"
   },
   "source": [
    "## Summary"
   ]
  },
  {
   "cell_type": "markdown",
   "metadata": {
    "id": "BBxMgntD6J4O"
   },
   "source": [
    "In practice, we must be careful when performing arithmetic with floating-point numbers, especially when mixing numbers of different magnitudes or subtracting nearly equal numbers.\n",
    "\n",
    "We cannot always rely on the associative property of addition:"
   ]
  },
  {
   "cell_type": "code",
   "execution_count": null,
   "metadata": {
    "id": "0pQhs4jK6ZUT"
   },
   "outputs": [],
   "source": [
    "print(f\"-1 + (1 + 1e-20) = {-1+(1+1e-20)}\")\n",
    "print(f\"(-1 + 1) + 1e-20 = {(-1+1)+1e-20}\")"
   ]
  },
  {
   "cell_type": "markdown",
   "metadata": {
    "id": "LUBUyP5n7YPq"
   },
   "source": [
    "Beware of **subtractive cancellation**!"
   ]
  },
  {
   "cell_type": "code",
   "execution_count": null,
   "metadata": {
    "id": "X082gUU27dYp"
   },
   "outputs": [],
   "source": [
    "# Define two nearly equal numbers\n",
    "a = np.float32(1.23456789)\n",
    "b = np.float32(1.23456780)\n",
    "\n",
    "# Perform subtraction\n",
    "result = a - b\n",
    "\n",
    "# Print the results with higher precision\n",
    "print(f\"a = {format(a, '.20f')}\")\n",
    "print(f\"b = {format(b, '.20f')}\")\n",
    "print(f\"a - b = {result}\")"
   ]
  }
 ],
 "metadata": {
  "colab": {
   "authorship_tag": "ABX9TyPXFp+TMMlThylH0c6C9J0/",
   "include_colab_link": true,
   "provenance": []
  },
  "kernelspec": {
   "display_name": "Python 3",
   "name": "python3"
  },
  "language_info": {
   "codemirror_mode": {
    "name": "ipython",
    "version": 3
   },
   "file_extension": ".py",
   "mimetype": "text/x-python",
   "name": "python",
   "nbconvert_exporter": "python",
   "pygments_lexer": "ipython3",
   "version": "3.12.1"
  }
 },
 "nbformat": 4,
 "nbformat_minor": 0
}
