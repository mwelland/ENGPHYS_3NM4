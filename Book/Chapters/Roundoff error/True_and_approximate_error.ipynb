{
 "cells": [
  {
   "cell_type": "markdown",
   "metadata": {
    "id": "EnTndpiTR2qc"
   },
   "source": [
    "# Quantifying Error"
   ]
  },
  {
   "cell_type": "code",
   "execution_count": null,
   "metadata": {},
   "outputs": [],
   "source": [
    "import numpy as np\n",
    "from numpy import cos, sin, abs\n",
    "import matplotlib.pyplot as plt"
   ]
  },
  {
   "cell_type": "markdown",
   "metadata": {},
   "source": [
    "## True Absolute Error"
   ]
  },
  {
   "cell_type": "markdown",
   "metadata": {
    "id": "1rhnxoJMspU9"
   },
   "source": [
    "The **True Absolute Error** is the absolute difference between the true value and an approximation.\n",
    "\n",
    "$E_t = |\\text{True} - \\text{Approximate}|$\n",
    "\n",
    "This metric is only useful when the true value is known."
   ]
  },
  {
   "cell_type": "markdown",
   "metadata": {
    "id": "8Vsxg3YE3DBb"
   },
   "source": [
    "### Example: What is the derivative of $\\sin(x)$ at $x=0$?"
   ]
  },
  {
   "cell_type": "markdown",
   "metadata": {
    "id": "9MRAXK-MaDgb"
   },
   "source": [
    "Recall the definition of a derivative:\n",
    "\n",
    "$\\frac{d}{dx} \\sin(x) = \\lim_{\\Delta x \\to 0} \\frac{\\sin(x+\\Delta x) - \\sin(x)}{\\Delta x}$"
   ]
  },
  {
   "cell_type": "markdown",
   "metadata": {
    "id": "W_bTUPdqZ-Zb"
   },
   "source": [
    "The true value of the derivative of $\\sin(x)$ is $\\cos(x)$."
   ]
  },
  {
   "cell_type": "code",
   "execution_count": null,
   "metadata": {
    "id": "9rxp6AA4Vlxi"
   },
   "outputs": [],
   "source": [
    "value_true = cos(0)\n",
    "print(f\"The true value is: {value_true}\")"
   ]
  },
  {
   "cell_type": "markdown",
   "metadata": {
    "id": "UqYf9B99WEpl"
   },
   "source": [
    "We can define a function to approximate the derivative using a finite $\\Delta x$:"
   ]
  },
  {
   "cell_type": "code",
   "execution_count": null,
   "metadata": {
    "id": "cTnZjb4JVvcH"
   },
   "outputs": [],
   "source": [
    "def approx_derivative(delta_x):\n",
    "    \"\"\"Approximates the derivative of sin(x) at x=0.\"\"\"\n",
    "    return (sin(0 + delta_x) - sin(0)) / delta_x"
   ]
  },
  {
   "cell_type": "markdown",
   "metadata": {
    "id": "cd0EzJC5aOoq"
   },
   "source": [
    "For $\\Delta x = 0.1$, the approximate value is:"
   ]
  },
  {
   "cell_type": "code",
   "execution_count": null,
   "metadata": {
    "id": "c0K2j3rpYwAN"
   },
   "outputs": [],
   "source": [
    "value_approx = approx_derivative(delta_x=0.1)\n",
    "print(f\"The approximate value is: {value_approx}\")"
   ]
  },
  {
   "cell_type": "markdown",
   "metadata": {
    "id": "eY4Odz5lZXVo"
   },
   "source": [
    "The true absolute error is therefore:"
   ]
  },
  {
   "cell_type": "code",
   "execution_count": null,
   "metadata": {
    "id": "Nbz_5-FAYyee"
   },
   "outputs": [],
   "source": [
    "E_t = abs(value_true - value_approx)\n",
    "print(f\"The true absolute error is: {E_t}\")"
   ]
  },
  {
   "cell_type": "markdown",
   "metadata": {
    "id": "tfbf3wcBah62"
   },
   "source": [
    "## True Relative Error"
   ]
  },
  {
   "cell_type": "markdown",
   "metadata": {
    "id": "DXIbm24Td5ZC"
   },
   "source": [
    "Often, the absolute error is not as useful as the **True Relative Error**, because it does not account for the magnitude of the value. For example, a 1-meter error in GPS is insignificant for a long road trip but critical for a self-driving car.\n",
    "\n",
    "The true relative error is defined as:\n",
    "\n",
    "$\\epsilon_t = \\frac{E_t}{\\text{True}}$\n",
    "\n",
    "or as a percentage:\n",
    "\n",
    "$\\epsilon_t (\\%) = \\frac{E_t}{\\text{True}} \\times 100\\%$"
   ]
  },
  {
   "cell_type": "markdown",
   "metadata": {
    "id": "0jqVDwQgd8-q"
   },
   "source": [
    "### Example: What is the relative error from the previous calculation?"
   ]
  },
  {
   "cell_type": "code",
   "execution_count": null,
   "metadata": {
    "id": "s8IWAtc7cv5q"
   },
   "outputs": [],
   "source": [
    "eps_t = E_t / value_true\n",
    "print(f\"The true relative error is: {eps_t}\")"
   ]
  },
  {
   "cell_type": "markdown",
   "metadata": {
    "id": "eujIzIHVc9t2"
   },
   "source": [
    "## Approximate Absolute and Relative Error"
   ]
  },
  {
   "cell_type": "markdown",
   "metadata": {
    "id": "vrMKrL3Gsa96"
   },
   "source": [
    "What if we don't know the true value? Numerical methods often have a tunable parameter that controls accuracy (like $\\Delta x$ above). We can estimate the error by comparing sequential approximations, using the *better* approximation in place of the true value.\n",
    "\n",
    "$E_a = |\\text{Better approximation} - \\text{Approximation}|$\n",
    "\n",
    "$\\epsilon_a = \\frac{E_a}{\\text{Better approximation}}$"
   ]
  },
  {
   "cell_type": "markdown",
   "metadata": {
    "id": "DYhYz_GpfxHe"
   },
   "source": [
    "### Example: Use a smaller step size to find the approximate error."
   ]
  },
  {
   "cell_type": "code",
   "execution_count": null,
   "metadata": {
    "id": "3-SoANg6cyY3"
   },
   "outputs": [],
   "source": [
    "approx_1 = approx_derivative(0.1)\n",
    "approx_2 = approx_derivative(0.01)\n",
    "\n",
    "E_a = abs(approx_2 - approx_1)\n",
    "epsilon_a = E_a / approx_2\n",
    "\n",
    "print(f\"The approximate absolute error is: {E_a}\")\n",
    "print(f\"The approximate relative error is: {epsilon_a}\")"
   ]
  },
  {
   "cell_type": "markdown",
   "metadata": {
    "id": "cvt-RO-ccczc"
   },
   "source": [
    "## Tolerance"
   ]
  },
  {
   "cell_type": "markdown",
   "metadata": {
    "id": "HvLqcOPIbCVY"
   },
   "source": [
    "Since we often don't know the true answer, we can never be certain that we have reached it. Instead, we can determine when the answer is *no longer improving significantly*.\n",
    "\n",
    "In programming, we define a **tolerance** to determine when the error is *small enough*.\n",
    "\n",
    "- **Absolute Tolerance ($Tol_a$)**: The threshold below which the absolute error is considered acceptable.\n",
    "- **Relative Tolerance ($Tol_r$)**: The threshold below which the relative error is considered acceptable."
   ]
  },
  {
   "cell_type": "markdown",
   "metadata": {
    "id": "0B4-vqMQcvV4"
   },
   "source": [
    "### Pseudocode Concept"
   ]
  },
  {
   "cell_type": "markdown",
   "metadata": {
    "id": "NH9cqjWvc4wl"
   },
   "source": [
    "```python\n",
    "parameter = initial_value\n",
    "while True:\n",
    "    result = run_algorithm(parameter)\n",
    "    error = calculate_error(result, previous_result)\n",
    "    if error < tolerance:\n",
    "        break\n",
    "    parameter = reduce_parameter(parameter)\n",
    "```"
   ]
  },
  {
   "cell_type": "markdown",
   "metadata": {
    "id": "VGFcCdcZqv08"
   },
   "source": [
    "### Example: Exploring $E_a$ and $\\epsilon_a$ as a function of $\\Delta x$"
   ]
  },
  {
   "cell_type": "code",
   "execution_count": null,
   "metadata": {
    "id": "ydnylX8UeB3n"
   },
   "outputs": [],
   "source": [
    "delta_x = np.logspace(0, -10, 11)\n",
    "E_a = np.zeros(delta_x.size)\n",
    "epsilon_a = np.zeros(delta_x.size)\n",
    "\n",
    "for i, dx in enumerate(delta_x):\n",
    "    # Note: We are comparing the approximation at dx with the one at dx/10\n",
    "    E_a[i] = abs(approx_derivative(dx/10) - approx_derivative(dx))\n",
    "    epsilon_a[i] = E_a[i] / approx_derivative(dx/10)\n",
    "\n",
    "plt.loglog(delta_x, abs(E_a), marker='o', label='$E_a$')\n",
    "plt.loglog(delta_x, abs(epsilon_a), marker='s', label='$\\epsilon_a$')\n",
    "plt.xlabel('$\\Delta x$')\n",
    "plt.ylabel('Error')\n",
    "plt.legend()\n",
    "plt.grid(True)\n",
    "plt.show()"
   ]
  },
  {
   "cell_type": "markdown",
   "metadata": {
    "id": "CEnO4Fzvg77t"
   },
   "source": [
    "**Observations:**\n",
    "\n",
    "*   The two error curves overlap. Why?\n",
    "*   The plot is a straight line on a log-log scale. What does this imply?\n",
    "*   There is a sharp drop-off in the error around $10^{-8}$. What could be causing this?"
   ]
  }
 ],
 "metadata": {
  "colab": {
   "collapsed_sections": [
    "EnTndpiTR2qc",
    "8Vsxg3YE3DBb",
    "tfbf3wcBah62",
    "0jqVDwQgd8-q",
    "eujIzIHVc9t2",
    "DYhYz_GpfxHe"
   ],
   "provenance": []
  },
  "kernelspec": {
   "display_name": "Python 3",
   "name": "python3"
  },
  "language_info": {
   "name": "python"
  }
 },
 "nbformat": 4,
 "nbformat_minor": 0
}
