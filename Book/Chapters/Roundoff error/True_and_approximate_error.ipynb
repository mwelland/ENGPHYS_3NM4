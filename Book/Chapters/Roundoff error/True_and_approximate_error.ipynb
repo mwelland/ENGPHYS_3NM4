{
 "cells": [
  {
   "cell_type": "markdown",
   "metadata": {},
   "source": [
    "# Quantifying error"
   ]
  },
  {
   "cell_type": "code",
   "execution_count": null,
   "metadata": {},
   "outputs": [],
   "source": [
    "import numpy as np",
    "import matplotlib.pyplot as plt"
   ]
  },
  {
   "cell_type": "markdown",
   "metadata": {},
   "source": [
    "## True Absolute Error"
   ]
  },
  {
   "cell_type": "markdown",
   "metadata": {},
   "source": [
    "The difference between the true answer and an approximate answer is called the True Absolute Error:",
    "$E_t = |True - Approx|$",
    "Only really useful when the *true* value is known."
   ]
  },
  {
   "cell_type": "markdown",
   "metadata": {},
   "source": [
    "#### Example: What is the derivative of $sin(x)$ at $x=0$?"
   ]
  },
  {
   "cell_type": "markdown",
   "metadata": {},
   "source": [
    "Recall: $\\frac{d\\sin(x)}{dx} = \\lim_{\\Delta x\\to 0} \\frac{\\sin(x+\\Delta x)-\\sin(x)}{\\Delta x}$"
   ]
  },
  {
   "cell_type": "markdown",
   "metadata": {},
   "source": [
    "True: $\\frac{d\\sin(x)}{dx} = \\cos(x)$"
   ]
  },
  {
   "cell_type": "code",
   "execution_count": null,
   "metadata": {},
   "outputs": [],
   "source": [
    "value_true = np.cos(0)",
    "print(value_true)"
   ]
  },
  {
   "cell_type": "markdown",
   "metadata": {},
   "source": [
    "Define a function (for later use) approx which takes a parameter, $\\Delta x$:",
    "$approx(\\Delta x) = \\frac{\\sin(x+\\Delta x)-\\sin(x)}{\\Delta x}$"
   ]
  },
  {
   "cell_type": "code",
   "execution_count": null,
   "metadata": {},
   "outputs": [],
   "source": [
    "def approx(delta_x):",
    "    return (np.sin(0+delta_x)-np.sin(0))/delta_x"
   ]
  },
  {
   "cell_type": "markdown",
   "metadata": {},
   "source": [
    "For $\\Delta x = .1$,"
   ]
  },
  {
   "cell_type": "code",
   "execution_count": null,
   "metadata": {},
   "outputs": [],
   "source": [
    "value_approx = approx(delta_x = .1)",
    "print(value_approx)"
   ]
  },
  {
   "cell_type": "markdown",
   "metadata": {},
   "source": [
    "The true absolute error is therefore,"
   ]
  },
  {
   "cell_type": "code",
   "execution_count": null,
   "metadata": {},
   "outputs": [],
   "source": [
    "E_t = np.abs(value_true - value_approx)",
    "print(E_t)"
   ]
  },
  {
   "cell_type": "markdown",
   "metadata": {},
   "source": [
    "## True relative error"
   ]
  },
  {
   "cell_type": "markdown",
   "metadata": {},
   "source": [
    "Often the absolute error is not so useful since it doesn't consider the magnitude of the value.",
    "E.g. GPS has an error of about ~1m. Is that important for calculating distance for a long road trip? What about a self-driving the car?",
    "Also note that absolute error has units which complicates generalization.",
    "The true relative error is defined as,",
    "$\\epsilon_t = \\frac{E_t}{True}$",
    "or as a percent,",
    "$\\frac{E_t}{True} \\times 100 \\%$"
   ]
  },
  {
   "cell_type": "markdown",
   "metadata": {},
   "source": [
    "#### Example: What is the relative error from the previous calculation?"
   ]
  },
  {
   "cell_type": "code",
   "execution_count": null,
   "metadata": {},
   "outputs": [],
   "source": [
    "eps_t = E_t/value_true",
    "print(eps_t)"
   ]
  },
  {
   "cell_type": "markdown",
   "metadata": {},
   "source": [
    "## Approximate absolute and relative error"
   ]
  },
  {
   "cell_type": "markdown",
   "metadata": {},
   "source": [
    "What if we don't have the true value?",
    "Numerical methods typically have a tunable parameter that controls accuracy (viz. $\\Delta x$ above). We can estimate the error for sequential approximations, using the *better* approximation in place of the *True* one.",
    "$E_a = |Better\\ approx - approx|$",
    "$\\epsilon_a = \\frac{E_a}{Better\\ approx}$"
   ]
  },
  {
   "cell_type": "markdown",
   "metadata": {},
   "source": [
    "#### Example: Use smaller step sizes to find the approximate error and fracitonal error."
   ]
  },
  {
   "cell_type": "code",
   "execution_count": null,
   "metadata": {},
   "outputs": [],
   "source": [
    "E_a = np.abs(approx(.01) - approx(.1))",
    "print(E_a)"
   ]
  },
  {
   "cell_type": "code",
   "execution_count": null,
   "metadata": {},
   "outputs": [],
   "source": [
    "epsilon_a = E_a/approx(.01)",
    "print(epsilon_a)"
   ]
  },
  {
   "cell_type": "markdown",
   "metadata": {},
   "source": [
    "## Tolerance"
   ]
  },
  {
   "cell_type": "markdown",
   "metadata": {},
   "source": [
    "Since we don't know the true answer, we can never say that we have reached it. What we can say is that the answer *isn't getting any better*.",
    "Programmatically, we say that the error / fractional error has crossed a *tolerance*.",
    "Define:",
    "The absolute tolerance, $Tol_a$, is the threshold past which the absolute error is *small enough*.",
    "The relative tolerance, $Tol_r$, is the threshold past which the relative error is *small enough*."
   ]
  },
  {
   "cell_type": "markdown",
   "metadata": {},
   "source": [
    "## Pseudo code concept"
   ]
  },
  {
   "cell_type": "markdown",
   "metadata": {},
   "source": [
    "```",
    "Run an algorithm for a given parameter",
    "loop:",
    "  reduce parameter",
    "  run algorithm",
    "  Calculate error and relative error",
    "  Exit when tolerance is met",
    "```"
   ]
  },
  {
   "cell_type": "markdown",
   "metadata": {},
   "source": [
    "#### Example: Lets explore $E_a$ and $\\epsilon_a$ as a function of $\\Delta x$:"
   ]
  },
  {
   "cell_type": "code",
   "execution_count": null,
   "metadata": {},
   "outputs": [],
   "source": [
    "delta_x = np.logspace(0,-10,11)",
    "E_a = np.zeros(delta_x.size)",
    "epsilon_a = np.zeros(delta_x.size)",
    "for i, dx in enumerate(delta_x):",
    "  E_a[i] = approx(dx/10) - approx(dx)",
    "  epsilon_a[i] = E_a[i]/approx(dx/10)",
    "plt.loglog(delta_x, E_a, marker='o', label='$E_a$')",
    "plt.loglog(delta_x, epsilon_a, marker='s', label='$\\epsilon_a$')",
    "plt.xlabel('$\\Delta x$')",
    "plt.ylabel('Error')",
    "plt.legend()",
    "plt.show()"
   ]
  },
  {
   "cell_type": "markdown",
   "metadata": {},
   "source": [
    "Note:",
    "* The two errors overlap. Why?",
    "* The plot is a straight line. What does this mean?",
    "* There is a precipitous drop-off at $10^{-7}$. What is that?"
   ]
  },
  {
   "cell_type": "markdown",
   "metadata": {},
   "source": [
    "THESE QUESTIONS AND MORE IN THE NEXT EXCITING EPISODE OF NUMERICAL METHODS FOR ENGINEERING!"
   ]
  }
 ],
 "metadata": {
  "kernelspec": {
   "display_name": "Python 3",
   "name": "python3"
  },
  "language_info": {
   "name": "python"
  }
 },
 "nbformat": 4,
 "nbformat_minor": 0
}
