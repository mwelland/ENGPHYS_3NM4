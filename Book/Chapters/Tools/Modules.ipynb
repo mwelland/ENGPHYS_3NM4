{
 "cells": [
  {
   "cell_type": "markdown",
   "id": "b584c540",
   "metadata": {},
   "source": [
    "# Importable Modules\n",
    "* Linear Solver"
   ]
  },
  {
   "cell_type": "code",
   "execution_count": 2,
   "id": "91d015e5",
   "metadata": {},
   "outputs": [
    {
     "data": {
      "application/vnd.jupyter.widget-view+json": {
       "model_id": "713bec11b20d40f6b375024b4950ad47",
       "version_major": 2,
       "version_minor": 0
      },
      "text/plain": [
       "VBox(children=(HBox(children=(FloatText(value=20.0, layout=Layout(width='60px')), Label(value='c +'), FloatTex…"
      ]
     },
     "metadata": {},
     "output_type": "display_data"
    },
    {
     "data": {
      "text/plain": [
       "<tools3nm4.module.LinearSystemSolverPlotly at 0x22095bd3bf0>"
      ]
     },
     "execution_count": 2,
     "metadata": {},
     "output_type": "execute_result"
    }
   ],
   "source": [
    "from tools3nm4.module  import LinearSystemSolverPlotly\n",
    "\n",
    "LinearSystemSolverPlotly()\n",
    "\n",
    "\n"
   ]
  }
 ],
 "metadata": {
  "kernelspec": {
   "display_name": "Python 3",
   "language": "python",
   "name": "python3"
  },
  "language_info": {
   "codemirror_mode": {
    "name": "ipython",
    "version": 3
   },
   "file_extension": ".py",
   "mimetype": "text/x-python",
   "name": "python",
   "nbconvert_exporter": "python",
   "pygments_lexer": "ipython3",
   "version": "3.12.1"
  }
 },
 "nbformat": 4,
 "nbformat_minor": 5
}
