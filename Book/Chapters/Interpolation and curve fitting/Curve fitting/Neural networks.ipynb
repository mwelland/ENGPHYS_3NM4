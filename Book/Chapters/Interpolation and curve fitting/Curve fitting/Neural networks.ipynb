{
 "cells": [
  {
   "cell_type": "markdown",
   "id": "91209d05",
   "metadata": {},
   "source": [
    "# Neural Networks"
   ]
  },
  {
   "cell_type": "markdown",
   "id": "4533acb8",
   "metadata": {},
   "source": [
    "blah blah"
   ]
  }
 ],
 "metadata": {
  "language_info": {
   "name": "python"
  }
 },
 "nbformat": 4,
 "nbformat_minor": 5
}
