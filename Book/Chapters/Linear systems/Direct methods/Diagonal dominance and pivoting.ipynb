{
 "cells": [
  {
   "cell_type": "markdown",
   "id": "79746eaa",
   "metadata": {},
   "source": [
    "# Diagonal dominance and pivoting\n",
    "\n"
   ]
  },
  {
   "cell_type": "markdown",
   "id": "13f3d9de",
   "metadata": {},
   "source": [
    "The order of equations, and therefore rows in the matrix, is obviously arbitrary, but this may break Gauss Elimination.\n",
    "\n",
    "E.g.: a system with augmented matrix\n",
    "\n",
    "$$\n",
    "\\begin{bmatrix}\n",
    "2 & -1 & 0 & 1\\\\\n",
    "-1 & 2 & -1 & 0\\\\\n",
    "0 & -1 & 1 & 0\\\\\n",
    "\\end{bmatrix}$$\n",
    "\n",
    "will work with our GE scheme, but the same system reordered,\n",
    "\n",
    "$$\n",
    "\\begin{bmatrix}\n",
    "0 & -1 & 1 & 0\\\\\n",
    "-1 & 2 & -1 & 0\\\\\n",
    "2 & -1 & 0 & 1\\\\\n",
    "\\end{bmatrix}$$\n",
    "\n",
    "will fail due to the $0$ in the element of the first row. The remedy is to swap rows 3 and 1 to match the first example."
   ]
  },
  {
   "cell_type": "markdown",
   "id": "dd873c7b",
   "metadata": {},
   "source": [
    "### Permutation matrix"
   ]
  },
  {
   "cell_type": "markdown",
   "id": "1d343366",
   "metadata": {},
   "source": [
    "Swapping rows in matrix algebra is achieved via a *permutation matrix* (row swap of the *identity matrix*).\n",
    "\n",
    "To swap rows 3 and 1, we would use:\n",
    "\n",
    "$$\n",
    "P =\n",
    "\\begin{bmatrix}\n",
    "0 & 0 & 1 \\\\\n",
    "0 & 1 & 0 \\\\\n",
    "1 & 0 & 0 \\\\\n",
    "\\end{bmatrix}$$\n"
   ]
  },
  {
   "cell_type": "markdown",
   "id": "a1aa01c0",
   "metadata": {},
   "source": [
    "## Diagonal dominance\n",
    "\n"
   ]
  },
  {
   "cell_type": "markdown",
   "id": "068fe629",
   "metadata": {},
   "source": [
    "More generally, if the diagonal element is *small* we will encounter roundoff error:\n",
    "\n",
    "$$\n",
    "\\begin{bmatrix}\n",
    "\\epsilon & -1 & 1 & 0\\\\\n",
    "-1 & 2 & -1 & 0\\\\\n",
    "2 & -1 & 0 & 1\\\\\n",
    "\\end{bmatrix}$$\n",
    "\n",
    "after the first pass leads to:\n",
    "\n",
    "$$\n",
    "\\begin{bmatrix}\n",
    "\\epsilon & -1 & 1 & 0\\\\\n",
    "-1 & 2 -1/\\epsilon & -1 + 1/\\epsilon & 0\\\\\n",
    "2 & -1 -1/\\epsilon& + 1/\\epsilon & 1\\\\\n",
    "\\end{bmatrix}$$\n",
    "\n",
    "from which we immediately see the danger as $\\epsilon \\rightarrow 0$!"
   ]
  },
  {
   "cell_type": "markdown",
   "id": "95d0b999",
   "metadata": {},
   "source": [
    "Thus, we don't want the diagonal to have $0$ s or *small* numbers. This motivates the definition of *diagonal dominance*.\n",
    "\n",
    "A matrix is said to be *diagonally dominant* if each diagonal is larger, in absolute value, than the *sum of the other elements in the row*.\n",
    "\n",
    "$|A_{ii}| \\ge \\sum_{j=1,j \\ne i}^{n} |A_{ij}|$\n",
    "\n"
   ]
  },
  {
   "cell_type": "markdown",
   "id": "81e1c642",
   "metadata": {},
   "source": [
    "Example: Which is diagonally dominant?\n",
    "\n",
    "a) $$\n",
    "\\begin{bmatrix}\n",
    "-2 & 4 & -1 \\\\\n",
    "-1 & -1 & 3 \\\\\n",
    "4 & -2 & 1 \\\\\n",
    "\\end{bmatrix}$$\n",
    "\n",
    "b)\n",
    "$$\n",
    "\\begin{bmatrix}\n",
    "4 & -2 & 1 \\\\\n",
    "-2 & 4 & -1 \\\\\n",
    "-1 & -1 & 3 \\\\\n",
    "\\end{bmatrix}$$"
   ]
  },
  {
   "cell_type": "markdown",
   "id": "37695d19",
   "metadata": {},
   "source": [
    "## Importance of diagonal dominance\n",
    "It can be shown that if a matrix is diagonally dominant, *it will not benefit from pivoting!*\n",
    "\n",
    "Diagonal dominance contributes generally to numerical stability and accuracy through minimizing roundoff error propogation. This result extends beyond Gauss elimination, and will also be a criteria for matrix factorization methods and the efficient convergence of iterative methods."
   ]
  }
 ],
 "metadata": {
  "language_info": {
   "name": "python"
  }
 },
 "nbformat": 4,
 "nbformat_minor": 5
}
