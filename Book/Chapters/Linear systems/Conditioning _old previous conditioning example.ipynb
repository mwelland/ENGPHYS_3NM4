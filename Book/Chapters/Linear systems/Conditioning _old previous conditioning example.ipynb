{
 "cells": [
  {
   "cell_type": "markdown",
   "metadata": {},
   "source": [
    "# Conditioning"
   ]
  },
  {
   "cell_type": "markdown",
   "metadata": {},
   "source": [
    "## The condition number"
   ]
  },
  {
   "cell_type": "markdown",
   "metadata": {},
   "source": [
    "Let's try to quantify this issue by returning to the importance of $|A| = -30$. We could multiply the first equation by an arbitrary scalar § and the determinant would scale accordingly, so obviously the magnitude of $|A|$ can't be important.\n",
    "\n",
    "It is only important relative to the *magnitude* of the equation coefficients (the elements of $A$)."
   ]
  },
  {
   "cell_type": "markdown",
   "metadata": {},
   "source": [
    "### Matrix norms"
   ]
  },
  {
   "cell_type": "markdown",
   "metadata": {},
   "source": [
    "For vectors we know the magnitude (called the *norm*) is:\n",
    "$||v||  = \\sqrt{\\sum_n v_i^2} = \\sqrt{v\\cdot v}$.\n",
    "\n",
    "> In fact this is more than one type of vector norm.  In general, $||v||_p = \\sum_i \\left(v_i^p\\right) ^{1/p}$. The p=2 norm is the 'Euclidian norm', for $p\\rightarrow \\infty$,  $|v|_{\\infty} = max(v_i)$.\n",
    "\n",
    "\n"
   ]
  },
  {
   "cell_type": "markdown",
   "metadata": {},
   "source": [
    "The Euclidian / Frobenius norm is simply,\n",
    "\n",
    "$||A||_F = \\sqrt{\\sum_{i=1}^{m} \\sum_{j=1}^{n} |A_{ij}|^2}$\n",
    "\n",
    "$||A||_F = \\sqrt{A:A}$\n",
    "\n",
    "Infinity Norm (maximum row-sum norm)\n",
    "\n",
    "$||A||_\\infty = \\max_{1 \\le i \\le m} \\sum_{j=1}^{n} |A_{ij}|$\n",
    "\n",
    "Spectral, or 2-norm\n",
    "$||A||_2 = \\max(eigen value)$\n",
    "\n",
    "The determinant is considered *small* in comparison with the matrix norm $|A| << ||A||$.\n",
    "\n",
    "\n",
    "\n",
    "\n",
    "In actuality, C.N. = $\\frac{max(eigenvalue)}{min(eigenvalue)}$ but hard to find."
   ]
  },
  {
   "cell_type": "markdown",
   "metadata": {},
   "source": [
    "The *matrix condition number*\n",
    "\n",
    "$cond(A) = ||A|| ||A^{-1}||$\n",
    "\n",
    "is the formal measure of conditioning. For $cond(A) ~1$ the matrix is well-conditioned and its inversion is numerically stable. Otherwise it is *ill-conditioned* and we will need to do something else.\n",
    "\n",
    "If the eigenvalues can be calculated (or estimated) then we can do the spectral condition number,\n",
    "\n",
    "$cond(A) = \\frac{\\max(e.v.)}{\\min(e.v.)}$\n",
    "\n",
    "(generallized to singular values)."
   ]
  },
  {
   "cell_type": "markdown",
   "metadata": {},
   "source": [
    "# BONUS head-scratchers!\n",
    "\n",
    "Lets go back to the original problem\n",
    "\n",
    "(1) $20 c + 50 t = 700$\n",
    "\n",
    "(2) $  c+t = 20$\n",
    "\n",
    "and add some other requirement that amounts to:\n",
    "\n",
    "(3) $ 50 c + 20 t = 700$\n",
    "\n",
    "Some quick math will show these lines are linearly independant, and graphically we see there is a solution,"
   ]
  },
  {
   "cell_type": "code",
   "execution_count": null,
   "metadata": {},
   "outputs": [],
   "source": [
    "# prompt: Plot the 3 lines above\n",
    "\n",
    "import matplotlib.pyplot as plt\n",
    "import numpy as np\n",
    "\n",
    "# Define the x values\n",
    "x = np.linspace(0, 20, 100)\n",
    "\n",
    "# Calculate the y values for the first equation (20c + 50t = 700)\n",
    "y1 = (700 - 20 * x) / 50\n",
    "\n",
    "# Calculate the y values for the second equation (c + t = 20)\n",
    "y2 = 20 - x\n",
    "\n",
    "# Calculate the y values for the third equation (50c + 20t = 700)\n",
    "y3 = (700 - 50 * x) / 20\n",
    "\n",
    "# Plot the lines\n",
    "plt.plot(x, y1, label='20c + 50t = 700')\n",
    "plt.plot(x, y2, label='c + t = 20')\n",
    "plt.plot(x, y3, label='50c + 20t = 700')\n",
    "\n",
    "# Add labels and title\n",
    "plt.xlabel('Number of Chairs (c)')\n",
    "plt.ylabel('Number of Tables (t)')\n",
    "plt.title('Fundraising Event with 3 Equations')\n",
    "\n",
    "# Add a grid\n",
    "plt.grid(True)\n",
    "\n",
    "# Add a legend\n",
    "plt.legend()\n",
    "\n",
    "# Display the plot\n",
    "plt.show()\n"
   ]
  },
  {
   "cell_type": "markdown",
   "metadata": {},
   "source": [
    "so what do we do now?!? (Attend advanced numerical methods to learn about pseudoinverses!)"
   ]
  }
 ],
 "metadata": {
  "colab": {
   "authorship_tag": "ABX9TyMAKGier6wB2BKralaUrQCl",
   "collapsed_sections": [
    "nb60_VTHpyYd",
    "etE_LvnloBkb",
    "ikVv8nAIbuJH"
   ],
   "include_colab_link": true,
   "provenance": [],
   "toc_visible": true
  },
  "kernelspec": {
   "display_name": "Python 3",
   "language": "python",
   "name": "python3"
  },
  "language_info": {
   "codemirror_mode": {
    "name": "ipython",
    "version": 3
   },
   "file_extension": ".py",
   "mimetype": "text/x-python",
   "name": "python",
   "nbconvert_exporter": "python",
   "pygments_lexer": "ipython3",
   "version": "3.12.3"
  }
 },
 "nbformat": 4,
 "nbformat_minor": 0
}
