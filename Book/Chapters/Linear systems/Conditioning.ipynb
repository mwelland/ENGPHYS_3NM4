{
 "cells": [
  {
   "cell_type": "markdown",
   "metadata": {},
   "source": [
    "# Conditioning"
   ]
  },
  {
   "cell_type": "markdown",
   "metadata": {},
   "source": [
    "Previously, we discussed how roundoff and truncation error effectively introduce uncertainty into numbers stored on a computer. Herein, we discuss the impact of this uncertainty. \n",
    "\n",
    "The conditioning of a general function, \n",
    "\n",
    "$f(\\vec{x}) = \\vec{b}$\n",
    "\n",
    "relates how uncertainty in the function output, $b$, relates to uncertainty in the inputs, $\\vec{x}$, *in the worst case*. It is a key aspect of uncertainty propogation, and is a **property of the function $f$ itself, not the input / output pair**, (although behaviour may be localized to certain ranges of $\\vec{x}$ for nonlinear functions). \n",
    "\n",
    "The condition of the function relates to the *distortion* between the input uncertainty and output uncertainty. A common misconception is that it is an amplification, but this would imply the inverse function reduces uncertainty, which is not the case. Rather, the condition of the forward function and its inverse (if the inverse exists) is quantifyably the same. \n",
    "\n",
    "**Well conditioned** functions feature output uncertainty that varies roughly equivilently to the input uncertinaty. \n",
    "**Ill conditioned** functions show that small changes in the inputs $x$ *could* result in large changes in the outputs $b$, and vice-versa.  \n",
    "\n",
    "Numerical methods have inherent uncertainty in numbers due to finite precision representation. Ill-conditioned functions can disrupt the solution of finding the solution $\\vec{x}$.  "
   ]
  },
  {
   "cell_type": "markdown",
   "metadata": {},
   "source": [
    "## Condition number"
   ]
  },
  {
   "cell_type": "markdown",
   "metadata": {},
   "source": [
    "The condition number is the maximum ratio of the relative error in $\\vec{x}$ to that of $\\vec{b}$. For linear functions, which can be represented as $f(\\vec{x}) = A\\vec{x} = \\vec{b}$, it can be readily derived. "
   ]
  },
  {
   "cell_type": "markdown",
   "metadata": {},
   "source": [
    "### Derivation"
   ]
  },
  {
   "cell_type": "markdown",
   "metadata": {},
   "source": [
    "Preturb the inputs and outputs by errors $\\vec{\\delta x}$ and $\\vec{\\delta b}$ respectively: \n",
    "\n",
    "\n",
    "\\begin{align}\n",
    "\\vec{x} & \\rightarrow \\vec{x} + \\vec{\\delta x}\\\\\n",
    "\\vec{b} & \\rightarrow \\vec{b} + \\vec{\\delta b}\n",
    "\\end{align}\n",
    "$\\vec{x} \\rightarrow \\vec{x} + \\vec{\\delta x}$ \n",
    "\n",
    "$\\vec{b} \\rightarrow \\vec{b} + \\vec{\\delta b}$\n",
    "\n",
    "The matrix equation becomes, \n",
    "\n",
    "$A \\left[ \\vec{x} + \\vec{\\delta x} \\right] = \\vec{b}+\\vec{\\delta b}$\n",
    "\n",
    "$A \\vec{x} + A \\vec{\\delta x} = \\vec{b}+\\vec{\\delta b}$\n",
    "\n",
    "and since we know $A \\vec{x} = \\vec{b}$, the uncertainties are directly related:\n",
    "\n",
    "$A \\vec{\\delta x} = \\vec{\\delta b}$\n",
    "\n",
    "or \n",
    "\n",
    "$\\vec{\\delta x} = A^{-1}\\vec{\\delta b}$"
   ]
  },
  {
   "cell_type": "markdown",
   "metadata": {},
   "source": [
    "From this we can calculate the relative error in the input considering the *norm* (magnitude) of the vector, \n",
    "\n",
    "$\\frac{||\\vec{\\delta x}||}{||\\vec{x}||} = \\frac{||A^{-1}\\vec{\\delta b}||}{||\\vec{x}||}$,\n",
    "\n",
    "and that of the output, \n",
    "\n",
    "$\\frac{||\\vec{\\delta b}||}{||\\vec{b}||} = \\frac{||\\vec{\\delta b}||}{|| A \\vec{x}||}$."
   ]
  },
  {
   "cell_type": "markdown",
   "metadata": {},
   "source": [
    "The ratio of the relative errors is,\n",
    "\n",
    "$\\frac{||A^{-1}\\vec{\\delta b}||}{||\\vec{x}||} / \\frac{||\\vec{\\delta b}||}{||A \\vec{x}||}$\n",
    "\n",
    "$= \\frac{||A^{-1}\\vec{\\delta b}||}{||\\vec{x}||} \\frac{||A \\vec{x}||}{||\\vec{\\delta b}||} $\n",
    "\n",
    "$= \\frac{||A^{-1}\\vec{\\delta b}||}{||\\vec{\\delta b}||} \\frac{||A \\vec{x}||}{||\\vec{x}||} $"
   ]
  },
  {
   "cell_type": "markdown",
   "metadata": {},
   "source": [
    "The derivation proceeds using the *norm* of a matrix, the precise definition of which is temporarily deferred for flow. For certain definition of a matrix norm, $||A \\vec{x} || \\leq ||A||\\cdot ||\\vec{x}||$. The maximum ratio of relative errors is defined as the *condition number* $\\kappa$,\n",
    "\n",
    "$\\kappa = \\max\\left( \\frac{||A^{-1}\\vec{\\delta b}||}{||\\vec{\\delta b}||} \\frac{||A \\vec{x}||}{||\\vec{x}||}    \\right) $\n",
    "\n",
    "$=\\max{\\frac{||A^{-1}\\vec{\\delta b}||}{||\\vec{\\delta b}||}}  \\max{\\frac{||\\vec{b}||}{||A^{-1} \\vec{b}||}} $\n",
    "\n",
    "$\\kappa =||A^{-1}|| \\cdot ||A||$\n",
    "\n",
    "from which is it obvious that the condition number is the same for the forward and backward operation. "
   ]
  },
  {
   "cell_type": "markdown",
   "metadata": {},
   "source": [
    "### Application"
   ]
  },
  {
   "cell_type": "markdown",
   "metadata": {},
   "source": [
    "The condition number implies,\n",
    "\n",
    "$\\frac{||\\vec{\\delta b}||}{||\\vec{b}||} \\leq \\kappa \\frac{||\\vec{\\delta x}||}{||\\vec{x}||}$,\n",
    "\n",
    "but also, surprisingly, \n",
    "\n",
    "$\\frac{||\\vec{\\delta x}||}{||\\vec{x}||} \\leq \\kappa \\frac{||\\vec{\\delta b}||}{||\\vec{b}||}$!\n",
    "\n",
    "This may appear inconsistent, but one must note the role of the inequality. The condition number characterizes the distortion of the transformation, which is reversible, but which transforms uncertainty in $x$ and $b$ equivilantly.  \n"
   ]
  },
  {
   "cell_type": "markdown",
   "metadata": {},
   "source": [
    "### Actual calculation through eigenvalues (singular values)"
   ]
  },
  {
   "cell_type": "markdown",
   "metadata": {},
   "source": [
    "The formal definition of the condition number requires solution of the inverse. We would rather get the condion number *before inverting the matrix / solving the linear system* so as to predict the stability of the solution process. \n",
    "\n",
    "The maximal stretching / distortion of a matrix is (by definition) it's largest eigenvalue. The maximal stretching of the inverse is the smallest eigenvalue of the original. Therefore, through estimation of the largest and smallest eigenvalues (which can be obtained relatively efficiently), we can calculate,\n",
    "\n",
    "$\\kappa  = \\frac{\\lambda^{max}}{\\lambda^{min}}$\n",
    "\n",
    "which is an analytical result for the Euclidian ($L^2$) matrix norm."
   ]
  },
  {
   "cell_type": "markdown",
   "metadata": {},
   "source": [
    ">NB: In the literature one may encounter the term *singular value* which is a generalization of *eigenvalues* to non-suare matricies. "
   ]
  },
  {
   "cell_type": "markdown",
   "metadata": {},
   "source": [
    "### Matrix norms"
   ]
  },
  {
   "cell_type": "markdown",
   "metadata": {},
   "source": [
    "For vectors we know the magnitude (called the *norm*) is:\n",
    "$||v||  = \\sqrt{\\sum_n v_i^2} = \\sqrt{v\\cdot v}$.\n",
    "\n",
    "> In fact this is more than one type of vector norm.  In general, $||v||_p = \\sum_i \\left(v_i^p\\right) ^{1/p}$. The p=2 norm is the 'Euclidian norm', for $p\\rightarrow \\infty$,  $|v|_{\\infty} = max(v_i)$.\n",
    "\n",
    "\n"
   ]
  },
  {
   "cell_type": "markdown",
   "metadata": {},
   "source": [
    "The Euclidian / Frobenius norm is simply,\n",
    "\n",
    "$||A||_F = \\sqrt{\\sum_{i=1}^{m} \\sum_{j=1}^{n} |A_{ij}|^2}$\n",
    "\n",
    "$||A||_F = \\sqrt{A:A}$\n",
    "\n",
    "Infinity Norm (maximum row-sum norm)\n",
    "\n",
    "$||A||_\\infty = \\max_{1 \\le i \\le m} \\sum_{j=1}^{n} |A_{ij}|$\n"
   ]
  }
 ],
 "metadata": {
  "colab": {
   "authorship_tag": "ABX9TyMAKGier6wB2BKralaUrQCl",
   "collapsed_sections": [
    "nb60_VTHpyYd",
    "etE_LvnloBkb",
    "ikVv8nAIbuJH"
   ],
   "include_colab_link": true,
   "provenance": [],
   "toc_visible": true
  },
  "kernelspec": {
   "display_name": "Python 3",
   "language": "python",
   "name": "python3"
  },
  "language_info": {
   "codemirror_mode": {
    "name": "ipython",
    "version": 3
   },
   "file_extension": ".py",
   "mimetype": "text/x-python",
   "name": "python",
   "nbconvert_exporter": "python",
   "pygments_lexer": "ipython3",
   "version": "3.12.3"
  }
 },
 "nbformat": 4,
 "nbformat_minor": 0
}
