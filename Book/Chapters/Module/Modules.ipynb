{
 "cells": [
  {
   "cell_type": "markdown",
   "id": "b584c540",
   "metadata": {},
   "source": [
    "# Importable Modules"
   ]
  }
 ],
 "metadata": {
  "language_info": {
   "name": "python"
  }
 },
 "nbformat": 4,
 "nbformat_minor": 5
}
