{
 "cells": [
  {
   "cell_type": "markdown",
   "id": "b584c540",
   "metadata": {},
   "source": [
    "# Importable Modules\n",
    "* Linear Solver"
   ]
  },
  {
   "cell_type": "code",
   "execution_count": null,
   "id": "91d015e5",
   "metadata": {},
   "outputs": [],
   "source": [
    "from module import LinearSystemSolverNotebook\n",
    "\n",
    "LinearSystemSolverNotebook()"
   ]
  }
 ],
 "metadata": {
  "language_info": {
   "name": "python"
  }
 },
 "nbformat": 4,
 "nbformat_minor": 5
}
